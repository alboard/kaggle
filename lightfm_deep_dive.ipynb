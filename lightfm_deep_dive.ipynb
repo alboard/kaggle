{
  "cells": [
    {
      "cell_type": "markdown",
      "metadata": {
        "id": "view-in-github",
        "colab_type": "text"
      },
      "source": [
        "<a href=\"https://colab.research.google.com/github/alboard/kaggle/blob/alboard-patch-1/lightfm_deep_dive.ipynb\" target=\"_parent\"><img src=\"https://colab.research.google.com/assets/colab-badge.svg\" alt=\"Open In Colab\"/></a>"
      ]
    },
    {
      "cell_type": "markdown",
      "metadata": {
        "id": "8zqiwWTW2PEq"
      },
      "source": [
        "<i>Copyright (c) Microsoft Corporation. All rights reserved.</i>\n",
        "\n",
        "<i>Licensed under the MIT License.</i>"
      ]
    },
    {
      "cell_type": "markdown",
      "metadata": {
        "id": "HpkqZkSS2PEt"
      },
      "source": [
        "# LightFM -  hybrid matrix factorisation on MovieLens (Python, CPU)"
      ]
    },
    {
      "cell_type": "markdown",
      "metadata": {
        "id": "LJBBvnOJ2PEu"
      },
      "source": [
        "This notebook explains the concept of a hybrid matrix factorisation based model for recommendation, it also outlines the steps to construct a pure matrix factorisation and a hybrid models using the [LightFM](https://github.com/lyst/lightfm) package. It also demonstrates how to extract both user and item affinity from a fitted hybrid model.\n",
        "\n",
        "## 1. Hybrid matrix factorisation model\n",
        "\n",
        "### 1.1 Background\n",
        "\n",
        "In general, most recommendation models can be divided into two categories:\n",
        "- Content based model,\n",
        "- Collaborative filtering model.\n",
        "\n",
        "The content-based model recommends based on similarity of the items and/or users using their description/metadata/profile. On the other hand, collaborative filtering model (discussion is limited to matrix factorisation approach in this notebook) computes the latent factors of the users and items. It works based on the assumption that if a group of people expressed similar opinions on an item, these peole would tend to have similar opinions on other items. For further background and detailed explanation between these two approaches, the reader can refer to machine learning literatures [3, 4].\n",
        "\n",
        "The choice between the two models is largely based on the data availability. For example, the collaborative filtering model is usually adopted and effective when sufficient ratings/feedbacks have been recorded for a group of users and items.\n",
        "\n",
        "However, if there is a lack of ratings, content based model can be used provided that the metadata of the users and items are available. This is also the common approach to address the cold-start issues, where there are insufficient historical collaborative interactions available to model new users and/or items.\n",
        "\n",
        "<!-- In addition, most collaborative filtering models only consume explicit ratings e.g. movie \n",
        "\n",
        "**NOTE** add stuff about implicit and explicit ratings -->\n",
        "\n",
        "### 1.2 Hybrid matrix factorisation algorithm\n",
        "\n",
        "In view of the above problems, there have been a number of proposals to address the cold-start issues by combining both content-based and collaborative filtering approaches. The hybrid matrix factorisation model is among one of the solutions proposed [1].  \n",
        "\n",
        "In general, most hybrid approaches proposed different ways of assessing and/or combining the feature data in conjunction with the collaborative information.\n",
        "\n",
        "### 1.3 LightFM package \n",
        "\n",
        "LightFM is a Python implementation of a hybrid recommendation algorithms for both implicit and explicit feedbacks [1].\n",
        "\n",
        "It is a hybrid content-collaborative model which represents users and items as linear combinations of their content features’ latent factors. The model learns **embeddings or latent representations of the users and items in such a way that it encodes user preferences over items**. These representations produce scores for every item for a given user; items scored highly are more likely to be interesting to the user.\n",
        "\n",
        "The user and item embeddings are estimated for every feature, and these features are then added together to be the final representations for users and items. \n",
        "\n",
        "For example, for user i, the model retrieves the i-th row of the feature matrix to find the features with non-zero weights. The embeddings for these features will then be added together to become the user representation e.g. if user 10 has weight 1 in the 5th column of the user feature matrix, and weight 3 in the 20th column, the user 10’s representation is the sum of embedding for the 5th and the 20th features multiplying their corresponding weights. The representation for each items is computed in the same approach. \n",
        "\n",
        "#### 1.3.1 Modelling approach\n",
        "\n",
        "Let $U$ be the set of users and $I$ be the set of items, and each user can be described by a set of user features $f_{u} \\subset F^{U}$ whilst each items can be described by item features $f_{i} \\subset F^{I}$. Both $F^{U}$ and $F^{I}$ are all the features which fully describe all users and items. \n",
        "\n",
        "The LightFM model operates based binary feedbacks, the ratings will be normalised into two groups. The user-item interaction pairs $(u,i) \\in U\\times I$ are the union of positive (favourable reviews) $S^+$ and negative interactions (negative reviews) $S^-$ for explicit ratings. For implicit feedbacks, these can be the observed and not observed interactions respectively.\n",
        "\n",
        "For each user and item feature, their embeddings are $e_{f}^{U}$ and $e_{f}^{I}$ respectively. Furthermore, each feature is also has a scalar bias term ($b_U^f$ for user and $b_I^f$ for item features). The embedding (latent representation) of user $u$ and item $i$ are the sum of its respective features’ latent vectors:\n",
        "\n",
        "$$ \n",
        "q_{u} = \\sum_{j \\in f_{u}} e_{j}^{U}\n",
        "$$\n",
        "\n",
        "$$\n",
        "p_{i} = \\sum_{j \\in f_{i}} e_{j}^{I}\n",
        "$$\n",
        "\n",
        "Similarly the biases for user $u$ and item $i$ are the sum of its respective bias vectors. These variables capture the variation in behaviour across users and items:\n",
        "\n",
        "$$\n",
        "b_{u} = \\sum_{j \\in f_{u}} b_{j}^{U}\n",
        "$$\n",
        "\n",
        "$$\n",
        "b_{i} = \\sum_{j \\in f_{i}} b_{j}^{I}\n",
        "$$\n",
        "\n",
        "In LightFM, the representation for each user/item is a linear weighted sum of its feature vectors.\n",
        "\n",
        "The prediction for user $u$ and item $i$ can be modelled as sigmoid of the dot product of user and item vectors, adjusted by its feature biases as follows:\n",
        "\n",
        "$$\n",
        "\\hat{r}_{ui} = \\sigma (q_{u} \\cdot p_{i} + b_{u} + b_{i})\n",
        "$$\n",
        "\n",
        "As the LightFM is constructed to predict binary outcomes e.g. $S^+$ and $S^-$, the function $\\sigma()$ is based on the [sigmoid function](https://mathworld.wolfram.com/SigmoidFunction.html). \n",
        "\n",
        "The LightFM algorithm estimates interaction latent vectors and bias for features. For model fitting, the cost function of the model consists of maximising the likelihood of data conditional on the parameters described above using stochastic gradient descent. The likelihood can be expressed as follows:\n",
        "\n",
        "$$\n",
        "L = \\prod_{(u,i) \\in S+}\\hat{r}_{ui} \\times \\prod_{(u,i) \\in S-}1 - \\hat{r}_{ui}\n",
        "$$\n",
        "\n",
        "Note that if the feature latent vectors are not available, the algorithm will behaves like a [logistic matrix factorisation model](http://stanford.edu/~rezab/nips2014workshop/submits/logmat.pdf)."
      ]
    },
    {
      "cell_type": "markdown",
      "metadata": {
        "id": "of8X7OJZ2PEw"
      },
      "source": [
        "## 2. Movie recommender with LightFM using only explicit feedbacks"
      ]
    },
    {
      "cell_type": "code",
      "source": [
        "!pip install lightfm\n",
        "!pip install git+https://github.com/microsoft/recommenders@98d661edc6a9965c7f42b76dc5317af3ae74d5e0#egg=recommenders\n"
      ],
      "metadata": {
        "colab": {
          "base_uri": "https://localhost:8080/"
        },
        "id": "mTJ8x3Su3TK0",
        "outputId": "b92d9482-58e6-4d8d-b337-b9990e481dab"
      },
      "execution_count": 2,
      "outputs": [
        {
          "output_type": "stream",
          "name": "stdout",
          "text": [
            "Requirement already satisfied: lightfm in /usr/local/lib/python3.7/dist-packages (1.16)\n",
            "Requirement already satisfied: scikit-learn in /usr/local/lib/python3.7/dist-packages (from lightfm) (0.24.2)\n",
            "Requirement already satisfied: numpy in /usr/local/lib/python3.7/dist-packages (from lightfm) (1.21.5)\n",
            "Requirement already satisfied: scipy>=0.17.0 in /usr/local/lib/python3.7/dist-packages (from lightfm) (1.4.1)\n",
            "Requirement already satisfied: requests in /usr/local/lib/python3.7/dist-packages (from lightfm) (2.23.0)\n",
            "Requirement already satisfied: certifi>=2017.4.17 in /usr/local/lib/python3.7/dist-packages (from requests->lightfm) (2021.10.8)\n",
            "Requirement already satisfied: chardet<4,>=3.0.2 in /usr/local/lib/python3.7/dist-packages (from requests->lightfm) (3.0.4)\n",
            "Requirement already satisfied: urllib3!=1.25.0,!=1.25.1,<1.26,>=1.21.1 in /usr/local/lib/python3.7/dist-packages (from requests->lightfm) (1.24.3)\n",
            "Requirement already satisfied: idna<3,>=2.5 in /usr/local/lib/python3.7/dist-packages (from requests->lightfm) (2.10)\n",
            "Requirement already satisfied: joblib>=0.11 in /usr/local/lib/python3.7/dist-packages (from scikit-learn->lightfm) (1.1.0)\n",
            "Requirement already satisfied: threadpoolctl>=2.0.0 in /usr/local/lib/python3.7/dist-packages (from scikit-learn->lightfm) (3.1.0)\n",
            "Collecting recommenders\n",
            "  Using cached recommenders-0.6.0-py3-none-any.whl\n",
            "Requirement already satisfied: matplotlib<4,>=2.2.2 in /usr/local/lib/python3.7/dist-packages (from recommenders) (3.2.2)\n",
            "Requirement already satisfied: transformers<5,>=2.5.0 in /usr/local/lib/python3.7/dist-packages (from recommenders) (4.18.0)\n",
            "Requirement already satisfied: jinja2<3,>=2 in /usr/local/lib/python3.7/dist-packages (from recommenders) (2.11.3)\n",
            "Requirement already satisfied: lightgbm<3,>=2.2.1 in /usr/local/lib/python3.7/dist-packages (from recommenders) (2.2.3)\n",
            "Requirement already satisfied: memory-profiler<1,>=0.54.0 in /usr/local/lib/python3.7/dist-packages (from recommenders) (0.60.0)\n",
            "Requirement already satisfied: pyyaml<6,>=5.4.1 in /usr/local/lib/python3.7/dist-packages (from recommenders) (5.4.1)\n",
            "Requirement already satisfied: scipy<2,>=1.0.0 in /usr/local/lib/python3.7/dist-packages (from recommenders) (1.4.1)\n",
            "Requirement already satisfied: numpy>=1.14 in /usr/local/lib/python3.7/dist-packages (from recommenders) (1.21.5)\n",
            "Requirement already satisfied: bottleneck<2,>=1.2.1 in /usr/local/lib/python3.7/dist-packages (from recommenders) (1.3.4)\n",
            "Requirement already satisfied: pymanopt<1,>=0.2.5 in /usr/local/lib/python3.7/dist-packages (from recommenders) (0.2.5)\n",
            "Requirement already satisfied: pydocumentdb>=2.3.3<3 in /usr/local/lib/python3.7/dist-packages (from recommenders) (2.3.5)\n",
            "Requirement already satisfied: seaborn<1,>=0.8.1 in /usr/local/lib/python3.7/dist-packages (from recommenders) (0.11.2)\n",
            "Requirement already satisfied: tqdm<5,>=4.31.1 in /usr/local/lib/python3.7/dist-packages (from recommenders) (4.64.0)\n",
            "Requirement already satisfied: nltk<4,>=3.4 in /usr/local/lib/python3.7/dist-packages (from recommenders) (3.7)\n",
            "Requirement already satisfied: category-encoders<2,>=1.3.0 in /usr/local/lib/python3.7/dist-packages (from recommenders) (1.3.0)\n",
            "Requirement already satisfied: lightfm<2,>=1.15 in /usr/local/lib/python3.7/dist-packages (from recommenders) (1.16)\n",
            "Requirement already satisfied: requests<3,>=2.0.0 in /usr/local/lib/python3.7/dist-packages (from recommenders) (2.23.0)\n",
            "Requirement already satisfied: scikit-learn<1,>=0.22.1 in /usr/local/lib/python3.7/dist-packages (from recommenders) (0.24.2)\n",
            "Requirement already satisfied: retrying>=1.3.3 in /usr/local/lib/python3.7/dist-packages (from recommenders) (1.3.3)\n",
            "Requirement already satisfied: scikit-surprise<=1.1.1,>=0.19.1 in /usr/local/lib/python3.7/dist-packages (from recommenders) (1.1.1)\n",
            "Requirement already satisfied: numba<1,>=0.38.1 in /usr/local/lib/python3.7/dist-packages (from recommenders) (0.51.2)\n",
            "Requirement already satisfied: pandas<2,>1.0.3 in /usr/local/lib/python3.7/dist-packages (from recommenders) (1.3.5)\n",
            "Requirement already satisfied: cornac<2,>=1.1.2 in /usr/local/lib/python3.7/dist-packages (from recommenders) (1.14.2)\n",
            "Requirement already satisfied: patsy>=0.4.1 in /usr/local/lib/python3.7/dist-packages (from category-encoders<2,>=1.3.0->recommenders) (0.5.2)\n",
            "Requirement already satisfied: statsmodels>=0.6.1 in /usr/local/lib/python3.7/dist-packages (from category-encoders<2,>=1.3.0->recommenders) (0.10.2)\n",
            "Requirement already satisfied: powerlaw in /usr/local/lib/python3.7/dist-packages (from cornac<2,>=1.1.2->recommenders) (1.5)\n",
            "Requirement already satisfied: MarkupSafe>=0.23 in /usr/local/lib/python3.7/dist-packages (from jinja2<3,>=2->recommenders) (2.0.1)\n",
            "Requirement already satisfied: pyparsing!=2.0.4,!=2.1.2,!=2.1.6,>=2.0.1 in /usr/local/lib/python3.7/dist-packages (from matplotlib<4,>=2.2.2->recommenders) (3.0.8)\n",
            "Requirement already satisfied: python-dateutil>=2.1 in /usr/local/lib/python3.7/dist-packages (from matplotlib<4,>=2.2.2->recommenders) (2.8.2)\n",
            "Requirement already satisfied: cycler>=0.10 in /usr/local/lib/python3.7/dist-packages (from matplotlib<4,>=2.2.2->recommenders) (0.11.0)\n",
            "Requirement already satisfied: kiwisolver>=1.0.1 in /usr/local/lib/python3.7/dist-packages (from matplotlib<4,>=2.2.2->recommenders) (1.4.2)\n",
            "Requirement already satisfied: typing-extensions in /usr/local/lib/python3.7/dist-packages (from kiwisolver>=1.0.1->matplotlib<4,>=2.2.2->recommenders) (4.1.1)\n",
            "Requirement already satisfied: psutil in /usr/local/lib/python3.7/dist-packages (from memory-profiler<1,>=0.54.0->recommenders) (5.4.8)\n",
            "Requirement already satisfied: joblib in /usr/local/lib/python3.7/dist-packages (from nltk<4,>=3.4->recommenders) (1.1.0)\n",
            "Requirement already satisfied: click in /usr/local/lib/python3.7/dist-packages (from nltk<4,>=3.4->recommenders) (7.1.2)\n",
            "Requirement already satisfied: regex>=2021.8.3 in /usr/local/lib/python3.7/dist-packages (from nltk<4,>=3.4->recommenders) (2022.3.15)\n",
            "Requirement already satisfied: llvmlite<0.35,>=0.34.0.dev0 in /usr/local/lib/python3.7/dist-packages (from numba<1,>=0.38.1->recommenders) (0.34.0)\n",
            "Requirement already satisfied: setuptools in /usr/local/lib/python3.7/dist-packages (from numba<1,>=0.38.1->recommenders) (57.4.0)\n",
            "Requirement already satisfied: pytz>=2017.3 in /usr/local/lib/python3.7/dist-packages (from pandas<2,>1.0.3->recommenders) (2018.9)\n",
            "Requirement already satisfied: six in /usr/local/lib/python3.7/dist-packages (from patsy>=0.4.1->category-encoders<2,>=1.3.0->recommenders) (1.15.0)\n",
            "Requirement already satisfied: urllib3!=1.25.0,!=1.25.1,<1.26,>=1.21.1 in /usr/local/lib/python3.7/dist-packages (from requests<3,>=2.0.0->recommenders) (1.24.3)\n",
            "Requirement already satisfied: idna<3,>=2.5 in /usr/local/lib/python3.7/dist-packages (from requests<3,>=2.0.0->recommenders) (2.10)\n",
            "Requirement already satisfied: certifi>=2017.4.17 in /usr/local/lib/python3.7/dist-packages (from requests<3,>=2.0.0->recommenders) (2021.10.8)\n",
            "Requirement already satisfied: chardet<4,>=3.0.2 in /usr/local/lib/python3.7/dist-packages (from requests<3,>=2.0.0->recommenders) (3.0.4)\n",
            "Requirement already satisfied: threadpoolctl>=2.0.0 in /usr/local/lib/python3.7/dist-packages (from scikit-learn<1,>=0.22.1->recommenders) (3.1.0)\n",
            "Requirement already satisfied: filelock in /usr/local/lib/python3.7/dist-packages (from transformers<5,>=2.5.0->recommenders) (3.6.0)\n",
            "Requirement already satisfied: huggingface-hub<1.0,>=0.1.0 in /usr/local/lib/python3.7/dist-packages (from transformers<5,>=2.5.0->recommenders) (0.5.1)\n",
            "Requirement already satisfied: sacremoses in /usr/local/lib/python3.7/dist-packages (from transformers<5,>=2.5.0->recommenders) (0.0.49)\n",
            "Requirement already satisfied: tokenizers!=0.11.3,<0.13,>=0.11.1 in /usr/local/lib/python3.7/dist-packages (from transformers<5,>=2.5.0->recommenders) (0.12.1)\n",
            "Requirement already satisfied: packaging>=20.0 in /usr/local/lib/python3.7/dist-packages (from transformers<5,>=2.5.0->recommenders) (21.3)\n",
            "Requirement already satisfied: importlib-metadata in /usr/local/lib/python3.7/dist-packages (from transformers<5,>=2.5.0->recommenders) (4.11.3)\n",
            "Requirement already satisfied: zipp>=0.5 in /usr/local/lib/python3.7/dist-packages (from importlib-metadata->transformers<5,>=2.5.0->recommenders) (3.8.0)\n",
            "Requirement already satisfied: mpmath in /usr/local/lib/python3.7/dist-packages (from powerlaw->cornac<2,>=1.1.2->recommenders) (1.2.1)\n"
          ]
        }
      ]
    },
    {
      "cell_type": "markdown",
      "metadata": {
        "id": "tBaHAY7E2PEw"
      },
      "source": [
        "### 2.1 Import libraries"
      ]
    },
    {
      "cell_type": "code",
      "execution_count": 3,
      "metadata": {
        "colab": {
          "base_uri": "https://localhost:8080/"
        },
        "id": "14dDfeXT2PEw",
        "outputId": "172df862-33f7-4e36-99df-71a9007f19fb"
      },
      "outputs": [
        {
          "output_type": "stream",
          "name": "stdout",
          "text": [
            "System version: 3.7.13 (default, Mar 16 2022, 17:37:17) \n",
            "[GCC 7.5.0]\n",
            "LightFM version: 1.16\n"
          ]
        }
      ],
      "source": [
        "import sys\n",
        "import os\n",
        "\n",
        "import itertools\n",
        "import pandas as pd\n",
        "import numpy as np\n",
        "import matplotlib.pyplot as plt\n",
        "import seaborn as sns\n",
        "\n",
        "import lightfm\n",
        "from lightfm import LightFM\n",
        "from lightfm.data import Dataset\n",
        "from lightfm import cross_validation\n",
        "\n",
        "# Import LightFM's evaluation metrics\n",
        "from lightfm.evaluation import precision_at_k as lightfm_prec_at_k\n",
        "from lightfm.evaluation import recall_at_k as lightfm_recall_at_k\n",
        "\n",
        "# Import repo's evaluation metrics\n",
        "from recommenders.evaluation.python_evaluation import (\n",
        "    precision_at_k, recall_at_k)\n",
        "\n",
        "from recommenders.utils.timer import Timer\n",
        "from recommenders.datasets import movielens\n",
        "from recommenders.models.lightfm.lightfm_utils import (\n",
        "    track_model_metrics, prepare_test_df, prepare_all_predictions,\n",
        "    compare_metric, similar_users, similar_items)\n",
        "\n",
        "print(\"System version: {}\".format(sys.version))\n",
        "print(\"LightFM version: {}\".format(lightfm.__version__))"
      ]
    },
    {
      "cell_type": "markdown",
      "metadata": {
        "id": "J6Onjbju2PEy"
      },
      "source": [
        "### 2.2 Defining variables"
      ]
    },
    {
      "cell_type": "code",
      "execution_count": 4,
      "metadata": {
        "tags": [
          "parameters"
        ],
        "id": "KpO4_OkB2PEz"
      },
      "outputs": [],
      "source": [
        "# Select MovieLens data size\n",
        "MOVIELENS_DATA_SIZE = '100k'\n",
        "\n",
        "# default number of recommendations\n",
        "K = 10\n",
        "# percentage of data used for testing\n",
        "TEST_PERCENTAGE = 0.25\n",
        "# model learning rate\n",
        "LEARNING_RATE = 0.25\n",
        "# no of latent factors\n",
        "NO_COMPONENTS = 20\n",
        "# no of epochs to fit model\n",
        "NO_EPOCHS = 20\n",
        "# no of threads to fit model\n",
        "NO_THREADS = 32\n",
        "# regularisation for both user and item features\n",
        "ITEM_ALPHA=1e-6\n",
        "USER_ALPHA=1e-6\n",
        "\n",
        "# seed for pseudonumber generations\n",
        "SEEDNO = 42"
      ]
    },
    {
      "cell_type": "markdown",
      "metadata": {
        "id": "DnVYIpXM2PEz"
      },
      "source": [
        "### 2.2 Retrieve data"
      ]
    },
    {
      "cell_type": "code",
      "execution_count": 5,
      "metadata": {
        "scrolled": true,
        "colab": {
          "base_uri": "https://localhost:8080/",
          "height": 224
        },
        "id": "z2ZvHeiB2PEz",
        "outputId": "5eb1465f-f944-4560-9f33-3493ebbcad03"
      },
      "outputs": [
        {
          "output_type": "stream",
          "name": "stderr",
          "text": [
            "100%|██████████| 4.81k/4.81k [00:00<00:00, 5.82kKB/s]\n"
          ]
        },
        {
          "output_type": "execute_result",
          "data": {
            "text/plain": [
              "       userID  itemID  rating                               genre\n",
              "16589      85     132     5.0  Adventure|Children's|Drama|Musical\n",
              "8044      725     322     4.0                    Mystery|Thriller\n",
              "76980     280     527     5.0                               Drama\n",
              "71386      60      59     5.0                               Drama\n",
              "54494     387     943     4.0                            Thriller"
            ],
            "text/html": [
              "\n",
              "  <div id=\"df-1d13979c-7f0c-4975-91e2-d890f75d723f\">\n",
              "    <div class=\"colab-df-container\">\n",
              "      <div>\n",
              "<style scoped>\n",
              "    .dataframe tbody tr th:only-of-type {\n",
              "        vertical-align: middle;\n",
              "    }\n",
              "\n",
              "    .dataframe tbody tr th {\n",
              "        vertical-align: top;\n",
              "    }\n",
              "\n",
              "    .dataframe thead th {\n",
              "        text-align: right;\n",
              "    }\n",
              "</style>\n",
              "<table border=\"1\" class=\"dataframe\">\n",
              "  <thead>\n",
              "    <tr style=\"text-align: right;\">\n",
              "      <th></th>\n",
              "      <th>userID</th>\n",
              "      <th>itemID</th>\n",
              "      <th>rating</th>\n",
              "      <th>genre</th>\n",
              "    </tr>\n",
              "  </thead>\n",
              "  <tbody>\n",
              "    <tr>\n",
              "      <th>16589</th>\n",
              "      <td>85</td>\n",
              "      <td>132</td>\n",
              "      <td>5.0</td>\n",
              "      <td>Adventure|Children's|Drama|Musical</td>\n",
              "    </tr>\n",
              "    <tr>\n",
              "      <th>8044</th>\n",
              "      <td>725</td>\n",
              "      <td>322</td>\n",
              "      <td>4.0</td>\n",
              "      <td>Mystery|Thriller</td>\n",
              "    </tr>\n",
              "    <tr>\n",
              "      <th>76980</th>\n",
              "      <td>280</td>\n",
              "      <td>527</td>\n",
              "      <td>5.0</td>\n",
              "      <td>Drama</td>\n",
              "    </tr>\n",
              "    <tr>\n",
              "      <th>71386</th>\n",
              "      <td>60</td>\n",
              "      <td>59</td>\n",
              "      <td>5.0</td>\n",
              "      <td>Drama</td>\n",
              "    </tr>\n",
              "    <tr>\n",
              "      <th>54494</th>\n",
              "      <td>387</td>\n",
              "      <td>943</td>\n",
              "      <td>4.0</td>\n",
              "      <td>Thriller</td>\n",
              "    </tr>\n",
              "  </tbody>\n",
              "</table>\n",
              "</div>\n",
              "      <button class=\"colab-df-convert\" onclick=\"convertToInteractive('df-1d13979c-7f0c-4975-91e2-d890f75d723f')\"\n",
              "              title=\"Convert this dataframe to an interactive table.\"\n",
              "              style=\"display:none;\">\n",
              "        \n",
              "  <svg xmlns=\"http://www.w3.org/2000/svg\" height=\"24px\"viewBox=\"0 0 24 24\"\n",
              "       width=\"24px\">\n",
              "    <path d=\"M0 0h24v24H0V0z\" fill=\"none\"/>\n",
              "    <path d=\"M18.56 5.44l.94 2.06.94-2.06 2.06-.94-2.06-.94-.94-2.06-.94 2.06-2.06.94zm-11 1L8.5 8.5l.94-2.06 2.06-.94-2.06-.94L8.5 2.5l-.94 2.06-2.06.94zm10 10l.94 2.06.94-2.06 2.06-.94-2.06-.94-.94-2.06-.94 2.06-2.06.94z\"/><path d=\"M17.41 7.96l-1.37-1.37c-.4-.4-.92-.59-1.43-.59-.52 0-1.04.2-1.43.59L10.3 9.45l-7.72 7.72c-.78.78-.78 2.05 0 2.83L4 21.41c.39.39.9.59 1.41.59.51 0 1.02-.2 1.41-.59l7.78-7.78 2.81-2.81c.8-.78.8-2.07 0-2.86zM5.41 20L4 18.59l7.72-7.72 1.47 1.35L5.41 20z\"/>\n",
              "  </svg>\n",
              "      </button>\n",
              "      \n",
              "  <style>\n",
              "    .colab-df-container {\n",
              "      display:flex;\n",
              "      flex-wrap:wrap;\n",
              "      gap: 12px;\n",
              "    }\n",
              "\n",
              "    .colab-df-convert {\n",
              "      background-color: #E8F0FE;\n",
              "      border: none;\n",
              "      border-radius: 50%;\n",
              "      cursor: pointer;\n",
              "      display: none;\n",
              "      fill: #1967D2;\n",
              "      height: 32px;\n",
              "      padding: 0 0 0 0;\n",
              "      width: 32px;\n",
              "    }\n",
              "\n",
              "    .colab-df-convert:hover {\n",
              "      background-color: #E2EBFA;\n",
              "      box-shadow: 0px 1px 2px rgba(60, 64, 67, 0.3), 0px 1px 3px 1px rgba(60, 64, 67, 0.15);\n",
              "      fill: #174EA6;\n",
              "    }\n",
              "\n",
              "    [theme=dark] .colab-df-convert {\n",
              "      background-color: #3B4455;\n",
              "      fill: #D2E3FC;\n",
              "    }\n",
              "\n",
              "    [theme=dark] .colab-df-convert:hover {\n",
              "      background-color: #434B5C;\n",
              "      box-shadow: 0px 1px 3px 1px rgba(0, 0, 0, 0.15);\n",
              "      filter: drop-shadow(0px 1px 2px rgba(0, 0, 0, 0.3));\n",
              "      fill: #FFFFFF;\n",
              "    }\n",
              "  </style>\n",
              "\n",
              "      <script>\n",
              "        const buttonEl =\n",
              "          document.querySelector('#df-1d13979c-7f0c-4975-91e2-d890f75d723f button.colab-df-convert');\n",
              "        buttonEl.style.display =\n",
              "          google.colab.kernel.accessAllowed ? 'block' : 'none';\n",
              "\n",
              "        async function convertToInteractive(key) {\n",
              "          const element = document.querySelector('#df-1d13979c-7f0c-4975-91e2-d890f75d723f');\n",
              "          const dataTable =\n",
              "            await google.colab.kernel.invokeFunction('convertToInteractive',\n",
              "                                                     [key], {});\n",
              "          if (!dataTable) return;\n",
              "\n",
              "          const docLinkHtml = 'Like what you see? Visit the ' +\n",
              "            '<a target=\"_blank\" href=https://colab.research.google.com/notebooks/data_table.ipynb>data table notebook</a>'\n",
              "            + ' to learn more about interactive tables.';\n",
              "          element.innerHTML = '';\n",
              "          dataTable['output_type'] = 'display_data';\n",
              "          await google.colab.output.renderOutput(dataTable, element);\n",
              "          const docLink = document.createElement('div');\n",
              "          docLink.innerHTML = docLinkHtml;\n",
              "          element.appendChild(docLink);\n",
              "        }\n",
              "      </script>\n",
              "    </div>\n",
              "  </div>\n",
              "  "
            ]
          },
          "metadata": {},
          "execution_count": 5
        }
      ],
      "source": [
        "data = movielens.load_pandas_df(\n",
        "    size=MOVIELENS_DATA_SIZE,\n",
        "    genres_col='genre',\n",
        "    header=[\"userID\", \"itemID\", \"rating\"]\n",
        ")\n",
        "# quick look at the data\n",
        "data.sample(5)"
      ]
    },
    {
      "cell_type": "markdown",
      "metadata": {
        "id": "OBjXzAxf2PE0"
      },
      "source": [
        "### 2.3 Prepare data"
      ]
    },
    {
      "cell_type": "markdown",
      "metadata": {
        "id": "IqPogx8J2PE0"
      },
      "source": [
        "Before fitting the LightFM model, we need to create an instance of `Dataset` which holds the interaction matrix."
      ]
    },
    {
      "cell_type": "code",
      "execution_count": 6,
      "metadata": {
        "id": "U-B8U2H12PE0"
      },
      "outputs": [],
      "source": [
        "dataset = Dataset()"
      ]
    },
    {
      "cell_type": "markdown",
      "metadata": {
        "id": "HG5pMZyg2PE0"
      },
      "source": [
        "The `fit` method creates the user/item id mappings."
      ]
    },
    {
      "cell_type": "code",
      "execution_count": 7,
      "metadata": {
        "colab": {
          "base_uri": "https://localhost:8080/"
        },
        "id": "wMpY1c_i2PE1",
        "outputId": "af1692f0-6520-4ef3-9a60-7b9630459747"
      },
      "outputs": [
        {
          "output_type": "stream",
          "name": "stdout",
          "text": [
            "Num users: 943, num_topics: 1682.\n"
          ]
        }
      ],
      "source": [
        "dataset.fit(users=data['userID'], \n",
        "            items=data['itemID'])\n",
        "\n",
        "# quick check to determine the number of unique users and items in the data\n",
        "num_users, num_topics = dataset.interactions_shape()\n",
        "print(f'Num users: {num_users}, num_topics: {num_topics}.')"
      ]
    },
    {
      "cell_type": "markdown",
      "metadata": {
        "id": "I2lcVzzF2PE1"
      },
      "source": [
        "Next is to build the interaction matrix. The `build_interactions` method returns 2 COO sparse matrices, namely the `interactions` and `weights` matrices."
      ]
    },
    {
      "cell_type": "code",
      "execution_count": 8,
      "metadata": {
        "id": "YrSsND4O2PE1"
      },
      "outputs": [],
      "source": [
        "(interactions, weights) = dataset.build_interactions(data.iloc[:, 0:3].values)"
      ]
    },
    {
      "cell_type": "markdown",
      "metadata": {
        "id": "sXj4nJwl2PE1"
      },
      "source": [
        "LightLM works slightly differently compared to other packages as it expects the train and test sets to have same dimension. Therefore the conventional train test split will not work.\n",
        "\n",
        "The package has included the `cross_validation.random_train_test_split` method to split the interaction data and splits it into two disjoint training and test sets. \n",
        "\n",
        "However, note that **it does not validate the interactions in the test set to guarantee all items and users have historical interactions in the training set**. Therefore this may result into a partial cold-start problem in the test set."
      ]
    },
    {
      "cell_type": "code",
      "execution_count": 9,
      "metadata": {
        "id": "zWPJYM8z2PE2"
      },
      "outputs": [],
      "source": [
        "train_interactions, test_interactions = cross_validation.random_train_test_split(\n",
        "    interactions, test_percentage=TEST_PERCENTAGE,\n",
        "    random_state=np.random.RandomState(SEEDNO))"
      ]
    },
    {
      "cell_type": "markdown",
      "metadata": {
        "id": "PmdoDFiq2PE2"
      },
      "source": [
        "Double check the size of both the train and test sets."
      ]
    },
    {
      "cell_type": "code",
      "execution_count": 10,
      "metadata": {
        "colab": {
          "base_uri": "https://localhost:8080/"
        },
        "id": "jYVCh-vL2PE2",
        "outputId": "44db73f9-c93b-4636-e2b0-5fcf464bc6c9"
      },
      "outputs": [
        {
          "output_type": "stream",
          "name": "stdout",
          "text": [
            "Shape of train interactions: (943, 1682)\n",
            "Shape of test interactions: (943, 1682)\n"
          ]
        }
      ],
      "source": [
        "print(f\"Shape of train interactions: {train_interactions.shape}\")\n",
        "print(f\"Shape of test interactions: {test_interactions.shape}\")"
      ]
    },
    {
      "cell_type": "markdown",
      "metadata": {
        "id": "LI5Hr_CJ2PE2"
      },
      "source": [
        "### 2.4 Fit the LightFM model"
      ]
    },
    {
      "cell_type": "markdown",
      "metadata": {
        "id": "FnKtvsec2PE2"
      },
      "source": [
        "In this notebook, the LightFM model will be using the weighted Approximate-Rank Pairwise (WARP) as the loss. Further explanation on the topic can be found [here](https://making.lyst.com/lightfm/docs/examples/warp_loss.html#learning-to-rank-using-the-warp-loss).\n",
        "\n",
        "\n",
        "In general, it maximises the rank of positive examples by repeatedly sampling negative examples until a rank violation has been located. This approach is recommended when only positive interactions are present."
      ]
    },
    {
      "cell_type": "code",
      "execution_count": 11,
      "metadata": {
        "scrolled": true,
        "id": "XVWLDIaK2PE2"
      },
      "outputs": [],
      "source": [
        "model1 = LightFM(loss='warp', no_components=NO_COMPONENTS, \n",
        "                 learning_rate=LEARNING_RATE,                 \n",
        "                 random_state=np.random.RandomState(SEEDNO))"
      ]
    },
    {
      "cell_type": "markdown",
      "metadata": {
        "id": "_kHqDA692PE3"
      },
      "source": [
        "The LightFM model can be fitted with the following code:"
      ]
    },
    {
      "cell_type": "code",
      "execution_count": 12,
      "metadata": {
        "id": "qenMEE0r2PE3"
      },
      "outputs": [],
      "source": [
        "model1.fit(interactions=train_interactions,\n",
        "          epochs=NO_EPOCHS);"
      ]
    },
    {
      "cell_type": "markdown",
      "metadata": {
        "id": "ePnM3-e82PE3"
      },
      "source": [
        "### 2.5 Prepare model evaluation data"
      ]
    },
    {
      "cell_type": "markdown",
      "metadata": {
        "id": "zlOi_LzN2PE3"
      },
      "source": [
        "Before we can evaluate the fitted model and to get the data into a format which is compatible with the existing evaluation methods within this repo, the data needs to be massaged slightly.\n",
        "\n",
        "First the train/test indices need to be extracted from the `lightfm.cross_validation` method as follows:"
      ]
    },
    {
      "cell_type": "code",
      "execution_count": 13,
      "metadata": {
        "id": "xPbBbKH32PE3"
      },
      "outputs": [],
      "source": [
        "uids, iids, interaction_data = cross_validation._shuffle(\n",
        "    interactions.row, interactions.col, interactions.data, \n",
        "    random_state=np.random.RandomState(SEEDNO))\n",
        "\n",
        "cutoff = int((1.0 - TEST_PERCENTAGE) * len(uids))\n",
        "test_idx = slice(cutoff, None)"
      ]
    },
    {
      "cell_type": "markdown",
      "metadata": {
        "id": "VUEWiUMC2PE3"
      },
      "source": [
        "Then the the mapping between internal and external representation of the user and item are extracted as follows:"
      ]
    },
    {
      "cell_type": "code",
      "execution_count": 14,
      "metadata": {
        "id": "ExBmjVXH2PE3"
      },
      "outputs": [],
      "source": [
        "uid_map, ufeature_map, iid_map, ifeature_map = dataset.mapping()"
      ]
    },
    {
      "cell_type": "markdown",
      "metadata": {
        "id": "8MEOWVPc2PE4"
      },
      "source": [
        "Once the train/test indices and mapping are ready, the test dataframe can be constructed as follows:"
      ]
    },
    {
      "cell_type": "code",
      "execution_count": 15,
      "metadata": {
        "colab": {
          "base_uri": "https://localhost:8080/"
        },
        "id": "PL7c0nwY2PE4",
        "outputId": "bf28c74d-b797-465c-ba26-9972fe11728e"
      },
      "outputs": [
        {
          "output_type": "stream",
          "name": "stdout",
          "text": [
            "Took 1.5 seconds for prepare and predict test data.\n"
          ]
        }
      ],
      "source": [
        "with Timer() as test_time:\n",
        "    test_df = prepare_test_df(test_idx, uids, iids, uid_map, iid_map, weights)\n",
        "print(f\"Took {test_time.interval:.1f} seconds for prepare and predict test data.\")  \n",
        "time_reco1 = test_time.interval"
      ]
    },
    {
      "cell_type": "markdown",
      "metadata": {
        "id": "hKVHgy8e2PE4"
      },
      "source": [
        "And samples of the test dataframe:"
      ]
    },
    {
      "cell_type": "code",
      "execution_count": 16,
      "metadata": {
        "colab": {
          "base_uri": "https://localhost:8080/",
          "height": 206
        },
        "id": "1iTxGwCk2PE4",
        "outputId": "475d280f-89b7-4d0e-b5fb-e0e2be3a2ab7"
      },
      "outputs": [
        {
          "output_type": "execute_result",
          "data": {
            "text/plain": [
              "       userID  itemID  rating\n",
              "3441      454     228     3.0\n",
              "824       305     423     4.0\n",
              "16058     901     560     3.0\n",
              "4907      447     879     3.0\n",
              "21459     724     299     1.0"
            ],
            "text/html": [
              "\n",
              "  <div id=\"df-b59ad932-6059-4bd5-a799-2ae11aa88b2a\">\n",
              "    <div class=\"colab-df-container\">\n",
              "      <div>\n",
              "<style scoped>\n",
              "    .dataframe tbody tr th:only-of-type {\n",
              "        vertical-align: middle;\n",
              "    }\n",
              "\n",
              "    .dataframe tbody tr th {\n",
              "        vertical-align: top;\n",
              "    }\n",
              "\n",
              "    .dataframe thead th {\n",
              "        text-align: right;\n",
              "    }\n",
              "</style>\n",
              "<table border=\"1\" class=\"dataframe\">\n",
              "  <thead>\n",
              "    <tr style=\"text-align: right;\">\n",
              "      <th></th>\n",
              "      <th>userID</th>\n",
              "      <th>itemID</th>\n",
              "      <th>rating</th>\n",
              "    </tr>\n",
              "  </thead>\n",
              "  <tbody>\n",
              "    <tr>\n",
              "      <th>3441</th>\n",
              "      <td>454</td>\n",
              "      <td>228</td>\n",
              "      <td>3.0</td>\n",
              "    </tr>\n",
              "    <tr>\n",
              "      <th>824</th>\n",
              "      <td>305</td>\n",
              "      <td>423</td>\n",
              "      <td>4.0</td>\n",
              "    </tr>\n",
              "    <tr>\n",
              "      <th>16058</th>\n",
              "      <td>901</td>\n",
              "      <td>560</td>\n",
              "      <td>3.0</td>\n",
              "    </tr>\n",
              "    <tr>\n",
              "      <th>4907</th>\n",
              "      <td>447</td>\n",
              "      <td>879</td>\n",
              "      <td>3.0</td>\n",
              "    </tr>\n",
              "    <tr>\n",
              "      <th>21459</th>\n",
              "      <td>724</td>\n",
              "      <td>299</td>\n",
              "      <td>1.0</td>\n",
              "    </tr>\n",
              "  </tbody>\n",
              "</table>\n",
              "</div>\n",
              "      <button class=\"colab-df-convert\" onclick=\"convertToInteractive('df-b59ad932-6059-4bd5-a799-2ae11aa88b2a')\"\n",
              "              title=\"Convert this dataframe to an interactive table.\"\n",
              "              style=\"display:none;\">\n",
              "        \n",
              "  <svg xmlns=\"http://www.w3.org/2000/svg\" height=\"24px\"viewBox=\"0 0 24 24\"\n",
              "       width=\"24px\">\n",
              "    <path d=\"M0 0h24v24H0V0z\" fill=\"none\"/>\n",
              "    <path d=\"M18.56 5.44l.94 2.06.94-2.06 2.06-.94-2.06-.94-.94-2.06-.94 2.06-2.06.94zm-11 1L8.5 8.5l.94-2.06 2.06-.94-2.06-.94L8.5 2.5l-.94 2.06-2.06.94zm10 10l.94 2.06.94-2.06 2.06-.94-2.06-.94-.94-2.06-.94 2.06-2.06.94z\"/><path d=\"M17.41 7.96l-1.37-1.37c-.4-.4-.92-.59-1.43-.59-.52 0-1.04.2-1.43.59L10.3 9.45l-7.72 7.72c-.78.78-.78 2.05 0 2.83L4 21.41c.39.39.9.59 1.41.59.51 0 1.02-.2 1.41-.59l7.78-7.78 2.81-2.81c.8-.78.8-2.07 0-2.86zM5.41 20L4 18.59l7.72-7.72 1.47 1.35L5.41 20z\"/>\n",
              "  </svg>\n",
              "      </button>\n",
              "      \n",
              "  <style>\n",
              "    .colab-df-container {\n",
              "      display:flex;\n",
              "      flex-wrap:wrap;\n",
              "      gap: 12px;\n",
              "    }\n",
              "\n",
              "    .colab-df-convert {\n",
              "      background-color: #E8F0FE;\n",
              "      border: none;\n",
              "      border-radius: 50%;\n",
              "      cursor: pointer;\n",
              "      display: none;\n",
              "      fill: #1967D2;\n",
              "      height: 32px;\n",
              "      padding: 0 0 0 0;\n",
              "      width: 32px;\n",
              "    }\n",
              "\n",
              "    .colab-df-convert:hover {\n",
              "      background-color: #E2EBFA;\n",
              "      box-shadow: 0px 1px 2px rgba(60, 64, 67, 0.3), 0px 1px 3px 1px rgba(60, 64, 67, 0.15);\n",
              "      fill: #174EA6;\n",
              "    }\n",
              "\n",
              "    [theme=dark] .colab-df-convert {\n",
              "      background-color: #3B4455;\n",
              "      fill: #D2E3FC;\n",
              "    }\n",
              "\n",
              "    [theme=dark] .colab-df-convert:hover {\n",
              "      background-color: #434B5C;\n",
              "      box-shadow: 0px 1px 3px 1px rgba(0, 0, 0, 0.15);\n",
              "      filter: drop-shadow(0px 1px 2px rgba(0, 0, 0, 0.3));\n",
              "      fill: #FFFFFF;\n",
              "    }\n",
              "  </style>\n",
              "\n",
              "      <script>\n",
              "        const buttonEl =\n",
              "          document.querySelector('#df-b59ad932-6059-4bd5-a799-2ae11aa88b2a button.colab-df-convert');\n",
              "        buttonEl.style.display =\n",
              "          google.colab.kernel.accessAllowed ? 'block' : 'none';\n",
              "\n",
              "        async function convertToInteractive(key) {\n",
              "          const element = document.querySelector('#df-b59ad932-6059-4bd5-a799-2ae11aa88b2a');\n",
              "          const dataTable =\n",
              "            await google.colab.kernel.invokeFunction('convertToInteractive',\n",
              "                                                     [key], {});\n",
              "          if (!dataTable) return;\n",
              "\n",
              "          const docLinkHtml = 'Like what you see? Visit the ' +\n",
              "            '<a target=\"_blank\" href=https://colab.research.google.com/notebooks/data_table.ipynb>data table notebook</a>'\n",
              "            + ' to learn more about interactive tables.';\n",
              "          element.innerHTML = '';\n",
              "          dataTable['output_type'] = 'display_data';\n",
              "          await google.colab.output.renderOutput(dataTable, element);\n",
              "          const docLink = document.createElement('div');\n",
              "          docLink.innerHTML = docLinkHtml;\n",
              "          element.appendChild(docLink);\n",
              "        }\n",
              "      </script>\n",
              "    </div>\n",
              "  </div>\n",
              "  "
            ]
          },
          "metadata": {},
          "execution_count": 16
        }
      ],
      "source": [
        "test_df.sample(5)"
      ]
    },
    {
      "cell_type": "markdown",
      "metadata": {
        "id": "nZ9FW_sM2PE4"
      },
      "source": [
        "In addition, the predictions of all unseen user-item pairs (e.g. removing those seen in the training data) can be prepared as follows:"
      ]
    },
    {
      "cell_type": "code",
      "execution_count": 20,
      "metadata": {
        "colab": {
          "base_uri": "https://localhost:8080/",
          "height": 381
        },
        "id": "ly6wa7Qk2PE4",
        "outputId": "dffc35d5-aef7-4a9a-f158-f9d8042f28f1"
      },
      "outputs": [
        {
          "output_type": "error",
          "ename": "TypeError",
          "evalue": "ignored",
          "traceback": [
            "\u001b[0;31m---------------------------------------------------------------------------\u001b[0m",
            "\u001b[0;31mTypeError\u001b[0m                                 Traceback (most recent call last)",
            "\u001b[0;32m<ipython-input-20-e194710d16c2>\u001b[0m in \u001b[0;36m<module>\u001b[0;34m()\u001b[0m\n\u001b[1;32m      3\u001b[0m                                               \u001b[0minteractions\u001b[0m\u001b[0;34m=\u001b[0m\u001b[0mtrain_interactions\u001b[0m\u001b[0;34m,\u001b[0m\u001b[0;34m\u001b[0m\u001b[0;34m\u001b[0m\u001b[0m\n\u001b[1;32m      4\u001b[0m                                               \u001b[0mmodel\u001b[0m\u001b[0;34m=\u001b[0m\u001b[0mmodel1\u001b[0m\u001b[0;34m,\u001b[0m\u001b[0;34m\u001b[0m\u001b[0;34m\u001b[0m\u001b[0m\n\u001b[0;32m----> 5\u001b[0;31m                                               num_threads=int(NO_THREADS))\n\u001b[0m\u001b[1;32m      6\u001b[0m \u001b[0mprint\u001b[0m\u001b[0;34m(\u001b[0m\u001b[0;34mf\"Took {test_time.interval:.1f} seconds for prepare and predict all data.\"\u001b[0m\u001b[0;34m)\u001b[0m\u001b[0;34m\u001b[0m\u001b[0;34m\u001b[0m\u001b[0m\n\u001b[1;32m      7\u001b[0m \u001b[0mtime_reco2\u001b[0m \u001b[0;34m=\u001b[0m \u001b[0mtest_time\u001b[0m\u001b[0;34m.\u001b[0m\u001b[0minterval\u001b[0m\u001b[0;34m\u001b[0m\u001b[0;34m\u001b[0m\u001b[0m\n",
            "\u001b[0;32m/usr/local/lib/python3.7/dist-packages/recommenders/models/lightfm/lightfm_utils.py\u001b[0m in \u001b[0;36mprepare_all_predictions\u001b[0;34m(data, uid_map, iid_map, interactions, model, num_threads, user_features, item_features)\u001b[0m\n\u001b[1;32m    265\u001b[0m             \u001b[0mnum_threads\u001b[0m\u001b[0;34m=\u001b[0m\u001b[0mnum_threads\u001b[0m\u001b[0;34m,\u001b[0m\u001b[0;34m\u001b[0m\u001b[0;34m\u001b[0m\u001b[0m\n\u001b[1;32m    266\u001b[0m         )[0],\n\u001b[0;32m--> 267\u001b[0;31m         \u001b[0maxis\u001b[0m\u001b[0;34m=\u001b[0m\u001b[0;36m1\u001b[0m\u001b[0;34m,\u001b[0m\u001b[0;34m\u001b[0m\u001b[0;34m\u001b[0m\u001b[0m\n\u001b[0m\u001b[1;32m    268\u001b[0m     )\n\u001b[1;32m    269\u001b[0m \u001b[0;34m\u001b[0m\u001b[0m\n",
            "\u001b[0;32m/usr/local/lib/python3.7/dist-packages/pandas/core/frame.py\u001b[0m in \u001b[0;36mapply\u001b[0;34m(self, func, axis, raw, result_type, args, **kwargs)\u001b[0m\n\u001b[1;32m   8738\u001b[0m             \u001b[0mkwargs\u001b[0m\u001b[0;34m=\u001b[0m\u001b[0mkwargs\u001b[0m\u001b[0;34m,\u001b[0m\u001b[0;34m\u001b[0m\u001b[0;34m\u001b[0m\u001b[0m\n\u001b[1;32m   8739\u001b[0m         )\n\u001b[0;32m-> 8740\u001b[0;31m         \u001b[0;32mreturn\u001b[0m \u001b[0mop\u001b[0m\u001b[0;34m.\u001b[0m\u001b[0mapply\u001b[0m\u001b[0;34m(\u001b[0m\u001b[0;34m)\u001b[0m\u001b[0;34m\u001b[0m\u001b[0;34m\u001b[0m\u001b[0m\n\u001b[0m\u001b[1;32m   8741\u001b[0m \u001b[0;34m\u001b[0m\u001b[0m\n\u001b[1;32m   8742\u001b[0m     def applymap(\n",
            "\u001b[0;32m/usr/local/lib/python3.7/dist-packages/pandas/core/apply.py\u001b[0m in \u001b[0;36mapply\u001b[0;34m(self)\u001b[0m\n\u001b[1;32m    686\u001b[0m             \u001b[0;32mreturn\u001b[0m \u001b[0mself\u001b[0m\u001b[0;34m.\u001b[0m\u001b[0mapply_raw\u001b[0m\u001b[0;34m(\u001b[0m\u001b[0;34m)\u001b[0m\u001b[0;34m\u001b[0m\u001b[0;34m\u001b[0m\u001b[0m\n\u001b[1;32m    687\u001b[0m \u001b[0;34m\u001b[0m\u001b[0m\n\u001b[0;32m--> 688\u001b[0;31m         \u001b[0;32mreturn\u001b[0m \u001b[0mself\u001b[0m\u001b[0;34m.\u001b[0m\u001b[0mapply_standard\u001b[0m\u001b[0;34m(\u001b[0m\u001b[0;34m)\u001b[0m\u001b[0;34m\u001b[0m\u001b[0;34m\u001b[0m\u001b[0m\n\u001b[0m\u001b[1;32m    689\u001b[0m \u001b[0;34m\u001b[0m\u001b[0m\n\u001b[1;32m    690\u001b[0m     \u001b[0;32mdef\u001b[0m \u001b[0magg\u001b[0m\u001b[0;34m(\u001b[0m\u001b[0mself\u001b[0m\u001b[0;34m)\u001b[0m\u001b[0;34m:\u001b[0m\u001b[0;34m\u001b[0m\u001b[0;34m\u001b[0m\u001b[0m\n",
            "\u001b[0;32m/usr/local/lib/python3.7/dist-packages/pandas/core/apply.py\u001b[0m in \u001b[0;36mapply_standard\u001b[0;34m(self)\u001b[0m\n\u001b[1;32m    810\u001b[0m \u001b[0;34m\u001b[0m\u001b[0m\n\u001b[1;32m    811\u001b[0m     \u001b[0;32mdef\u001b[0m \u001b[0mapply_standard\u001b[0m\u001b[0;34m(\u001b[0m\u001b[0mself\u001b[0m\u001b[0;34m)\u001b[0m\u001b[0;34m:\u001b[0m\u001b[0;34m\u001b[0m\u001b[0;34m\u001b[0m\u001b[0m\n\u001b[0;32m--> 812\u001b[0;31m         \u001b[0mresults\u001b[0m\u001b[0;34m,\u001b[0m \u001b[0mres_index\u001b[0m \u001b[0;34m=\u001b[0m \u001b[0mself\u001b[0m\u001b[0;34m.\u001b[0m\u001b[0mapply_series_generator\u001b[0m\u001b[0;34m(\u001b[0m\u001b[0;34m)\u001b[0m\u001b[0;34m\u001b[0m\u001b[0;34m\u001b[0m\u001b[0m\n\u001b[0m\u001b[1;32m    813\u001b[0m \u001b[0;34m\u001b[0m\u001b[0m\n\u001b[1;32m    814\u001b[0m         \u001b[0;31m# wrap results\u001b[0m\u001b[0;34m\u001b[0m\u001b[0;34m\u001b[0m\u001b[0;34m\u001b[0m\u001b[0m\n",
            "\u001b[0;32m/usr/local/lib/python3.7/dist-packages/pandas/core/apply.py\u001b[0m in \u001b[0;36mapply_series_generator\u001b[0;34m(self)\u001b[0m\n\u001b[1;32m    826\u001b[0m             \u001b[0;32mfor\u001b[0m \u001b[0mi\u001b[0m\u001b[0;34m,\u001b[0m \u001b[0mv\u001b[0m \u001b[0;32min\u001b[0m \u001b[0menumerate\u001b[0m\u001b[0;34m(\u001b[0m\u001b[0mseries_gen\u001b[0m\u001b[0;34m)\u001b[0m\u001b[0;34m:\u001b[0m\u001b[0;34m\u001b[0m\u001b[0;34m\u001b[0m\u001b[0m\n\u001b[1;32m    827\u001b[0m                 \u001b[0;31m# ignore SettingWithCopy here in case the user mutates\u001b[0m\u001b[0;34m\u001b[0m\u001b[0;34m\u001b[0m\u001b[0;34m\u001b[0m\u001b[0m\n\u001b[0;32m--> 828\u001b[0;31m                 \u001b[0mresults\u001b[0m\u001b[0;34m[\u001b[0m\u001b[0mi\u001b[0m\u001b[0;34m]\u001b[0m \u001b[0;34m=\u001b[0m \u001b[0mself\u001b[0m\u001b[0;34m.\u001b[0m\u001b[0mf\u001b[0m\u001b[0;34m(\u001b[0m\u001b[0mv\u001b[0m\u001b[0;34m)\u001b[0m\u001b[0;34m\u001b[0m\u001b[0;34m\u001b[0m\u001b[0m\n\u001b[0m\u001b[1;32m    829\u001b[0m                 \u001b[0;32mif\u001b[0m \u001b[0misinstance\u001b[0m\u001b[0;34m(\u001b[0m\u001b[0mresults\u001b[0m\u001b[0;34m[\u001b[0m\u001b[0mi\u001b[0m\u001b[0;34m]\u001b[0m\u001b[0;34m,\u001b[0m \u001b[0mABCSeries\u001b[0m\u001b[0;34m)\u001b[0m\u001b[0;34m:\u001b[0m\u001b[0;34m\u001b[0m\u001b[0;34m\u001b[0m\u001b[0m\n\u001b[1;32m    830\u001b[0m                     \u001b[0;31m# If we have a view on v, we need to make a copy because\u001b[0m\u001b[0;34m\u001b[0m\u001b[0;34m\u001b[0m\u001b[0;34m\u001b[0m\u001b[0m\n",
            "\u001b[0;32m/usr/local/lib/python3.7/dist-packages/recommenders/models/lightfm/lightfm_utils.py\u001b[0m in \u001b[0;36m<lambda>\u001b[0;34m(x)\u001b[0m\n\u001b[1;32m    263\u001b[0m             \u001b[0muser_features\u001b[0m\u001b[0;34m=\u001b[0m\u001b[0muser_features\u001b[0m\u001b[0;34m,\u001b[0m\u001b[0;34m\u001b[0m\u001b[0;34m\u001b[0m\u001b[0m\n\u001b[1;32m    264\u001b[0m             \u001b[0mitem_features\u001b[0m\u001b[0;34m=\u001b[0m\u001b[0mitem_features\u001b[0m\u001b[0;34m,\u001b[0m\u001b[0;34m\u001b[0m\u001b[0;34m\u001b[0m\u001b[0m\n\u001b[0;32m--> 265\u001b[0;31m             \u001b[0mnum_threads\u001b[0m\u001b[0;34m=\u001b[0m\u001b[0mnum_threads\u001b[0m\u001b[0;34m,\u001b[0m\u001b[0;34m\u001b[0m\u001b[0;34m\u001b[0m\u001b[0m\n\u001b[0m\u001b[1;32m    266\u001b[0m         )[0],\n\u001b[1;32m    267\u001b[0m         \u001b[0maxis\u001b[0m\u001b[0;34m=\u001b[0m\u001b[0;36m1\u001b[0m\u001b[0;34m,\u001b[0m\u001b[0;34m\u001b[0m\u001b[0;34m\u001b[0m\u001b[0m\n",
            "\u001b[0;32m/usr/local/lib/python3.7/dist-packages/lightfm/lightfm.py\u001b[0m in \u001b[0;36mpredict\u001b[0;34m(self, user_ids, item_ids, item_features, user_features, num_threads)\u001b[0m\n\u001b[1;32m    787\u001b[0m         \u001b[0;32mif\u001b[0m \u001b[0;32mnot\u001b[0m \u001b[0misinstance\u001b[0m\u001b[0;34m(\u001b[0m\u001b[0muser_ids\u001b[0m\u001b[0;34m,\u001b[0m \u001b[0mnp\u001b[0m\u001b[0;34m.\u001b[0m\u001b[0mndarray\u001b[0m\u001b[0;34m)\u001b[0m\u001b[0;34m:\u001b[0m\u001b[0;34m\u001b[0m\u001b[0;34m\u001b[0m\u001b[0m\n\u001b[1;32m    788\u001b[0m             raise TypeError(\n\u001b[0;32m--> 789\u001b[0;31m                 \u001b[0;34mf\"Invalid type passed to user_ids parameter. \"\u001b[0m\u001b[0;34m\u001b[0m\u001b[0;34m\u001b[0m\u001b[0m\n\u001b[0m\u001b[1;32m    790\u001b[0m                 \u001b[0;34mf\"This must be either int or np.int32 array. \"\u001b[0m\u001b[0;34m\u001b[0m\u001b[0;34m\u001b[0m\u001b[0m\n\u001b[1;32m    791\u001b[0m                 \u001b[0;34mf\"Type received: {type(user_ids)}\"\u001b[0m\u001b[0;34m\u001b[0m\u001b[0;34m\u001b[0m\u001b[0m\n",
            "\u001b[0;31mTypeError\u001b[0m: Invalid type passed to user_ids parameter. This must be either int or np.int32 array. Type received: <class 'numpy.int64'>"
          ]
        }
      ],
      "source": [
        "with Timer() as test_time:\n",
        "    all_predictions = prepare_all_predictions(data, uid_map, iid_map, \n",
        "                                              interactions=train_interactions,\n",
        "                                              model=model1, \n",
        "                                              num_threads=int(NO_THREADS))\n",
        "print(f\"Took {test_time.interval:.1f} seconds for prepare and predict all data.\")\n",
        "time_reco2 = test_time.interval"
      ]
    },
    {
      "cell_type": "markdown",
      "metadata": {
        "id": "wV9vTw3O2PE4"
      },
      "source": [
        "Samples of the `all_predictions` dataframe:"
      ]
    },
    {
      "cell_type": "code",
      "execution_count": null,
      "metadata": {
        "id": "LdM9kegd2PE4"
      },
      "outputs": [],
      "source": [
        "all_predictions.sample(5)"
      ]
    },
    {
      "cell_type": "markdown",
      "metadata": {
        "id": "JlWyO83V2PE5"
      },
      "source": [
        "Note that the **raw prediction values from the LightFM model are for ranking purposes only**, they should not be used directly. The magnitude and sign of these values do not have any specific interpretation."
      ]
    },
    {
      "cell_type": "markdown",
      "metadata": {
        "id": "OrtfoJfk2PE5"
      },
      "source": [
        "### 2.6 Model evaluation"
      ]
    },
    {
      "cell_type": "markdown",
      "metadata": {
        "id": "9R9SHjxb2PE5"
      },
      "source": [
        "Once the evaluation data are ready, they can be passed into to the repo's evaluation methods as follows. The performance of the model will be tracked using both Precision@K and Recall@K.\n",
        "\n",
        "In addition, the results have also being compared with those computed from LightFM's own evaluation methods to ensure accuracy."
      ]
    },
    {
      "cell_type": "code",
      "execution_count": null,
      "metadata": {
        "id": "5_nZ6tAL2PE5"
      },
      "outputs": [],
      "source": [
        "with Timer() as test_time:\n",
        "    eval_precision = precision_at_k(rating_true=test_df, \n",
        "                                rating_pred=all_predictions, k=K)\n",
        "    eval_recall = recall_at_k(test_df, all_predictions, k=K)\n",
        "time_reco3 = test_time.interval\n",
        "\n",
        "with Timer() as test_time:\n",
        "    eval_precision_lfm = lightfm_prec_at_k(model1, test_interactions, \n",
        "                                           train_interactions, k=K).mean()\n",
        "    eval_recall_lfm = lightfm_recall_at_k(model1, test_interactions, \n",
        "                                          train_interactions, k=K).mean()\n",
        "time_lfm = test_time.interval\n",
        "    \n",
        "print(\n",
        "    \"------ Using Repo's evaluation methods ------\",\n",
        "    f\"Precision@K:\\t{eval_precision:.6f}\",\n",
        "    f\"Recall@K:\\t{eval_recall:.6f}\",\n",
        "    \"\\n------ Using LightFM evaluation methods ------\",\n",
        "    f\"Precision@K:\\t{eval_precision_lfm:.6f}\",\n",
        "    f\"Recall@K:\\t{eval_recall_lfm:.6f}\", \n",
        "    sep='\\n')"
      ]
    },
    {
      "cell_type": "markdown",
      "metadata": {
        "id": "XK-2oqu12PE5"
      },
      "source": [
        "## 3. Movie recommender with LightFM using explicit feedbacks and additional item and user features"
      ]
    },
    {
      "cell_type": "markdown",
      "metadata": {
        "id": "NY84mwVB2PE5"
      },
      "source": [
        "As the LightFM was designed to incorporates both user and item metadata, the model can be extended to include additional features such as movie genres and user occupations."
      ]
    },
    {
      "cell_type": "markdown",
      "metadata": {
        "id": "ajv_fdKK2PE5"
      },
      "source": [
        "### 3.1 Extract and prepare movie genres"
      ]
    },
    {
      "cell_type": "markdown",
      "metadata": {
        "id": "Elr9h-og2PE5"
      },
      "source": [
        "In this notebook, the movie's genres will be used as the item metadata. As the genres have already been loaded during the initial data import, it can be processed directly as follows:"
      ]
    },
    {
      "cell_type": "code",
      "execution_count": null,
      "metadata": {
        "id": "eEQ4GmnQ2PE6"
      },
      "outputs": [],
      "source": [
        "# split the genre based on the separator\n",
        "movie_genre = [x.split('|') for x in data['genre']]"
      ]
    },
    {
      "cell_type": "code",
      "execution_count": null,
      "metadata": {
        "id": "55t-oOJ42PE6"
      },
      "outputs": [],
      "source": [
        "# retrieve the all the unique genres in the data\n",
        "all_movie_genre = sorted(list(set(itertools.chain.from_iterable(movie_genre))))\n",
        "# quick look at the all the genres within the data\n",
        "all_movie_genre"
      ]
    },
    {
      "cell_type": "markdown",
      "metadata": {
        "id": "d5VJOMJ92PE6"
      },
      "source": [
        "### 3.2 Retrieve and prepare movie genres"
      ]
    },
    {
      "cell_type": "markdown",
      "metadata": {
        "id": "N64fSIbZ2PE6"
      },
      "source": [
        "Further user features can be included as part of the model fitting process. In this notebook, **only the occupation of each user will be included** but the feature list can be extended easily.\n"
      ]
    },
    {
      "cell_type": "markdown",
      "metadata": {
        "id": "QK_QRuew2PE6"
      },
      "source": [
        "#### 3.2.1 Retrieve and merge data"
      ]
    },
    {
      "cell_type": "markdown",
      "metadata": {
        "id": "r6LHV5Oi2PE6"
      },
      "source": [
        "The user features can be retrieved directly from the grouplens website and merged with the existing data as follows:"
      ]
    },
    {
      "cell_type": "code",
      "execution_count": null,
      "metadata": {
        "id": "qUsqclSx2PE6"
      },
      "outputs": [],
      "source": [
        "user_feature_URL = 'https://files.grouplens.org/datasets/movielens/ml-100k/u.user'\n",
        "user_data = pd.read_table(user_feature_URL, \n",
        "              sep='|', header=None)\n",
        "user_data.columns = ['userID','age','gender','occupation','zipcode']\n",
        "\n",
        "# merging user feature with existing data\n",
        "new_data = data.merge(user_data[['userID','occupation']], left_on='userID', right_on='userID')\n",
        "# quick look at the merged data\n",
        "new_data.sample(5)"
      ]
    },
    {
      "cell_type": "markdown",
      "metadata": {
        "id": "S7BrH2i02PE6"
      },
      "source": [
        "#### 3.2.2 Extract and prepare user occupations"
      ]
    },
    {
      "cell_type": "code",
      "execution_count": null,
      "metadata": {
        "id": "1ZI1N9Nx2PE7"
      },
      "outputs": [],
      "source": [
        "# retrieve all the unique occupations in the data\n",
        "all_occupations = sorted(list(set(new_data['occupation'])))"
      ]
    },
    {
      "cell_type": "markdown",
      "metadata": {
        "id": "ZxDkxVcP2PE7"
      },
      "source": [
        "### 3.3 Prepare data and features"
      ]
    },
    {
      "cell_type": "markdown",
      "metadata": {
        "id": "dIFlVRbn2PE7"
      },
      "source": [
        "Similar to the previous model, the data is required to be converted into a `Dataset` instance and then create a user/item id mapping with the `fit` method."
      ]
    },
    {
      "cell_type": "code",
      "execution_count": null,
      "metadata": {
        "id": "nuNb3-2H2PE7"
      },
      "outputs": [],
      "source": [
        "dataset2 = Dataset()\n",
        "dataset2.fit(data['userID'], \n",
        "            data['itemID'], \n",
        "            item_features=all_movie_genre,\n",
        "            user_features=all_occupations)"
      ]
    },
    {
      "cell_type": "markdown",
      "metadata": {
        "id": "8D_XtZps2PE7"
      },
      "source": [
        "The movie genres are then converted into a item feature matrix using the `build_item_features` method as follows:"
      ]
    },
    {
      "cell_type": "code",
      "execution_count": null,
      "metadata": {
        "id": "QCZgEwmf2PE7"
      },
      "outputs": [],
      "source": [
        "item_features = dataset2.build_item_features(\n",
        "    (x, y) for x,y in zip(data.itemID, movie_genre))"
      ]
    },
    {
      "cell_type": "markdown",
      "metadata": {
        "id": "XC8do-1Y2PE7"
      },
      "source": [
        "The user occupations are then converted into an user feature matrix using the `build_user_features` method as follows:"
      ]
    },
    {
      "cell_type": "code",
      "execution_count": null,
      "metadata": {
        "id": "iayLYcNy2PE8"
      },
      "outputs": [],
      "source": [
        "user_features = dataset2.build_user_features(\n",
        "    (x, [y]) for x,y in zip(new_data.userID, new_data['occupation']))"
      ]
    },
    {
      "cell_type": "markdown",
      "metadata": {
        "id": "wGZW0eXf2PE8"
      },
      "source": [
        "Once the item and user features matrices have been completed, the next steps are similar as before, which is to build the interaction matrix and split the interactions into train and test sets as follows:"
      ]
    },
    {
      "cell_type": "code",
      "execution_count": null,
      "metadata": {
        "id": "FEe2JKEq2PE8"
      },
      "outputs": [],
      "source": [
        "(interactions2, weights2) = dataset2.build_interactions(data.iloc[:, 0:3].values)\n",
        "\n",
        "train_interactions2, test_interactions2 = cross_validation.random_train_test_split(\n",
        "    interactions2, test_percentage=TEST_PERCENTAGE,\n",
        "    random_state=np.random.RandomState(SEEDNO))"
      ]
    },
    {
      "cell_type": "markdown",
      "metadata": {
        "id": "u9_EXRvn2PE8"
      },
      "source": [
        "### 3.3 Fit the LightFM model with additional user and item features"
      ]
    },
    {
      "cell_type": "markdown",
      "metadata": {
        "id": "1P7QxB8g2PE8"
      },
      "source": [
        "The parameters of the second model will be similar to the first model to facilitates comparison.\n",
        "\n",
        "The model performance at each epoch is also tracked by the same metrics as before."
      ]
    },
    {
      "cell_type": "code",
      "execution_count": null,
      "metadata": {
        "id": "UywHc5yU2PE8"
      },
      "outputs": [],
      "source": [
        "model2 = LightFM(loss='warp', no_components=NO_COMPONENTS, \n",
        "                 learning_rate=LEARNING_RATE, \n",
        "                 item_alpha=ITEM_ALPHA,\n",
        "                 user_alpha=USER_ALPHA,\n",
        "                 random_state=np.random.RandomState(SEEDNO))"
      ]
    },
    {
      "cell_type": "markdown",
      "metadata": {
        "id": "NPeQsygz2PE8"
      },
      "source": [
        "The LightFM model can then be fitted:"
      ]
    },
    {
      "cell_type": "code",
      "execution_count": null,
      "metadata": {
        "id": "P7QK2Sgc2PE8"
      },
      "outputs": [],
      "source": [
        "model2.fit(interactions=train_interactions2,\n",
        "           user_features=user_features,\n",
        "           item_features=item_features,\n",
        "           epochs=NO_EPOCHS);"
      ]
    },
    {
      "cell_type": "markdown",
      "metadata": {
        "id": "rFqvqfFn2PE9"
      },
      "source": [
        "### 3.4 Prepare model evaluation data"
      ]
    },
    {
      "cell_type": "markdown",
      "metadata": {
        "id": "1ODvXNxV2PE9"
      },
      "source": [
        "Similar to the previous model, the evaluation data needs to be prepared in order to get them into a format consumable with this repo's evaluation methods.\n",
        "\n",
        "Firstly the train/test indices and id mappings are extracted using the new interations matrix as follows:"
      ]
    },
    {
      "cell_type": "code",
      "execution_count": null,
      "metadata": {
        "id": "a2dHbtf92PE9"
      },
      "outputs": [],
      "source": [
        "uids, iids, interaction_data = cross_validation._shuffle(\n",
        "    interactions2.row, interactions2.col, interactions2.data, \n",
        "    random_state=np.random.RandomState(SEEDNO))\n",
        "\n",
        "uid_map, ufeature_map, iid_map, ifeature_map = dataset2.mapping()"
      ]
    },
    {
      "cell_type": "markdown",
      "metadata": {
        "id": "6h4PzeJk2PE9"
      },
      "source": [
        "The test dataframe is then constructed as follows:"
      ]
    },
    {
      "cell_type": "code",
      "execution_count": null,
      "metadata": {
        "id": "CVluo2dZ2PE9"
      },
      "outputs": [],
      "source": [
        "with Timer() as test_time:\n",
        "    test_df2 = prepare_test_df(test_idx, uids, iids, uid_map, iid_map, weights2)\n",
        "print(f\"Took {test_time.interval:.1f} seconds for prepare and predict test data.\")  "
      ]
    },
    {
      "cell_type": "markdown",
      "metadata": {
        "id": "x_7jVJq32PE9"
      },
      "source": [
        "The predictions of all unseen user-item pairs can be prepared as follows:"
      ]
    },
    {
      "cell_type": "code",
      "execution_count": null,
      "metadata": {
        "id": "XlMVEE2l2PE9"
      },
      "outputs": [],
      "source": [
        "with Timer() as test_time:\n",
        "    all_predictions2 = prepare_all_predictions(data, uid_map, iid_map, \n",
        "                                              interactions=train_interactions2,\n",
        "                                               user_features=user_features,\n",
        "                                               item_features=item_features,\n",
        "                                               model=model2,\n",
        "                                               num_threads=NO_THREADS)\n",
        "\n",
        "print(f\"Took {test_time.interval:.1f} seconds for prepare and predict all data.\")"
      ]
    },
    {
      "cell_type": "markdown",
      "metadata": {
        "id": "qQuQ3Hty2PE9"
      },
      "source": [
        "### 3.5 Model evaluation and comparison"
      ]
    },
    {
      "cell_type": "markdown",
      "metadata": {
        "id": "Rx-D8LTB2PE9"
      },
      "source": [
        "The predictive performance of the new model can be computed and compared with the previous model (which used only the explicit rating) as follows:"
      ]
    },
    {
      "cell_type": "code",
      "execution_count": null,
      "metadata": {
        "id": "FKHHDAXS2PE9"
      },
      "outputs": [],
      "source": [
        "eval_precision2 = precision_at_k(rating_true=test_df2, \n",
        "                                rating_pred=all_predictions2, k=K)\n",
        "eval_recall2 = recall_at_k(test_df2, all_predictions2, k=K)\n",
        "\n",
        "print(\n",
        "    \"------ Using only explicit ratings ------\",\n",
        "    f\"Precision@K:\\t{eval_precision:.6f}\",\n",
        "    f\"Recall@K:\\t{eval_recall:.6f}\",\n",
        "    \"\\n------ Using both implicit and explicit ratings ------\",\n",
        "    f\"Precision@K:\\t{eval_precision2:.6f}\",\n",
        "    f\"Recall@K:\\t{eval_recall2:.6f}\",\n",
        "    sep='\\n')"
      ]
    },
    {
      "cell_type": "markdown",
      "metadata": {
        "id": "LJyAdoFW2PE-"
      },
      "source": [
        "The new model which used both implicit and explicit data performed consistently better than the previous model which used only the explicit data, thus highlighting the benefits of including such additional features to the model."
      ]
    },
    {
      "cell_type": "markdown",
      "metadata": {
        "id": "0XFgHPXN2PE-"
      },
      "source": [
        "### 3.6 Evaluation metrics comparison"
      ]
    },
    {
      "cell_type": "markdown",
      "metadata": {
        "id": "r2yMm-m52PE-"
      },
      "source": [
        "Note that the evaluation approaches here are solely for demonstration purposes only.\n",
        "\n",
        "If the reader were using the LightFM package and/or its models, the LightFM's built-in evaluation methods are much more efficient and are the recommended approach for production usage as they are designed and optimised to work with the package.\n",
        "\n",
        "As a comparison, the times recorded to compute Precision@K and Recall@K for model1 are shown as follows:"
      ]
    },
    {
      "cell_type": "code",
      "execution_count": null,
      "metadata": {
        "id": "yJVmo95g2PE-"
      },
      "outputs": [],
      "source": [
        "print(\n",
        "    \"------ Using Repo's evaluation methods ------\",\n",
        "    f\"Time [sec]:\\t{(time_reco1+time_reco2+time_reco3):.1f}\",\n",
        "    \"\\n------ Using LightFM evaluation methods ------\",\n",
        "    f\"Time [sec]:\\t{time_lfm:.1f}\",\n",
        "    sep='\\n')"
      ]
    },
    {
      "cell_type": "markdown",
      "metadata": {
        "id": "dZ6Lib0l2PE-"
      },
      "source": [
        "## 4. Evaluate model fitting process"
      ]
    },
    {
      "cell_type": "markdown",
      "metadata": {
        "id": "RKODTrg62PE-"
      },
      "source": [
        "In addition to the inclusion of both implicit and explicit data, the model fitting process can also be monitored in order to determine whether the model is being trained properly. \n",
        "\n",
        "This notebook also includes a `track_model_metrics` method which plots the model's metrics e.g. Precision@K and Recall@K as model fitting progresses.\n",
        "\n",
        "For the first model (using only explicit data), the model fitting progress is shown as follows:"
      ]
    },
    {
      "cell_type": "code",
      "execution_count": null,
      "metadata": {
        "id": "Jc1F47SA2PE-"
      },
      "outputs": [],
      "source": [
        "output1, _ = track_model_metrics(model=model1, train_interactions=train_interactions, \n",
        "                              test_interactions=test_interactions, k=K,\n",
        "                              no_epochs=NO_EPOCHS, no_threads=NO_THREADS)"
      ]
    },
    {
      "cell_type": "markdown",
      "metadata": {
        "id": "LF1Fh0_e2PE-"
      },
      "source": [
        "The second model (with both implicit and explicit data) fitting progress:"
      ]
    },
    {
      "cell_type": "code",
      "execution_count": null,
      "metadata": {
        "id": "t2uP4VTN2PE-"
      },
      "outputs": [],
      "source": [
        "output2, _ = track_model_metrics(model=model2, train_interactions=train_interactions2, \n",
        "                              test_interactions=test_interactions2, k=K,\n",
        "                              no_epochs=NO_EPOCHS, no_threads=NO_THREADS, \n",
        "                              item_features=item_features,\n",
        "                              user_features=user_features)"
      ]
    },
    {
      "cell_type": "markdown",
      "metadata": {
        "id": "Nlw_6ntC2PE_"
      },
      "source": [
        "These show slightly different behaviour with the two approaches, the reader can then tune the hyperparameters to improve the model fitting process.\n"
      ]
    },
    {
      "cell_type": "markdown",
      "metadata": {
        "id": "7EMOAEnD2PE_"
      },
      "source": [
        "### 4.1 Performance comparison"
      ]
    },
    {
      "cell_type": "markdown",
      "metadata": {
        "id": "j3-hLh4H2PE_"
      },
      "source": [
        "In addition, the model's performance metrics (based on the test dataset) can be plotted together to facilitate easier comparison as follows:"
      ]
    },
    {
      "cell_type": "code",
      "execution_count": null,
      "metadata": {
        "id": "avojahyY2PE_"
      },
      "outputs": [],
      "source": [
        "for i in ['Precision', 'Recall']:\n",
        "    sns.set_palette(\"Set2\")\n",
        "    plt.figure()\n",
        "    sns.scatterplot(x=\"epoch\", y=\"value\", hue='data',\n",
        "                data=compare_metric(df_list = [output1, output2], metric=i)\n",
        "               ).set_title(f'{i} comparison using test set');"
      ]
    },
    {
      "cell_type": "markdown",
      "metadata": {
        "id": "f6RVbueZ2PE_"
      },
      "source": [
        "Referring to the figures above, it is rather obvious that the number of epochs is too low as the model's performances have not stabilised. Reader can decide on the number of epochs and other hyperparameters to adjust suit the application.\n",
        "\n",
        "As stated previously, it is interesting to see model2 (using both implicit and explicit data) performed consistently better than model1 (using only explicit ratings). "
      ]
    },
    {
      "cell_type": "markdown",
      "metadata": {
        "id": "wL8JtDrf2PE_"
      },
      "source": [
        "## 5. Similar users and items"
      ]
    },
    {
      "cell_type": "markdown",
      "metadata": {
        "id": "iMukeQkN2PE_"
      },
      "source": [
        "As the LightFM package operates based on latent embeddings, these can be retrieved once the model has been fitted to assess user-user and/or item-item affinity."
      ]
    },
    {
      "cell_type": "markdown",
      "metadata": {
        "id": "kcFVUi8e2PE_"
      },
      "source": [
        "### 5.1 User affinity"
      ]
    },
    {
      "cell_type": "markdown",
      "metadata": {
        "id": "Ch-WFsYz2PE_"
      },
      "source": [
        "The user-user affinity can be retrieved with the `get_user_representations` method from the fitted model as follows:"
      ]
    },
    {
      "cell_type": "code",
      "execution_count": null,
      "metadata": {
        "id": "vmlZX_Ci2PE_"
      },
      "outputs": [],
      "source": [
        "_, user_embeddings = model2.get_user_representations(features=user_features)\n",
        "user_embeddings"
      ]
    },
    {
      "cell_type": "markdown",
      "metadata": {
        "id": "pA-fr5AY2PE_"
      },
      "source": [
        "In order to retrieve the top N similar users, we can use the `similar_users` from `recommenders`. For example, if we want to choose top 10 users most similar to the user 1:"
      ]
    },
    {
      "cell_type": "code",
      "execution_count": null,
      "metadata": {
        "id": "dgWGniR_2PFA"
      },
      "outputs": [],
      "source": [
        "similar_users(user_id=1, user_features=user_features, \n",
        "            model=model2)"
      ]
    },
    {
      "cell_type": "markdown",
      "metadata": {
        "id": "jYyWd3Jo2PFA"
      },
      "source": [
        "### 5.2 Item affinity"
      ]
    },
    {
      "cell_type": "markdown",
      "metadata": {
        "id": "qsXpICiR2PFA"
      },
      "source": [
        "Similar to the user affinity, the item-item affinity can be retrieved with the `get_item_representations` method using the fitted model."
      ]
    },
    {
      "cell_type": "code",
      "execution_count": null,
      "metadata": {
        "scrolled": true,
        "id": "g1QDx_Xe2PFA"
      },
      "outputs": [],
      "source": [
        "_, item_embeddings = model2.get_item_representations(features=item_features)\n",
        "item_embeddings"
      ]
    },
    {
      "cell_type": "markdown",
      "metadata": {
        "id": "Doqkz8l62PFA"
      },
      "source": [
        "The function to retrieve the top N similar items is similar to similar_users() above. For example, if we want to choose top 10 items most similar to the item 10:"
      ]
    },
    {
      "cell_type": "code",
      "execution_count": null,
      "metadata": {
        "id": "mt14aQmZ2PFA"
      },
      "outputs": [],
      "source": [
        "similar_items(item_id=10, item_features=item_features, \n",
        "            model=model2)"
      ]
    },
    {
      "cell_type": "markdown",
      "metadata": {
        "id": "AyGw5oA42PFA"
      },
      "source": [
        "## 6. Conclusion"
      ]
    },
    {
      "cell_type": "markdown",
      "metadata": {
        "id": "1PMmiqC72PFA"
      },
      "source": [
        "In this notebook, the background of hybrid matrix factorisation model has been explained together with a detailed example of LightFM's implementation. \n",
        "\n",
        "The process of incorporating additional user and item metadata has also been demonstrated with performance comparison. Furthermore, the calculation of both user and item affinity scores have also been demonstrated and extracted from the fitted model.\n",
        "\n",
        "This notebook remains a fairly simple treatment on the subject and hopefully could serve as a good foundation for the reader."
      ]
    },
    {
      "cell_type": "markdown",
      "metadata": {
        "id": "ROrv6IuC2PFA"
      },
      "source": [
        "## References"
      ]
    },
    {
      "cell_type": "markdown",
      "metadata": {
        "id": "5WhIOY3L2PFA"
      },
      "source": [
        "- [[1](https://arxiv.org/abs/1507.08439)]. Maciej Kula - Metadata Embeddings for User and Item Cold-start Recommendations, 2015. arXiv:1507.08439\n",
        "- [[2](https://making.lyst.com/lightfm/docs/home.html)]. LightFM documentation,\n",
        "- [3]. Charu C. Aggarwal - Recommender Systems: The Textbook, Springer, April 2016. ISBN 978-3-319-29659-3\n",
        "- [4]. Deepak K. Agarwal, Bee-Chung Chen - Statistical Methods for Recommender Systems, 2016. ISBN: 9781107036079 \n"
      ]
    }
  ],
  "metadata": {
    "kernelspec": {
      "display_name": "Python (reco_base)",
      "language": "python",
      "name": "reco_base"
    },
    "language_info": {
      "codemirror_mode": {
        "name": "ipython",
        "version": 3
      },
      "file_extension": ".py",
      "mimetype": "text/x-python",
      "name": "python",
      "nbconvert_exporter": "python",
      "pygments_lexer": "ipython3",
      "version": "3.6.10"
    },
    "colab": {
      "name": "lightfm_deep_dive.ipynb",
      "provenance": [],
      "collapsed_sections": [
        "LI5Hr_CJ2PE2",
        "OrtfoJfk2PE5",
        "ajv_fdKK2PE5",
        "d5VJOMJ92PE6",
        "QK_QRuew2PE6",
        "S7BrH2i02PE6",
        "ZxDkxVcP2PE7",
        "u9_EXRvn2PE8",
        "rFqvqfFn2PE9",
        "qQuQ3Hty2PE9",
        "0XFgHPXN2PE-",
        "7EMOAEnD2PE_",
        "kcFVUi8e2PE_",
        "jYyWd3Jo2PFA"
      ],
      "include_colab_link": true
    },
    "accelerator": "GPU"
  },
  "nbformat": 4,
  "nbformat_minor": 0
}