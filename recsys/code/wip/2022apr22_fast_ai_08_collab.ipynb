{
  "cells": [
    {
      "cell_type": "markdown",
      "metadata": {
        "id": "view-in-github",
        "colab_type": "text"
      },
      "source": [
        "<a href=\"https://colab.research.google.com/github/alboard/kaggle/blob/main/recsys/code/wip/2022apr22_fast_ai_08_collab.ipynb\" target=\"_parent\"><img src=\"https://colab.research.google.com/assets/colab-badge.svg\" alt=\"Open In Colab\"/></a>"
      ]
    },
    {
      "cell_type": "code",
      "execution_count": 1,
      "metadata": {
        "id": "O1hFYf6ElETV",
        "colab": {
          "base_uri": "https://localhost:8080/"
        },
        "outputId": "05be8fbe-0a6a-40dc-99cf-1c3bfd81467e"
      },
      "outputs": [
        {
          "output_type": "stream",
          "name": "stdout",
          "text": [
            "\u001b[K     |████████████████████████████████| 720 kB 4.2 MB/s \n",
            "\u001b[K     |████████████████████████████████| 188 kB 62.5 MB/s \n",
            "\u001b[K     |████████████████████████████████| 1.2 MB 66.0 MB/s \n",
            "\u001b[K     |████████████████████████████████| 60 kB 6.2 MB/s \n",
            "\u001b[?25hMounted at /content/gdrive\n"
          ]
        }
      ],
      "source": [
        "#hide\n",
        "!pip install -Uqq fastbook\n",
        "import fastbook\n",
        "fastbook.setup_book()"
      ]
    },
    {
      "cell_type": "code",
      "execution_count": 2,
      "metadata": {
        "id": "AJmQwNLuyhkZ"
      },
      "outputs": [],
      "source": [
        "path= '/content/gdrive/MyDrive/_data'"
      ]
    },
    {
      "cell_type": "code",
      "execution_count": 3,
      "metadata": {
        "id": "qnMpXYVplETX"
      },
      "outputs": [],
      "source": [
        "#hide\n",
        "from fastbook import *"
      ]
    },
    {
      "cell_type": "raw",
      "metadata": {
        "id": "Yabn9wNClETX"
      },
      "source": [
        "[[chapter_collab]]"
      ]
    },
    {
      "cell_type": "markdown",
      "source": [
        ""
      ],
      "metadata": {
        "id": "g-t8sr_9I3Pq"
      }
    },
    {
      "cell_type": "markdown",
      "metadata": {
        "id": "MkdUK56TlETY"
      },
      "source": [
        "# Collaborative Filtering Deep Dive"
      ]
    },
    {
      "cell_type": "markdown",
      "metadata": {
        "id": "p_mI2BvBlETZ"
      },
      "source": [
        "One very common problem to solve is when you have a number of users and a number of products, and you want to recommend which products are most likely to be useful for which users. There are many variations of this: for example, recommending movies (such as on Netflix), figuring out what to highlight for a user on a home page, deciding what stories to show in a social media feed, and so forth. There is a general solution to this problem, called *collaborative filtering*, which works like this: look at what products the current user has used or liked, find other users that have used or liked similar products, and then recommend other products that those users have used or liked.\n",
        "\n",
        "For example, on Netflix you may have watched lots of movies that are science fiction, full of action, and were made in the 1970s. Netflix may not know these particular properties of the films you have watched, but it will be able to see that other people that have watched the same movies that you watched also tended to watch other movies that are science fiction, full of action, and were made in the 1970s. In other words, to use this approach we don't necessarily need to know anything about the movies, except who like to watch them.\n",
        "\n",
        "There is actually a more general class of problems that this approach can solve, not necessarily involving users and products. Indeed, for collaborative filtering we more commonly refer to *items*, rather than *products*. Items could be links that people click on, diagnoses that are selected for patients, and so forth.\n",
        "\n",
        "The key foundational idea is that of *latent factors*. In the Netflix example, we started with the assumption that you like old, action-packed sci-fi movies. But you never actually told Netflix that you like these kinds of movies. And Netflix never actually needed to add columns to its movies table saying which movies are of these types. Still, there must be some underlying concept of sci-fi, action, and movie age, and these concepts must be relevant for at least some people's movie watching decisions."
      ]
    },
    {
      "cell_type": "markdown",
      "metadata": {
        "id": "LAME0sIRlETa"
      },
      "source": [
        "For this chapter we are going to work on this movie recommendation problem. We'll start by getting some data suitable for a collaborative filtering model."
      ]
    },
    {
      "cell_type": "markdown",
      "metadata": {
        "id": "FSghfJxplETa"
      },
      "source": [
        "## A First Look at the Data"
      ]
    },
    {
      "cell_type": "markdown",
      "metadata": {
        "id": "Hmc3hg0PlETb"
      },
      "source": [
        "We do not have access to Netflix's entire dataset of movie watching history, but there is a great dataset that we can use, called [MovieLens](https://grouplens.org/datasets/movielens/). This dataset contains tens of millions of movie rankings (a combination of a movie ID, a user ID, and a numeric rating), although we will just use a subset of 100,000 of them for our example. If you're interested, it would be a great learning project to try and replicate this approach on the full 25-million recommendation dataset, which you can get from their website."
      ]
    },
    {
      "cell_type": "markdown",
      "metadata": {
        "id": "Kltz0EX-lETc"
      },
      "source": [
        "The dataset is available through the usual fastai function:"
      ]
    },
    {
      "cell_type": "code",
      "execution_count": 4,
      "metadata": {
        "colab": {
          "base_uri": "https://localhost:8080/",
          "height": 70
        },
        "id": "uL02ugRTlETc",
        "outputId": "7f6bf468-ac30-4a5c-f94f-94377dfa0520"
      },
      "outputs": [
        {
          "output_type": "execute_result",
          "data": {
            "text/plain": [
              "'\\n# path = untar_data(URLs.ML_100k) - using gmovelines - use kaggle dataset api idempotently\\n# !mv \\'/content/drive/MyDrive/Colab Notebooks/data/kaggle.json\\' /root/.kaggle\\n!cd ~\\n!pwd\\n!ls\\n!cd \\'/content/drive/MyDrive/_data/kaggle\\'\\nos.environ[\"KAGGLE_CONFIG_DIR\"] = \"/content/drive/MyDrive/_data/\"\\n!kaggle datasets download -d rounakbanik/the-movies-dataset -p \\'/content/drive/MyDrive/_data/kaggle\\'\\nos.chdir(\\'/content/drive/MyDrive/_data/kaggle\\')\\nfor file in os.listdir():\\n    zip_ref = zipfile.ZipFile(file, \\'r\\')\\n    zip_ref.extractall()\\n    zip_ref.close()\\n    \\n'"
            ],
            "application/vnd.google.colaboratory.intrinsic+json": {
              "type": "string"
            }
          },
          "metadata": {},
          "execution_count": 4
        }
      ],
      "source": [
        "from fastai.collab import *\n",
        "from fastai.tabular.all import *\n",
        "'''\n",
        "# path = untar_data(URLs.ML_100k) - using gmovelines - use kaggle dataset api idempotently\n",
        "# !mv '/content/drive/MyDrive/Colab Notebooks/data/kaggle.json' /root/.kaggle\n",
        "!cd ~\n",
        "!pwd\n",
        "!ls\n",
        "!cd '/content/drive/MyDrive/_data/kaggle'\n",
        "os.environ[\"KAGGLE_CONFIG_DIR\"] = \"/content/drive/MyDrive/_data/\"\n",
        "!kaggle datasets download -d rounakbanik/the-movies-dataset -p '/content/drive/MyDrive/_data/kaggle'\n",
        "os.chdir('/content/drive/MyDrive/_data/kaggle')\n",
        "for file in os.listdir():\n",
        "    zip_ref = zipfile.ZipFile(file, 'r')\n",
        "    zip_ref.extractall()\n",
        "    zip_ref.close()\n",
        "    \n",
        "'''"
      ]
    },
    {
      "cell_type": "markdown",
      "metadata": {
        "id": "uRdOlj64lETd"
      },
      "source": [
        "According to the *README*, the main table is in the file *u.data*. It is tab-separated and the columns are, respectively user, movie, rating, and timestamp. Since those names are not encoded, we need to indicate them when reading the file with Pandas. Here is a way to open this table and take a look:"
      ]
    },
    {
      "cell_type": "code",
      "execution_count": 5,
      "metadata": {
        "id": "5XbLQtRYoKiV"
      },
      "outputs": [],
      "source": [
        "df_credits = pd.read_csv('/content/gdrive/MyDrive/_data/kaggle/credits.csv', low_memory=False)\n",
        "df_keywords = pd.read_csv('/content/gdrive/MyDrive/_data/kaggle/keywords.csv', low_memory=False)\n",
        "df_links = pd.read_csv('/content/gdrive/MyDrive/_data/kaggle/links.csv', low_memory=False)\n",
        "df_links_small = pd.read_csv('/content/gdrive/MyDrive/_data/kaggle/links_small.csv', low_memory=False)\n",
        "df_movies_metadata = pd.read_csv('/content/gdrive/MyDrive/_data/kaggle/movies_metadata.csv', low_memory=False)\n",
        "df_ratings = pd.read_csv('/content/gdrive/MyDrive/_data/kaggle/ratings.csv', low_memory=False)\n",
        "df_ratings_small = pd.read_csv('/content/gdrive/MyDrive/_data/kaggle/ratings_small.csv', low_memory=False)"
      ]
    },
    {
      "cell_type": "code",
      "execution_count": 6,
      "metadata": {
        "colab": {
          "base_uri": "https://localhost:8080/",
          "height": 206
        },
        "id": "-NRro0FJozmT",
        "outputId": "deeef569-c4cf-48a7-8421-95b2fb105bba"
      },
      "outputs": [
        {
          "output_type": "execute_result",
          "data": {
            "text/plain": [
              "   user  movie  rating   timestamp\n",
              "0     1    110     1.0  1425941529\n",
              "1     1    147     4.5  1425942435\n",
              "2     1    858     5.0  1425941523\n",
              "3     1   1221     5.0  1425941546\n",
              "4     1   1246     5.0  1425941556"
            ],
            "text/html": [
              "\n",
              "  <div id=\"df-c7a78a8c-3b45-4001-8757-8a0ea9051593\">\n",
              "    <div class=\"colab-df-container\">\n",
              "      <div>\n",
              "<style scoped>\n",
              "    .dataframe tbody tr th:only-of-type {\n",
              "        vertical-align: middle;\n",
              "    }\n",
              "\n",
              "    .dataframe tbody tr th {\n",
              "        vertical-align: top;\n",
              "    }\n",
              "\n",
              "    .dataframe thead th {\n",
              "        text-align: right;\n",
              "    }\n",
              "</style>\n",
              "<table border=\"1\" class=\"dataframe\">\n",
              "  <thead>\n",
              "    <tr style=\"text-align: right;\">\n",
              "      <th></th>\n",
              "      <th>user</th>\n",
              "      <th>movie</th>\n",
              "      <th>rating</th>\n",
              "      <th>timestamp</th>\n",
              "    </tr>\n",
              "  </thead>\n",
              "  <tbody>\n",
              "    <tr>\n",
              "      <th>0</th>\n",
              "      <td>1</td>\n",
              "      <td>110</td>\n",
              "      <td>1.0</td>\n",
              "      <td>1425941529</td>\n",
              "    </tr>\n",
              "    <tr>\n",
              "      <th>1</th>\n",
              "      <td>1</td>\n",
              "      <td>147</td>\n",
              "      <td>4.5</td>\n",
              "      <td>1425942435</td>\n",
              "    </tr>\n",
              "    <tr>\n",
              "      <th>2</th>\n",
              "      <td>1</td>\n",
              "      <td>858</td>\n",
              "      <td>5.0</td>\n",
              "      <td>1425941523</td>\n",
              "    </tr>\n",
              "    <tr>\n",
              "      <th>3</th>\n",
              "      <td>1</td>\n",
              "      <td>1221</td>\n",
              "      <td>5.0</td>\n",
              "      <td>1425941546</td>\n",
              "    </tr>\n",
              "    <tr>\n",
              "      <th>4</th>\n",
              "      <td>1</td>\n",
              "      <td>1246</td>\n",
              "      <td>5.0</td>\n",
              "      <td>1425941556</td>\n",
              "    </tr>\n",
              "  </tbody>\n",
              "</table>\n",
              "</div>\n",
              "      <button class=\"colab-df-convert\" onclick=\"convertToInteractive('df-c7a78a8c-3b45-4001-8757-8a0ea9051593')\"\n",
              "              title=\"Convert this dataframe to an interactive table.\"\n",
              "              style=\"display:none;\">\n",
              "        \n",
              "  <svg xmlns=\"http://www.w3.org/2000/svg\" height=\"24px\"viewBox=\"0 0 24 24\"\n",
              "       width=\"24px\">\n",
              "    <path d=\"M0 0h24v24H0V0z\" fill=\"none\"/>\n",
              "    <path d=\"M18.56 5.44l.94 2.06.94-2.06 2.06-.94-2.06-.94-.94-2.06-.94 2.06-2.06.94zm-11 1L8.5 8.5l.94-2.06 2.06-.94-2.06-.94L8.5 2.5l-.94 2.06-2.06.94zm10 10l.94 2.06.94-2.06 2.06-.94-2.06-.94-.94-2.06-.94 2.06-2.06.94z\"/><path d=\"M17.41 7.96l-1.37-1.37c-.4-.4-.92-.59-1.43-.59-.52 0-1.04.2-1.43.59L10.3 9.45l-7.72 7.72c-.78.78-.78 2.05 0 2.83L4 21.41c.39.39.9.59 1.41.59.51 0 1.02-.2 1.41-.59l7.78-7.78 2.81-2.81c.8-.78.8-2.07 0-2.86zM5.41 20L4 18.59l7.72-7.72 1.47 1.35L5.41 20z\"/>\n",
              "  </svg>\n",
              "      </button>\n",
              "      \n",
              "  <style>\n",
              "    .colab-df-container {\n",
              "      display:flex;\n",
              "      flex-wrap:wrap;\n",
              "      gap: 12px;\n",
              "    }\n",
              "\n",
              "    .colab-df-convert {\n",
              "      background-color: #E8F0FE;\n",
              "      border: none;\n",
              "      border-radius: 50%;\n",
              "      cursor: pointer;\n",
              "      display: none;\n",
              "      fill: #1967D2;\n",
              "      height: 32px;\n",
              "      padding: 0 0 0 0;\n",
              "      width: 32px;\n",
              "    }\n",
              "\n",
              "    .colab-df-convert:hover {\n",
              "      background-color: #E2EBFA;\n",
              "      box-shadow: 0px 1px 2px rgba(60, 64, 67, 0.3), 0px 1px 3px 1px rgba(60, 64, 67, 0.15);\n",
              "      fill: #174EA6;\n",
              "    }\n",
              "\n",
              "    [theme=dark] .colab-df-convert {\n",
              "      background-color: #3B4455;\n",
              "      fill: #D2E3FC;\n",
              "    }\n",
              "\n",
              "    [theme=dark] .colab-df-convert:hover {\n",
              "      background-color: #434B5C;\n",
              "      box-shadow: 0px 1px 3px 1px rgba(0, 0, 0, 0.15);\n",
              "      filter: drop-shadow(0px 1px 2px rgba(0, 0, 0, 0.3));\n",
              "      fill: #FFFFFF;\n",
              "    }\n",
              "  </style>\n",
              "\n",
              "      <script>\n",
              "        const buttonEl =\n",
              "          document.querySelector('#df-c7a78a8c-3b45-4001-8757-8a0ea9051593 button.colab-df-convert');\n",
              "        buttonEl.style.display =\n",
              "          google.colab.kernel.accessAllowed ? 'block' : 'none';\n",
              "\n",
              "        async function convertToInteractive(key) {\n",
              "          const element = document.querySelector('#df-c7a78a8c-3b45-4001-8757-8a0ea9051593');\n",
              "          const dataTable =\n",
              "            await google.colab.kernel.invokeFunction('convertToInteractive',\n",
              "                                                     [key], {});\n",
              "          if (!dataTable) return;\n",
              "\n",
              "          const docLinkHtml = 'Like what you see? Visit the ' +\n",
              "            '<a target=\"_blank\" href=https://colab.research.google.com/notebooks/data_table.ipynb>data table notebook</a>'\n",
              "            + ' to learn more about interactive tables.';\n",
              "          element.innerHTML = '';\n",
              "          dataTable['output_type'] = 'display_data';\n",
              "          await google.colab.output.renderOutput(dataTable, element);\n",
              "          const docLink = document.createElement('div');\n",
              "          docLink.innerHTML = docLinkHtml;\n",
              "          element.appendChild(docLink);\n",
              "        }\n",
              "      </script>\n",
              "    </div>\n",
              "  </div>\n",
              "  "
            ]
          },
          "metadata": {},
          "execution_count": 6
        }
      ],
      "source": [
        "df_ratings.rename(columns = {'movieId':'movie','userId':'user' }, inplace = True)\n",
        "df_ratings.head()"
      ]
    },
    {
      "cell_type": "code",
      "execution_count": 7,
      "metadata": {
        "id": "0DoLP0F7orN-"
      },
      "outputs": [],
      "source": [
        "ratings=df_ratings"
      ]
    },
    {
      "cell_type": "code",
      "source": [
        "df_ratings_small.rename(columns = {'movieId':'movie','userId':'user' }, inplace = True)\n",
        "df_ratings_small.head()"
      ],
      "metadata": {
        "colab": {
          "base_uri": "https://localhost:8080/",
          "height": 206
        },
        "id": "r-WhkDhc9J_Y",
        "outputId": "6f9d83f1-24d6-4ff3-9e87-073a59fc3e29"
      },
      "execution_count": 8,
      "outputs": [
        {
          "output_type": "execute_result",
          "data": {
            "text/plain": [
              "   user  movie  rating   timestamp\n",
              "0     1     31     2.5  1260759144\n",
              "1     1   1029     3.0  1260759179\n",
              "2     1   1061     3.0  1260759182\n",
              "3     1   1129     2.0  1260759185\n",
              "4     1   1172     4.0  1260759205"
            ],
            "text/html": [
              "\n",
              "  <div id=\"df-64cc8b0c-e54b-4334-86ec-90420abc86aa\">\n",
              "    <div class=\"colab-df-container\">\n",
              "      <div>\n",
              "<style scoped>\n",
              "    .dataframe tbody tr th:only-of-type {\n",
              "        vertical-align: middle;\n",
              "    }\n",
              "\n",
              "    .dataframe tbody tr th {\n",
              "        vertical-align: top;\n",
              "    }\n",
              "\n",
              "    .dataframe thead th {\n",
              "        text-align: right;\n",
              "    }\n",
              "</style>\n",
              "<table border=\"1\" class=\"dataframe\">\n",
              "  <thead>\n",
              "    <tr style=\"text-align: right;\">\n",
              "      <th></th>\n",
              "      <th>user</th>\n",
              "      <th>movie</th>\n",
              "      <th>rating</th>\n",
              "      <th>timestamp</th>\n",
              "    </tr>\n",
              "  </thead>\n",
              "  <tbody>\n",
              "    <tr>\n",
              "      <th>0</th>\n",
              "      <td>1</td>\n",
              "      <td>31</td>\n",
              "      <td>2.5</td>\n",
              "      <td>1260759144</td>\n",
              "    </tr>\n",
              "    <tr>\n",
              "      <th>1</th>\n",
              "      <td>1</td>\n",
              "      <td>1029</td>\n",
              "      <td>3.0</td>\n",
              "      <td>1260759179</td>\n",
              "    </tr>\n",
              "    <tr>\n",
              "      <th>2</th>\n",
              "      <td>1</td>\n",
              "      <td>1061</td>\n",
              "      <td>3.0</td>\n",
              "      <td>1260759182</td>\n",
              "    </tr>\n",
              "    <tr>\n",
              "      <th>3</th>\n",
              "      <td>1</td>\n",
              "      <td>1129</td>\n",
              "      <td>2.0</td>\n",
              "      <td>1260759185</td>\n",
              "    </tr>\n",
              "    <tr>\n",
              "      <th>4</th>\n",
              "      <td>1</td>\n",
              "      <td>1172</td>\n",
              "      <td>4.0</td>\n",
              "      <td>1260759205</td>\n",
              "    </tr>\n",
              "  </tbody>\n",
              "</table>\n",
              "</div>\n",
              "      <button class=\"colab-df-convert\" onclick=\"convertToInteractive('df-64cc8b0c-e54b-4334-86ec-90420abc86aa')\"\n",
              "              title=\"Convert this dataframe to an interactive table.\"\n",
              "              style=\"display:none;\">\n",
              "        \n",
              "  <svg xmlns=\"http://www.w3.org/2000/svg\" height=\"24px\"viewBox=\"0 0 24 24\"\n",
              "       width=\"24px\">\n",
              "    <path d=\"M0 0h24v24H0V0z\" fill=\"none\"/>\n",
              "    <path d=\"M18.56 5.44l.94 2.06.94-2.06 2.06-.94-2.06-.94-.94-2.06-.94 2.06-2.06.94zm-11 1L8.5 8.5l.94-2.06 2.06-.94-2.06-.94L8.5 2.5l-.94 2.06-2.06.94zm10 10l.94 2.06.94-2.06 2.06-.94-2.06-.94-.94-2.06-.94 2.06-2.06.94z\"/><path d=\"M17.41 7.96l-1.37-1.37c-.4-.4-.92-.59-1.43-.59-.52 0-1.04.2-1.43.59L10.3 9.45l-7.72 7.72c-.78.78-.78 2.05 0 2.83L4 21.41c.39.39.9.59 1.41.59.51 0 1.02-.2 1.41-.59l7.78-7.78 2.81-2.81c.8-.78.8-2.07 0-2.86zM5.41 20L4 18.59l7.72-7.72 1.47 1.35L5.41 20z\"/>\n",
              "  </svg>\n",
              "      </button>\n",
              "      \n",
              "  <style>\n",
              "    .colab-df-container {\n",
              "      display:flex;\n",
              "      flex-wrap:wrap;\n",
              "      gap: 12px;\n",
              "    }\n",
              "\n",
              "    .colab-df-convert {\n",
              "      background-color: #E8F0FE;\n",
              "      border: none;\n",
              "      border-radius: 50%;\n",
              "      cursor: pointer;\n",
              "      display: none;\n",
              "      fill: #1967D2;\n",
              "      height: 32px;\n",
              "      padding: 0 0 0 0;\n",
              "      width: 32px;\n",
              "    }\n",
              "\n",
              "    .colab-df-convert:hover {\n",
              "      background-color: #E2EBFA;\n",
              "      box-shadow: 0px 1px 2px rgba(60, 64, 67, 0.3), 0px 1px 3px 1px rgba(60, 64, 67, 0.15);\n",
              "      fill: #174EA6;\n",
              "    }\n",
              "\n",
              "    [theme=dark] .colab-df-convert {\n",
              "      background-color: #3B4455;\n",
              "      fill: #D2E3FC;\n",
              "    }\n",
              "\n",
              "    [theme=dark] .colab-df-convert:hover {\n",
              "      background-color: #434B5C;\n",
              "      box-shadow: 0px 1px 3px 1px rgba(0, 0, 0, 0.15);\n",
              "      filter: drop-shadow(0px 1px 2px rgba(0, 0, 0, 0.3));\n",
              "      fill: #FFFFFF;\n",
              "    }\n",
              "  </style>\n",
              "\n",
              "      <script>\n",
              "        const buttonEl =\n",
              "          document.querySelector('#df-64cc8b0c-e54b-4334-86ec-90420abc86aa button.colab-df-convert');\n",
              "        buttonEl.style.display =\n",
              "          google.colab.kernel.accessAllowed ? 'block' : 'none';\n",
              "\n",
              "        async function convertToInteractive(key) {\n",
              "          const element = document.querySelector('#df-64cc8b0c-e54b-4334-86ec-90420abc86aa');\n",
              "          const dataTable =\n",
              "            await google.colab.kernel.invokeFunction('convertToInteractive',\n",
              "                                                     [key], {});\n",
              "          if (!dataTable) return;\n",
              "\n",
              "          const docLinkHtml = 'Like what you see? Visit the ' +\n",
              "            '<a target=\"_blank\" href=https://colab.research.google.com/notebooks/data_table.ipynb>data table notebook</a>'\n",
              "            + ' to learn more about interactive tables.';\n",
              "          element.innerHTML = '';\n",
              "          dataTable['output_type'] = 'display_data';\n",
              "          await google.colab.output.renderOutput(dataTable, element);\n",
              "          const docLink = document.createElement('div');\n",
              "          docLink.innerHTML = docLinkHtml;\n",
              "          element.appendChild(docLink);\n",
              "        }\n",
              "      </script>\n",
              "    </div>\n",
              "  </div>\n",
              "  "
            ]
          },
          "metadata": {},
          "execution_count": 8
        }
      ]
    },
    {
      "cell_type": "code",
      "source": [
        "ratings=df_ratings_small"
      ],
      "metadata": {
        "id": "Iiv-8Vr09ja3"
      },
      "execution_count": 9,
      "outputs": []
    },
    {
      "cell_type": "code",
      "execution_count": 10,
      "metadata": {
        "colab": {
          "base_uri": "https://localhost:8080/",
          "height": 35
        },
        "id": "fGtSgx0-lETe",
        "outputId": "4b980653-836d-4eb9-c870-c08f517a0ded"
      },
      "outputs": [
        {
          "output_type": "execute_result",
          "data": {
            "text/plain": [
              "\"\\nratings = pd.read_csv(path/'u.data', delimiter='\\t', header=None,\\n                      names=['user','movie','rating','timestamp'])\\nratings.head()\\n\""
            ],
            "application/vnd.google.colaboratory.intrinsic+json": {
              "type": "string"
            }
          },
          "metadata": {},
          "execution_count": 10
        }
      ],
      "source": [
        "'''\n",
        "ratings = pd.read_csv(path/'u.data', delimiter='\\t', header=None,\n",
        "                      names=['user','movie','rating','timestamp'])\n",
        "ratings.head()\n",
        "'''"
      ]
    },
    {
      "cell_type": "markdown",
      "metadata": {
        "id": "7u680QGflETf"
      },
      "source": [
        "Although this has all the information we need, it is not a particularly helpful way for humans to look at this data. <<movie_xtab>> shows the same data cross-tabulated into a human-friendly table."
      ]
    },
    {
      "cell_type": "markdown",
      "metadata": {
        "id": "OYLLNnZolETf"
      },
      "source": [
        "<img alt=\"Crosstab of movies and users\" width=\"632\" caption=\"Crosstab of movies and users\" id=\"movie_xtab\" src=\"https://github.com/fastai/fastbook/blob/master/images/att_00040.png?raw=1\">"
      ]
    },
    {
      "cell_type": "markdown",
      "metadata": {
        "id": "VBjUkvHOlETg"
      },
      "source": [
        "We have selected just a few of the most popular movies, and users who watch the most movies, for this crosstab example. The empty cells in this table are the things that we would like our model to learn to fill in. Those are the places where a user has not reviewed the movie yet, presumably because they have not watched it. For each user, we would like to figure out which of those movies they might be most likely to enjoy.\n",
        "\n",
        "If we knew for each user to what degree they liked each important category that a movie might fall into, such as genre, age, preferred directors and actors, and so forth, and we knew the same information about each movie, then a simple way to fill in this table would be to multiply this information together for each movie and use a combination. For instance, assuming these factors range between -1 and +1, with positive numbers indicating stronger matches and negative numbers weaker ones, and the categories are science-fiction, action, and old movies, then we could represent the movie *The Last Skywalker* as:"
      ]
    },
    {
      "cell_type": "code",
      "execution_count": 11,
      "metadata": {
        "id": "5ztJf15LlETg"
      },
      "outputs": [],
      "source": [
        "last_skywalker = np.array([0.98,0.9,-0.9])"
      ]
    },
    {
      "cell_type": "markdown",
      "metadata": {
        "id": "Y01dcoXRlETg"
      },
      "source": [
        "Here, for instance, we are scoring *very science-fiction* as 0.98, *very action* as 0.9, and *very not old* as -0.9. We could represent a user who likes modern sci-fi action movies as:"
      ]
    },
    {
      "cell_type": "code",
      "execution_count": 12,
      "metadata": {
        "id": "izG2S7S5lETh"
      },
      "outputs": [],
      "source": [
        "user1 = np.array([0.9,0.8,-0.6])"
      ]
    },
    {
      "cell_type": "markdown",
      "metadata": {
        "id": "LEcE6sYFlETh"
      },
      "source": [
        "and we can now calculate the match between this combination:"
      ]
    },
    {
      "cell_type": "code",
      "execution_count": 13,
      "metadata": {
        "colab": {
          "base_uri": "https://localhost:8080/"
        },
        "id": "vw9AGWnslETh",
        "outputId": "9fc3c85c-b009-4204-9825-7a84c23a1086"
      },
      "outputs": [
        {
          "output_type": "execute_result",
          "data": {
            "text/plain": [
              "2.1420000000000003"
            ]
          },
          "metadata": {},
          "execution_count": 13
        }
      ],
      "source": [
        "(user1*last_skywalker).sum()"
      ]
    },
    {
      "cell_type": "markdown",
      "metadata": {
        "id": "a_sxfVyzlETh"
      },
      "source": [
        "When we multiply two vectors together and add up the results, this is known as the *dot product*. It is used a lot in machine learning, and forms the basis of matrix multiplication. We will be looking a lot more at matrix multiplication and dot products in <<chapter_foundations>>."
      ]
    },
    {
      "cell_type": "markdown",
      "metadata": {
        "id": "DftgUmzilETi"
      },
      "source": [
        "> jargon: dot product: The mathematical operation of multiplying the elements of two vectors together, and then summing up the result."
      ]
    },
    {
      "cell_type": "markdown",
      "metadata": {
        "id": "bf0pb7TzlETi"
      },
      "source": [
        "On the other hand, we might represent the movie *Casablanca* as:"
      ]
    },
    {
      "cell_type": "code",
      "execution_count": 14,
      "metadata": {
        "id": "CQDeclI8lETi"
      },
      "outputs": [],
      "source": [
        "casablanca = np.array([-0.99,-0.3,0.8])"
      ]
    },
    {
      "cell_type": "markdown",
      "metadata": {
        "id": "9kx-u4JClETi"
      },
      "source": [
        "The match between this combination is:"
      ]
    },
    {
      "cell_type": "code",
      "execution_count": 15,
      "metadata": {
        "colab": {
          "base_uri": "https://localhost:8080/"
        },
        "id": "ahJkrDtilETi",
        "outputId": "df2e0726-84fd-4eaa-d20d-2299e5ac370d"
      },
      "outputs": [
        {
          "output_type": "execute_result",
          "data": {
            "text/plain": [
              "-1.611"
            ]
          },
          "metadata": {},
          "execution_count": 15
        }
      ],
      "source": [
        "(user1*casablanca).sum()"
      ]
    },
    {
      "cell_type": "markdown",
      "metadata": {
        "id": "oYOAHrCslETj"
      },
      "source": [
        "Since we don't know what the latent factors actually are, and we don't know how to score them for each user and movie, we should learn them."
      ]
    },
    {
      "cell_type": "markdown",
      "metadata": {
        "id": "bz_AK3emlETj"
      },
      "source": [
        "## Learning the Latent Factors"
      ]
    },
    {
      "cell_type": "markdown",
      "metadata": {
        "id": "Mjy5yUhtlETj"
      },
      "source": [
        "There is surprisingly little difference between specifying the structure of a model, as we did in the last section, and learning one, since we can just use our general gradient descent approach.\n",
        "\n",
        "Step 1 of this approach is to randomly initialize some parameters. These parameters will be a set of latent factors for each user and movie. We will have to decide how many to use. We will discuss how to select this shortly, but for illustrative purposes let's use 5 for now. Because each user will have a set of these factors and each movie will have a set of these factors, we can show these randomly initialized values right next to the users and movies in our crosstab, and we can then fill in the dot products for each of these combinations in the middle. For example, <<xtab_latent>> shows what it looks like in Microsoft Excel, with the top-left cell formula displayed as an example."
      ]
    },
    {
      "cell_type": "markdown",
      "metadata": {
        "id": "uDVF29M4lETj"
      },
      "source": [
        "<img alt=\"Latent factors with crosstab\" width=\"900\" caption=\"Latent factors with crosstab\" id=\"xtab_latent\" src=\"https://github.com/fastai/fastbook/blob/master/images/att_00041.png?raw=1\">"
      ]
    },
    {
      "cell_type": "markdown",
      "metadata": {
        "id": "-pcm0HLklETj"
      },
      "source": [
        "Step 2 of this approach is to calculate our predictions. As we've discussed, we can do this by simply taking the dot product of each movie with each user. If, for instance, the first latent user factor represents how much the user likes action movies and the first latent movie factor represents if the movie has a lot of action or not, the product of those will be particularly high if either the user likes action movies and the movie has a lot of action in it or the user doesn't like action movies and the movie doesn't have any action in it. On the other hand, if we have a mismatch (a user loves action movies but the movie isn't an action film, or the user doesn't like action movies and it is one), the product will be very low.\n",
        "\n",
        "Step 3 is to calculate our loss. We can use any loss function that we wish; let's pick mean squared error for now, since that is one reasonable way to represent the accuracy of a prediction.\n",
        "\n",
        "That's all we need. With this in place, we can optimize our parameters (that is, the latent factors) using stochastic gradient descent, such as to minimize the loss. At each step, the stochastic gradient descent optimizer will calculate the match between each movie and each user using the dot product, and will compare it to the actual rating that each user gave to each movie. It will then calculate the derivative of this value and will step the weights by multiplying this by the learning rate. After doing this lots of times, the loss will get better and better, and the recommendations will also get better and better."
      ]
    },
    {
      "cell_type": "markdown",
      "metadata": {
        "id": "kWDCPCZNlETk"
      },
      "source": [
        "To use the usual `Learner.fit` function we will need to get our data into a `DataLoaders`, so let's focus on that now."
      ]
    },
    {
      "cell_type": "markdown",
      "metadata": {
        "id": "PQXPI5orlETk"
      },
      "source": [
        "## Creating the DataLoaders"
      ]
    },
    {
      "cell_type": "markdown",
      "metadata": {
        "id": "2jfUb5yhlETk"
      },
      "source": [
        "When showing the data, we would rather see movie titles than their IDs. The table `u.item` contains the correspondence of IDs to titles:"
      ]
    },
    {
      "cell_type": "code",
      "execution_count": 16,
      "metadata": {
        "colab": {
          "base_uri": "https://localhost:8080/",
          "height": 35
        },
        "id": "PneaijkflETk",
        "outputId": "838b4f4c-b9b3-46fa-8c20-b5ecacdf950a"
      },
      "outputs": [
        {
          "output_type": "execute_result",
          "data": {
            "text/plain": [
              "\"\\nmovies = pd.read_csv(path/'u.item',  delimiter='|', encoding='latin-1',\\n                     usecols=(0,1), names=('movie','title'), header=None)\\nmovies.head()\\n\""
            ],
            "application/vnd.google.colaboratory.intrinsic+json": {
              "type": "string"
            }
          },
          "metadata": {},
          "execution_count": 16
        }
      ],
      "source": [
        "'''\n",
        "movies = pd.read_csv(path/'u.item',  delimiter='|', encoding='latin-1',\n",
        "                     usecols=(0,1), names=('movie','title'), header=None)\n",
        "movies.head()\n",
        "'''"
      ]
    },
    {
      "cell_type": "code",
      "execution_count": 17,
      "metadata": {
        "id": "uss5xV-LqEwL"
      },
      "outputs": [],
      "source": [
        "df_movies_metadata.columns\n",
        "movies=df_movies_metadata[['id','title']].copy(deep=True)\n",
        "movies.head\n",
        "movies.rename(columns = {'id':'movie'}, inplace = True)\n",
        "movies['movie'] = pd.to_numeric(movies['movie'], errors='coerce')"
      ]
    },
    {
      "cell_type": "markdown",
      "metadata": {
        "id": "FVh5VUaJlETk"
      },
      "source": [
        "We can merge this with our `ratings` table to get the user ratings by title:"
      ]
    },
    {
      "cell_type": "code",
      "execution_count": 18,
      "metadata": {
        "colab": {
          "base_uri": "https://localhost:8080/",
          "height": 206
        },
        "id": "7-J3mrCplETl",
        "outputId": "80de6921-f095-4011-b84f-430ae2b03685"
      },
      "outputs": [
        {
          "output_type": "execute_result",
          "data": {
            "text/plain": [
              "   user  movie  rating   timestamp      title\n",
              "0     1   1371     2.5  1260759135  Rocky III\n",
              "1     4   1371     4.0   949810302  Rocky III\n",
              "2     7   1371     3.0   851869160  Rocky III\n",
              "3    19   1371     4.0   855193404  Rocky III\n",
              "4    21   1371     3.0   853852263  Rocky III"
            ],
            "text/html": [
              "\n",
              "  <div id=\"df-d24ab227-cbc1-457a-aa16-a62dc37fe3f5\">\n",
              "    <div class=\"colab-df-container\">\n",
              "      <div>\n",
              "<style scoped>\n",
              "    .dataframe tbody tr th:only-of-type {\n",
              "        vertical-align: middle;\n",
              "    }\n",
              "\n",
              "    .dataframe tbody tr th {\n",
              "        vertical-align: top;\n",
              "    }\n",
              "\n",
              "    .dataframe thead th {\n",
              "        text-align: right;\n",
              "    }\n",
              "</style>\n",
              "<table border=\"1\" class=\"dataframe\">\n",
              "  <thead>\n",
              "    <tr style=\"text-align: right;\">\n",
              "      <th></th>\n",
              "      <th>user</th>\n",
              "      <th>movie</th>\n",
              "      <th>rating</th>\n",
              "      <th>timestamp</th>\n",
              "      <th>title</th>\n",
              "    </tr>\n",
              "  </thead>\n",
              "  <tbody>\n",
              "    <tr>\n",
              "      <th>0</th>\n",
              "      <td>1</td>\n",
              "      <td>1371</td>\n",
              "      <td>2.5</td>\n",
              "      <td>1260759135</td>\n",
              "      <td>Rocky III</td>\n",
              "    </tr>\n",
              "    <tr>\n",
              "      <th>1</th>\n",
              "      <td>4</td>\n",
              "      <td>1371</td>\n",
              "      <td>4.0</td>\n",
              "      <td>949810302</td>\n",
              "      <td>Rocky III</td>\n",
              "    </tr>\n",
              "    <tr>\n",
              "      <th>2</th>\n",
              "      <td>7</td>\n",
              "      <td>1371</td>\n",
              "      <td>3.0</td>\n",
              "      <td>851869160</td>\n",
              "      <td>Rocky III</td>\n",
              "    </tr>\n",
              "    <tr>\n",
              "      <th>3</th>\n",
              "      <td>19</td>\n",
              "      <td>1371</td>\n",
              "      <td>4.0</td>\n",
              "      <td>855193404</td>\n",
              "      <td>Rocky III</td>\n",
              "    </tr>\n",
              "    <tr>\n",
              "      <th>4</th>\n",
              "      <td>21</td>\n",
              "      <td>1371</td>\n",
              "      <td>3.0</td>\n",
              "      <td>853852263</td>\n",
              "      <td>Rocky III</td>\n",
              "    </tr>\n",
              "  </tbody>\n",
              "</table>\n",
              "</div>\n",
              "      <button class=\"colab-df-convert\" onclick=\"convertToInteractive('df-d24ab227-cbc1-457a-aa16-a62dc37fe3f5')\"\n",
              "              title=\"Convert this dataframe to an interactive table.\"\n",
              "              style=\"display:none;\">\n",
              "        \n",
              "  <svg xmlns=\"http://www.w3.org/2000/svg\" height=\"24px\"viewBox=\"0 0 24 24\"\n",
              "       width=\"24px\">\n",
              "    <path d=\"M0 0h24v24H0V0z\" fill=\"none\"/>\n",
              "    <path d=\"M18.56 5.44l.94 2.06.94-2.06 2.06-.94-2.06-.94-.94-2.06-.94 2.06-2.06.94zm-11 1L8.5 8.5l.94-2.06 2.06-.94-2.06-.94L8.5 2.5l-.94 2.06-2.06.94zm10 10l.94 2.06.94-2.06 2.06-.94-2.06-.94-.94-2.06-.94 2.06-2.06.94z\"/><path d=\"M17.41 7.96l-1.37-1.37c-.4-.4-.92-.59-1.43-.59-.52 0-1.04.2-1.43.59L10.3 9.45l-7.72 7.72c-.78.78-.78 2.05 0 2.83L4 21.41c.39.39.9.59 1.41.59.51 0 1.02-.2 1.41-.59l7.78-7.78 2.81-2.81c.8-.78.8-2.07 0-2.86zM5.41 20L4 18.59l7.72-7.72 1.47 1.35L5.41 20z\"/>\n",
              "  </svg>\n",
              "      </button>\n",
              "      \n",
              "  <style>\n",
              "    .colab-df-container {\n",
              "      display:flex;\n",
              "      flex-wrap:wrap;\n",
              "      gap: 12px;\n",
              "    }\n",
              "\n",
              "    .colab-df-convert {\n",
              "      background-color: #E8F0FE;\n",
              "      border: none;\n",
              "      border-radius: 50%;\n",
              "      cursor: pointer;\n",
              "      display: none;\n",
              "      fill: #1967D2;\n",
              "      height: 32px;\n",
              "      padding: 0 0 0 0;\n",
              "      width: 32px;\n",
              "    }\n",
              "\n",
              "    .colab-df-convert:hover {\n",
              "      background-color: #E2EBFA;\n",
              "      box-shadow: 0px 1px 2px rgba(60, 64, 67, 0.3), 0px 1px 3px 1px rgba(60, 64, 67, 0.15);\n",
              "      fill: #174EA6;\n",
              "    }\n",
              "\n",
              "    [theme=dark] .colab-df-convert {\n",
              "      background-color: #3B4455;\n",
              "      fill: #D2E3FC;\n",
              "    }\n",
              "\n",
              "    [theme=dark] .colab-df-convert:hover {\n",
              "      background-color: #434B5C;\n",
              "      box-shadow: 0px 1px 3px 1px rgba(0, 0, 0, 0.15);\n",
              "      filter: drop-shadow(0px 1px 2px rgba(0, 0, 0, 0.3));\n",
              "      fill: #FFFFFF;\n",
              "    }\n",
              "  </style>\n",
              "\n",
              "      <script>\n",
              "        const buttonEl =\n",
              "          document.querySelector('#df-d24ab227-cbc1-457a-aa16-a62dc37fe3f5 button.colab-df-convert');\n",
              "        buttonEl.style.display =\n",
              "          google.colab.kernel.accessAllowed ? 'block' : 'none';\n",
              "\n",
              "        async function convertToInteractive(key) {\n",
              "          const element = document.querySelector('#df-d24ab227-cbc1-457a-aa16-a62dc37fe3f5');\n",
              "          const dataTable =\n",
              "            await google.colab.kernel.invokeFunction('convertToInteractive',\n",
              "                                                     [key], {});\n",
              "          if (!dataTable) return;\n",
              "\n",
              "          const docLinkHtml = 'Like what you see? Visit the ' +\n",
              "            '<a target=\"_blank\" href=https://colab.research.google.com/notebooks/data_table.ipynb>data table notebook</a>'\n",
              "            + ' to learn more about interactive tables.';\n",
              "          element.innerHTML = '';\n",
              "          dataTable['output_type'] = 'display_data';\n",
              "          await google.colab.output.renderOutput(dataTable, element);\n",
              "          const docLink = document.createElement('div');\n",
              "          docLink.innerHTML = docLinkHtml;\n",
              "          element.appendChild(docLink);\n",
              "        }\n",
              "      </script>\n",
              "    </div>\n",
              "  </div>\n",
              "  "
            ]
          },
          "metadata": {},
          "execution_count": 18
        }
      ],
      "source": [
        "ratings = ratings.merge(movies)\n",
        "ratings.head()"
      ]
    },
    {
      "cell_type": "markdown",
      "metadata": {
        "id": "JYAXEa96lETl"
      },
      "source": [
        "We can then build a `DataLoaders` object from this table. By default, it takes the first column for the user, the second column for the item (here our movies), and the third column for the ratings. We need to change the value of `item_name` in our case to use the titles instead of the IDs:"
      ]
    },
    {
      "cell_type": "code",
      "execution_count": 19,
      "metadata": {
        "colab": {
          "base_uri": "https://localhost:8080/",
          "height": 363
        },
        "id": "xaP-FUazlETl",
        "outputId": "b16e066e-42ac-42b0-c6aa-da1e07937ef9"
      },
      "outputs": [
        {
          "output_type": "display_data",
          "data": {
            "text/plain": [
              "<IPython.core.display.HTML object>"
            ],
            "text/html": [
              "<table border=\"1\" class=\"dataframe\">\n",
              "  <thead>\n",
              "    <tr style=\"text-align: right;\">\n",
              "      <th></th>\n",
              "      <th>user</th>\n",
              "      <th>title</th>\n",
              "      <th>rating</th>\n",
              "    </tr>\n",
              "  </thead>\n",
              "  <tbody>\n",
              "    <tr>\n",
              "      <th>0</th>\n",
              "      <td>196</td>\n",
              "      <td>Cat on a Hot Tin Roof</td>\n",
              "      <td>4.0</td>\n",
              "    </tr>\n",
              "    <tr>\n",
              "      <th>1</th>\n",
              "      <td>511</td>\n",
              "      <td>The Million Dollar Hotel</td>\n",
              "      <td>5.0</td>\n",
              "    </tr>\n",
              "    <tr>\n",
              "      <th>2</th>\n",
              "      <td>514</td>\n",
              "      <td>The Killing</td>\n",
              "      <td>5.0</td>\n",
              "    </tr>\n",
              "    <tr>\n",
              "      <th>3</th>\n",
              "      <td>56</td>\n",
              "      <td>Young Frankenstein</td>\n",
              "      <td>4.0</td>\n",
              "    </tr>\n",
              "    <tr>\n",
              "      <th>4</th>\n",
              "      <td>392</td>\n",
              "      <td>Wind with the Gone</td>\n",
              "      <td>3.0</td>\n",
              "    </tr>\n",
              "    <tr>\n",
              "      <th>5</th>\n",
              "      <td>502</td>\n",
              "      <td>Monsieur  Hulot's Holiday</td>\n",
              "      <td>5.0</td>\n",
              "    </tr>\n",
              "    <tr>\n",
              "      <th>6</th>\n",
              "      <td>502</td>\n",
              "      <td>Run Lola Run</td>\n",
              "      <td>4.0</td>\n",
              "    </tr>\n",
              "    <tr>\n",
              "      <th>7</th>\n",
              "      <td>354</td>\n",
              "      <td>Stand by Me</td>\n",
              "      <td>5.0</td>\n",
              "    </tr>\n",
              "    <tr>\n",
              "      <th>8</th>\n",
              "      <td>452</td>\n",
              "      <td>Dragonslayer</td>\n",
              "      <td>3.0</td>\n",
              "    </tr>\n",
              "    <tr>\n",
              "      <th>9</th>\n",
              "      <td>659</td>\n",
              "      <td>Lili Marleen</td>\n",
              "      <td>3.0</td>\n",
              "    </tr>\n",
              "  </tbody>\n",
              "</table>"
            ]
          },
          "metadata": {}
        }
      ],
      "source": [
        "dls = CollabDataLoaders.from_df(ratings, item_name='title', bs=64)\n",
        "dls.show_batch()"
      ]
    },
    {
      "cell_type": "markdown",
      "metadata": {
        "id": "PRQ9u8LclETm"
      },
      "source": [
        "To represent collaborative filtering in PyTorch we can't just use the crosstab representation directly, especially if we want it to fit into our deep learning framework. We can represent our movie and user latent factor tables as simple matrices:"
      ]
    },
    {
      "cell_type": "code",
      "execution_count": 20,
      "metadata": {
        "colab": {
          "base_uri": "https://localhost:8080/"
        },
        "id": "i7H9RVRTlETm",
        "outputId": "0acb0983-3995-49c7-aff7-33c830568b6d"
      },
      "outputs": [
        {
          "output_type": "execute_result",
          "data": {
            "text/plain": [
              "{'title': ['#na#', '!Women Art Revolution', \"'Gator Bait\", \"'Twas the Night Before Christmas\", '...And God Created Woman', '00 Schneider - Jagd auf Nihil Baxter', '10 Items or Less', '10 Things I Hate About You', '10,000 BC', \"11'09''01 - September 11\", '12 Angry Men', '13 Tzameti', '1408', '15 Minutes', '16 Blocks', '1900', '1942: A Love Story', '1984', '2 Days in Paris', '20,000 Leagues Under the Sea', '2001: A Space Odyssey', '2010', '2046', '2061 - Un anno eccezionale', '21 Grams', '24 Hour Party People', '25th Hour', '28 Days Later', '28 Weeks Later', '29th Street', '2:37', '3 Ninjas: High Noon at Mega Mountain', '3-Iron', '300', '33 Scenes from Life', '4 Months, 3 Weeks and 2 Days', '40 Days and 40 Nights', '42nd Street', '48 Hrs.', '5 Card Stud', '5 Days of War', '50 First Dates', '54', '7 Virgins', '8 Mile', '8 Women', '88 Minutes', '8:46', '8½', '9 Songs', '95 Miles to Go', '964 Pinocchio', '99 francs', 'A Beautiful Mind', 'A Bridge Too Far', 'A Brief History of Time', 'A Chef in Love', 'A Chorus Line', 'A Christmas Carol', 'A Christmas Story', 'A Christmas Tale', 'A Clockwork Orange', 'A Close Shave', 'A Common Thread', 'A Countess from Hong Kong', 'A Cure for Love', 'A Dandy in Aspic', 'A Dangerous Method', 'A Daughter Of Destiny', 'A Few Good Men', 'A Fistful of Dollars', 'A Friend of Mine', 'A Good Marriage', 'A Guide To Recognizing Your Saints', 'A Guide for the Married Man', \"A Hard Day's Night\", 'A History of Violence', 'A Kiss Before Dying', 'A Man, a Woman and a Bank', 'A Mighty Heart', 'A Night in Heaven', 'A Nightmare on Elm Street', 'A Perfect Murder', \"A Pyromaniac's Love Story\", 'A Real Young Girl', 'A River Runs Through It', 'A Scanner Darkly', 'A Shot in the Dark', 'A Slit-Mouthed Woman', 'A Somewhat Gentle Man', 'A Song of Lisbon', 'A Star Is Born', 'A Streetcar Named Desire', 'A Tale of Two Cities', 'A Tale of Two Sisters', 'A Taxing Woman', 'A Time for Killing', 'A Time to Kill', 'A Trip to the Moon', 'A Very Long Engagement', 'A View to a Kill', 'A Woman Is a Woman', 'A Woman, a Gun and a Noodle Shop', 'A2', 'Aamdani Atthanni Kharcha Rupaiya', 'Abel', 'About Schmidt', 'About a Boy', 'Abraham', 'Absolon', 'Absolute Power', 'Aces Go Places V: The Terracotta Hit', 'Across the Universe', \"Adam's Apples\", 'Adaptation.', 'Addams Family Values', 'Addicted to Love', 'Adrenalin: Fear the Rush', 'Adventures Of A Taxi Driver', 'Adventures of Zatôichi', 'Ae Fond Kiss...', 'Aelita: Queen of Mars', 'Affair in Havana', 'After the Wedding', 'Age of Consent', 'Aguirre: The Wrath of God', 'Air: Eating, Sleeping, Waiting and Playing', 'Airplane!', 'Akira', 'Aladin', 'Alamar', 'Alexander', 'Ali: Fear Eats the Soul', 'Alice in the Cities', \"Alice's Restaurant\", 'Alien', 'Aliens', 'Aliens vs Predator: Requiem', 'Alive', 'All About Eve', 'All About My Mother', 'All Stars', \"All the King's Men\", \"All the President's Men\", 'All the Way Boys', 'Almost Famous', 'Along Came Polly', 'Along Came a Spider', 'Alvin and the Chipmunks', 'Always', 'Always Outnumbered', 'Amadeus', 'Amelia', 'American Beauty', 'American Graffiti', 'American Grindhouse', 'American History X', 'American Mullet', 'American Pie', 'American Pie 2', 'American Pie Presents: The Naked Mile', 'American Psycho', 'American Splendor', 'American Wedding', 'Amigo, Stay Away', 'Amores perros', 'Amos & Andrew', 'Amsterdamned', 'Amélie', 'An American Tail', 'An American in Paris', 'An Angel at My Table', 'An Elephant Can Be Extremely Deceptive', 'An Ideal Husband', 'An Unfinished Life', 'An Unforgettable Summer', 'Ana and the Others', 'Anatomy of Hell', 'Anatomy of a Murder', 'Anchorman: The Legend of Ron Burgundy', 'And Along Come Tourists', 'And Then There Were None', 'And the Band Played On', 'And the Ship Sails On', 'André Hazes, Zij Gelooft in Mij', 'Angel Baby', 'Angel Face', 'Angel Heart', 'Angels and Insects', 'Anguish', 'Anima Mundi', 'Anjathe', 'Annaluise & Anton', 'Anne of the Indies', 'Annie Hall', \"Annie's Point\", 'Antibodies', 'Antoine and Colette', \"Antonia's Line\", 'Antz', \"Anybody's Son Will Do\", 'Anyone Can Play', 'Aparajito', 'Apartment Zero', 'Apocalypse Now', 'Apollo 13', 'Appointment with Death', 'Arctic Tale', 'Arena', 'Ariel', 'Arlington Road', 'Armageddon', 'Armed and Dangerous', 'Army of Darkness', 'Around the World in Eighty Days', 'Arthur and the Revenge of Maltazard', 'As Good as It Gets', 'As It Is in Heaven', 'Ashes and Diamonds', 'Ask the Dust', 'Asterix & Obelix: Mission Cleopatra', 'Asterix at the Olympic Games', 'Asylum', 'At Long Last Love', 'At Point Blank', 'At Risk', \"Atlantis: Milo's Return\", 'Atonement', 'Attack of the Killer Tomatoes!', 'Austin High', 'Austin Powers in Goldmember', 'Austin Powers: International Man of Mystery', 'Avalon', 'Away from Her', 'B. Monkey', 'Babel', 'Babes in Toyland', 'Babysitter Wanted', 'Back to the Future', 'Back to the Future Part II', 'Back to the Future Part III', 'Backdraft', 'Backlight', 'Bad Boys II', 'Bad Education', 'Bad Girls Go to Hell', 'Badlands', 'Bagdad Cafe', 'Baise-moi', 'Balzac and the Little Chinese Seamstress', 'Bambi Meets Godzilla', 'Bandidas', 'Bandido!', 'Bandyta', 'Bang, Boom, Bang', 'Bangkok Dangerous', 'Bangkok Traffic Love Story', 'Barefoot', 'Barking Water', 'Barocco', 'Barren Lives', 'Barry Lyndon', 'Barton Fink', 'Basic Instinct 2', 'Basic Training', 'Basket Case 2', 'Basket Case 3', 'Basquiat', 'Batman', 'Batman & Robin', 'Batman Begins', 'Batman Forever', 'Batman Returns', 'Battle Royale', 'Battle Royale II: Requiem', 'Battletruck', 'Bean', 'Beat', 'Beautiful Boxer', 'Beauty Is Embarrassing', 'Beauty and the Beast', 'Beavis and Butt-Head Do America', 'Because I Said So', 'Becoming Jane', 'Bed and Board', 'Bedazzled', 'Bedevilled', 'Beetlejuice', 'Before Night Falls', 'Before Stonewall', 'Before Sunrise', 'Before Sunset', 'Begotten', 'Being John Malkovich', 'Bell, Book and Candle', 'Bella Bettien', 'Belle Époque', 'Beloved Enemy', 'Ben X', 'Ben-Hur', 'Bend It Like Beckham', 'Benny & Joon', \"Benny's Video\", 'Beowulf', 'Beowulf & Grendel', 'Berkeley Square', 'Berlin is in Germany', 'Berlin: Symphony of a Great City', 'Best Seller', 'Best Worst Movie', 'Beste Zeit', 'Betty Blowtorch: And Her Amazing True Life Adventures', 'Beverly Hills Cop II', 'Beverly Hills Cop III', 'Beware of the Car!', 'Beyond Rangoon', 'Beyond Silence', 'Beyond Tomorrow', 'Beyond the Darkness', 'Big', 'Big Bad Mama', 'Big Fish', \"Big Girls Don't Cry... They Get Even\", 'Big River Man', 'Big Time', 'Big Trouble', 'Big Trouble in Little China', \"Bill & Ted's Bogus Journey\", \"Bill & Ted's Excellent Adventure\", 'Bill Burr: Let It Go', 'Billion Dollar Brain', 'Billy Budd', 'Billy Elliot', 'Bird on a Wire', 'Birdman of Alcatraz', 'Birthday Girl', 'Bis zum Ellenbogen', 'Black Lightning', 'Black Rain', 'Blackmail', 'Blade Runner', 'Blind', 'Blind Date', 'Blind Man', 'Blindness', 'Blindsight', 'Blondie Goes Latin', 'Blondie Has Servant Trouble', 'Blondie Knows Best', 'Blondie Plays Cupid', 'Blondie of the Follies', 'Blondie on a Budget', 'Blood Diamond', 'Blood River', 'Blood Ties', 'Blood: The Last Vampire', 'Bloodbath at the House of Death', 'Bloodline', 'Bloody Cartoons', 'Blow', 'Blown Away', 'Blue Like Jazz', 'Blue Thunder', 'Blue Velvet', 'Bluebeard', 'Boat', 'Body Snatchers', 'Body of Evidence', 'Bogus', 'Bollywood/Hollywood', 'Bonjour Tristesse', 'Bonnie and Clyde', 'Boogeyman', 'Boogie Nights', 'Borat: Cultural Learnings of America for Make Benefit Glorious Nation of Kazakhstan', 'Bordertown', 'Born into Brothels', 'Bowling for Columbine', 'Boyz n the Hood', 'Brake', 'Brazil', 'Breach', 'Bread and Tulips', 'Breakdown', \"Breakfast at Tiffany's\", 'Breakfast on Pluto', 'Breaking Up', 'Breaking and Entering', 'Breaking the Waves', 'Breathless', 'Bride of Frankenstein', 'Bridesmaids', 'Bridge to Terabithia', 'Brief Encounter', 'Brigham City', 'Brigham Young', 'Bright Future', 'Bring It On', 'Bringing Up Baby', 'Broken Blossoms', 'Broken Flowers', 'Brooklyn Boheme', 'Brother', 'Brother Sun, Sister Moon', 'Brothers', 'Brubaker', 'Buck Rogers in the 25th Century', 'Buddenbrooks', 'Budrus', 'Bull Durham', 'Bullitt', 'Bunny Lake Is Missing', 'Burrowing', 'Bushwhacked', 'CQ', 'Cabin Boy', 'Cabiria', 'Caché', 'Caesar Must Die', 'California Suite', 'Calling Dr. Gillespie', 'Calmos', 'Camila Jam', 'Candy', 'Cannibal Holocaust', 'Canvas', 'Cape Fear', 'Captain America: The First Avenger', \"Captain Corelli's Mandolin\", 'Capturing the Friedmans', 'Carancho', 'Card Subject To Change', \"Carla's Song\", 'Carmen Jones', 'Carolina', 'Carrie', 'Carriers', 'Carry On Cleo', 'Carry On Cowboy', 'Carry On Doctor', \"Carry On Don't Lose Your Head\", 'Carry On Screaming', 'Cars', 'Cars 2', 'Carts of Darkness', 'Casablanca', \"Casanova '70\", 'Casino', 'Casper', \"Casper's Haunted Christmas\", \"Cassandra's Dream\", 'Cat Run', 'Cat on a Hot Tin Roof', 'Catch Me If You Can', 'Catch a Fire', 'Catching Hell', 'Catwoman', 'Cavegirl', 'Cesar and Rosalie', 'Chalte Chalte', 'Chances Are', 'Changeling', 'Changing Lanes', \"Charlie Wilson's War\", 'Charlie and the Chocolate Factory', \"Charlie's Angels\", 'Chasing Amy', 'Che: Part Two', \"Cheerleaders' Wild Weekend\", 'Chelsea Girls', 'Cherry Blossoms', 'Cherry, Harry & Raquel!', 'Chi lavora è perduto', 'Children of Paradise', \"Children of the Corn 666: Isaac's Return\", 'Children of the Corn IV: The Gathering', 'Children of the Corn: Revelation', 'Chill Factor', 'Chimes at Midnight', 'China Gate', 'China Seas', 'Chinatown', 'Chocolat', 'Christine', 'Christmas in Boston', 'Cinderella', 'Cinderella Liberty', 'Cinderella Man', 'Circle of Love', 'Citizen Dog', 'Citizen Kane', 'City Lights', 'City Slickers', 'City of Hope', 'City of Men', \"Claire's Knee\", \"Class of Nuke 'Em High\", 'Clean, Shaven', 'Cleopatra Jones and the Casino of Gold', 'Clerks', 'Clerks II', 'Close Encounters of the Third Kind', 'Closer', 'Cloud 9', 'Club Paradise', 'Cléo from 5 to 7', 'Cockles and Muscles', 'Cockpit', 'Code 46', 'Cold Mountain', 'Cold Steel', 'Color of Night', 'Comanche Station', 'Common Law Cabin', 'Con Air', 'Confession of a Child of the Century', 'Confessions of a Dangerous Mind', 'Confidentially Yours', 'Conquest of Space', 'Conquest of the Planet of the Apes', 'Constantine', 'Contempt', 'Contraband', 'Conversations with My Gardener', 'Cool Hand Luke', 'Cool Runnings', 'Cop Land', 'Copying Beethoven', 'Corpse Bride', 'Count Dracula', 'Countdown', 'Cousin, Cousine', 'Cowboy', 'Cows', 'Crank', 'Crash', 'Crime of Passion', 'Crimson Tide', 'Critters', \"Crosby, Stills & Nash: Long Time Comin'\", 'Crossing Delancey', 'Crouching Tiger, Hidden Dragon', 'Cruel Intentions 2', 'Cruel Intentions 3', 'Crumb', 'Crusade in Jeans', 'Cube', 'Cube Zero', 'Cube²: Hypercube', 'Cul-de-sac', 'Curtains', 'Cutaway', 'Cutthroat Island', 'Cyberjack', 'D.E.B.S.', 'Daisies', 'Daisy Miller', 'Damnation Alley', 'Dan in Real Life', 'Dancer in the Dark', 'Dances with Wolves', 'Dangerous Beauty', 'Dangerous Game', \"Dante's Hell Animated\", 'Dark Blue', 'Dark Blue Almost Black', 'Dark Horse', 'Dark Star', 'Dark Wolf', 'Das Boot', 'Dasepo Naughty Girls', \"Dave Chappelle's Block Party\", 'David', 'David Copperfield', 'Dawn of the Dead', 'Day Watch', 'Day of the Reaper', 'Daydream Believers: The Monkees Story', 'Days of Glory', 'Days of Thunder', 'De Dominee', 'Dead Bang', 'Dead Man', 'Dead Man Walking', \"Dead Man's Folly\", 'Dead Poets Society', 'Dead Times', 'Deadlier Than the Male', 'Dear Brigitte', 'Dear Frankie', 'Death Line', 'Death Machine', 'Death Proof', 'Death Smiles on a Murderer', 'Death Watch', 'December Boys', 'Deconstructing Harry', 'Deep Blue Sea', 'Deep Impact', 'Delicatessen', 'Delphine 1, Yvan 0', 'Denis Leary: No Cure for Cancer', 'Derailed', 'Deranged', 'Desert Hearts', 'Desert Saints', 'Design of Death', 'Desperately Seeking Susan', 'Destroy All Monsters', 'Devil Dog: The Hound of Hell', 'Devil in the Flesh', 'Devo: The Complete Truth About De-Evolution', 'Dial 1119', 'Dial M for Murder', 'Diamonds Are Forever', 'Diary of a Country Priest', 'Die Hard', 'Die Hard 2', 'Die Hard: With a Vengeance', 'Die Wolke', 'Die, Mommie, Die!', 'Dinner for One', 'Diplomatic Courier', 'Dirty Dancing', 'Dirty Hands', 'Dirty Harry', 'Disclosure', 'Distant', 'Dixie Chicks: Shut Up and Sing', 'Doctor X', 'Doctor Zhivago', 'Dog Day', 'Dog Day Afternoon', 'Dog Eat Dog', 'Dogtown and Z-Boys', 'Dogville', 'Dollman vs. Demonic Toys', 'Dolls', 'Dominick and Eugene', 'Don Juan DeMarco', 'Don Q Son of Zorro', \"Don's Plum\", \"Don't Come Knocking\", \"Don't Grieve!\", \"Don't Look Down\", \"Don't Look Now\", \"Don't Look Now: We're Being Shot At\", \"Don't Make Waves\", \"Don't Think About It\", \"Don't Touch the Axe\", \"Don't Worry, I'm Fine\", 'Donald Glover: Weirdo', 'Donnie Darko', 'Dont Look Back', 'Doom', 'Doppelganger', 'Dorian Blues', 'Double Dragon', 'Double Indemnity', 'Double Trouble', 'Down by Law', 'Downfall', 'Downhill Racer', 'Dr. Cyclops', 'Dr. Jekyll and Mr. Hyde', 'Dr. Strangelove or: How I Learned to Stop Worrying and Love the Bomb', 'Dr. Who and the Daleks', 'Dracula', 'Dracula vs. Frankenstein', 'Dragon Hunter', 'DragonHeart', 'Dragonslayer', 'Dread', 'Dreamgirls', 'Dreamland', 'Drop Zone', 'Drugstore Cowboy', 'Dry Cleaning', 'Duck Soup', 'Duck, You Sucker', 'Dude, Where’s My Car?', 'Dudes', 'Duel', 'Duel of Hearts', 'Dune', 'Dust Devil', 'Désirée', 'EVA', 'Earth', 'Earth Girls Are Easy', 'Earthling', 'East of Eden', 'Eastern Promises', 'Eaten Alive!', 'Ed Wood', 'Edge of Seventeen', 'Edward Scissorhands', 'Edward, My Son', 'Eight Miles High', 'El Dorado', 'Electra, My Love', 'Elephant', 'Elevator to the Gallows', 'Elite Squad', 'Elizabeth', 'Ellen DeGeneres: The Beginning', 'Elvira, Mistress of the Dark', 'Emma', \"Emma's Bliss\", 'Enchanted', 'End of the World', 'Enigma', 'Enough', 'Entrapment', 'Equalizer 2000', 'Equilibrium', 'Eragon', 'Erkan & Stefan 2', 'Erkan & Stefan 3', 'Ernest Saves Christmas', 'Erotic Nights of the Living Dead', 'Erreur de la banque en votre faveur', 'Escape from New York', 'Escape from the Planet of the Apes', 'Eternal Sunshine of the Spotless Mind', 'Evening', \"Everybody's Fine\", 'Everything is Illuminated', 'Evil Alien Conquerors', 'Evil Dead II', 'Excess Baggage', 'Executive Decision', 'Exit', 'Exodus', 'Extraordinary Illusions', 'Eye of the Devil', 'Eyes Wide Shut', 'FC Venus', 'Face/Off', 'Faces', 'Fados', 'Fahrenheit 9/11', 'Fail-Safe', 'Failure to Launch', 'Fall of the Republic: The Presidency of Barack H. Obama', 'Falling Sky', 'Fallout', 'Fame', 'Family Plot', 'Fanaa', 'Fanny & Alexander', 'Fantasia', 'Fantastic 4: Rise of the Silver Surfer', 'Fantastic Voyage', 'Fantasía... 3', 'Fantomas Unleashed', 'Fantomas vs. Scotland Yard', 'Far Away', 'Far Cry', 'Far from the Madding Crowd', 'Farewell, Friend', 'Farewell, My Lovely', 'Fargo', 'Faster, Pussycat! Kill! Kill!', 'Fear and Loathing in Las Vegas', 'Feast of All Saints', 'Felidae', 'Female Agents', 'Fever Pitch', 'Field of Dreams', 'Fight Club', 'Fighting Back', 'Fighting Elegy', 'Final Analysis', 'Final Fantasy VII: Advent Children', 'Final Fantasy: The Spirits Within', \"Finder's Fee\", 'Finding Forrester', 'Finding Nemo', 'Finding Neverland', 'Fire', 'Fire Birds', 'Fires on the Plain', 'Fireworks', 'First Target', 'Five Bloody Graves', 'Five Times Two', 'Fixing Frank', 'Flags of Our Fathers', 'Flaming Creatures', 'Flash Gordon', 'Flashdance', 'Flesh', 'Flesh Gordon', 'Flesh for Frankenstein', 'Flirting with Disaster', 'Food of the Gods II', 'Foodfight!', 'Fools Rush In', 'Footloose', 'For a Few Dollars More', 'For a Moment, Freedom', 'Forbidden Games', 'Forbidden Planet', 'Forces of Nature', 'Forrest Gump', 'Fort Saganne', 'Four Rooms', 'Frances', \"Frank Herbert's Dune\", 'Frankenstein', 'Frankenstein 90', 'Frankenstein Conquers the World', 'Frankenstein Created Woman', 'Frankenstein Meets the Wolf Man', 'Frankenstein Must Be Destroyed', 'Frankenstein Unbound', 'Frankenstein and the Monster from Hell', \"Frankenstein's Castle of Freaks\", 'Frankie and Johnny', 'Franklyn', 'Fraternity Demon', 'Fred Claus', 'Freddy vs. Jason', 'Free Money', 'Freedom Writers', 'French Twist', 'Frenzy', 'Friday the 13th', 'Fried Green Tomatoes', 'Friends with Money', 'From 180 & Taller', 'From Dusk Till Dawn', 'From Noon Till Three', 'From a Place of Darkness', 'Full Metal Jacket', 'Funeral Parade of Roses', 'Galaxy Quest', 'Gamera vs. Guiron', 'Games of Love and Chance', 'Gandhi', 'Gang War in Milan', 'Gappa, the Triphibian Monster', 'Garden State', 'Garfield', 'Gaslight', 'Gattaca', 'Gayniggers from Outer Space', 'Gentlemen Prefer Blondes', 'Geppo il folle', 'Germany Year Zero', 'Gerry', 'Get Carter', 'Get Out Your Handkerchiefs', 'Get Shorty', 'Ghost', 'Ghost Dog: The Way of the Samurai', 'Ghost Rider', 'Ghostbusters', 'Ghostbusters II', 'Gigantics', 'Giliap', 'Ginger', 'Girl Shy', 'Girl with a Pearl Earring', 'Gladiator', 'Gleaming the Cube', 'Gloomy Sunday', 'Go for Zucker', 'Gods and Monsters', 'Godzilla', 'Godzilla vs. Mechagodzilla II', 'Godzilla vs. The Sea Monster', 'Going Places', 'Gold Diggers in Paris', 'Golden Door', 'GoldenEye', 'Gomorrah', 'Gone Baby Gone', 'Good Morning Miss Dove', 'Good Morning, Vietnam', 'Good Neighbor Sam', 'Good Will Hunting', 'Good bye, Lenin!', 'GoodFellas', 'Goodbye Bafana', 'Gosford Park', 'Gothika', 'Grande école', 'Grandview, U.S.A.', 'Gravity', \"Gray's Anatomy\", 'Grbavica: The Land of My Dreams', 'Grease', 'Greed', 'Green Fire', 'Green Street Hooligans', 'Gremlins', 'Gremlins 2: The New Batch', 'Grill Point', 'Grizzly Man', 'Groundhog Day', 'Gun-shy', 'Guter Junge', 'Hababam Sınıfı Uyanıyor', 'Hacker', 'Hail the Judge', 'Hairspray', 'Hallam Foe', 'Halloween', 'Halloweentown', \"Hang 'em High\", 'Hannibal Rising', 'Hard Candy', 'Hard Target', 'Hard to Be a God', 'Hardcover', 'Harley Davidson and the Marlboro Man', 'Harold and Maude', \"Harold's Going Stiff\", 'Harper', 'Harry Brown', 'Harry Potter and the Goblet of Fire', 'Harry Potter and the Half-Blood Prince', \"Harry Potter and the Philosopher's Stone\", 'Harry Potter and the Prisoner of Azkaban', 'Harry and the Hendersons', 'Hatchet II', 'Haunted Castle', \"He's Worse than Me\", 'Head-On', 'Heart of the Country', 'Heartbreak Hotel', \"Hearts of Darkness: A Filmmaker's Apocalypse\", 'Heat', 'Heathers', 'Heavenly Creatures', 'Helen', \"Hell's Hinges\", 'Hellboy', 'Hellgate', 'Hello, Frisco, Hello', 'Hercules in New York', 'Hero', 'Hero at Large', 'Heroic Purgatory', 'Herr Lehmann', 'Hibernatus', 'Hidalgo', 'Hidden Assassin', 'High Fidelity', 'High Noon', 'High Wall', 'High and Dizzy', 'Highlander', 'Highlander II: The Quickening', 'Highlander: The Final Dimension', 'Hiroshima Mon Amour', 'History Is Made at Night', 'History of Postwar Japan as Told by a Bar Hostess', 'Hitman', 'Holiday For Lovers', 'Holiday for Henrietta', 'Hollywoodland', 'Holy Lola', 'Holy Matrimony', 'Homeless to Harvard: The Liz Murray Story', 'Hook', 'Hoosiers', 'Hornblower: Loyalty', 'Horrible Bosses', 'Hostage', 'Hostel', 'Hot Fuzz', 'Hot Wheels Acceleracers: Ignition', 'Hotel Rwanda', 'Hotel Very Welcome', 'Hounded', 'Hour of the Gun', 'House of 1000 Corpses', 'House of Boys', 'House of Cards', 'House of Dracula', 'House of Frankenstein', 'Houseboat', 'How the Grinch Stole Christmas', 'How to Cook Your Life', 'How to Steal a Million', 'Hulk', 'Hum Dil De Chuke Sanam', 'Human Nature', 'Humoresque', 'Hungarian Rhapsody', 'Hunting and Gathering', 'Hustle', \"I Can't Sleep\", 'I Heart Huckabees', 'I Know Who Killed Me', 'I Love You to Death', 'I Now Pronounce You Chuck & Larry', 'I Spy Returns', 'I Still Know What You Did Last Summer', 'I Woke Up Early The Day I Died', 'I due della legione', \"I'll Always Know What You Did Last Summer\", \"I'll Sleep When I'm Dead\", \"I'm Not There.\", 'I, Robot', 'INLAND EMPIRE', 'Ice Age', 'Ice Age: The Meltdown', 'Identity', 'Idle Hands', 'Idol of the Crowds', 'Il Divo', 'Imagine Me & You', 'Import/Export', 'Impostor', 'In Bar', 'In Bed', 'In China They Eat Dogs', 'In Good Company', 'In July', \"In My Father's Den\", 'In My Skin', 'In Praise of Love', 'In Time', 'In the Bedroom', 'In the Blood', 'In the Darkness of the Night', 'In the Meantime, Darling', 'In the Mouth of Madness', 'In the Name of the Father', 'In the Name of the King: A Dungeon Siege Tale', 'In the Realm of the Senses', 'Incognito', 'Indecent Proposal', 'Indestructible Man', 'Indiana Jones and the Kingdom of the Crystal Skull', 'Indiana Jones and the Last Crusade', 'Indiana Jones and the Temple of Doom', 'Indochine', 'Infinity', 'Innocence', 'Insiang', 'Inside Man', 'Insomnia', 'Inspector Gadget', 'Interceptor Force 2', 'Interkosmos', 'Interview with the Vampire', 'Into the Wild', 'Intruder', 'Intruder in the Dust', 'Involuntary', 'Irina Palm', 'Irma la Douce', 'Iron Eagle III', 'Iron Man', 'Island of Lost Souls', 'It Happened One Night', \"It Happened at the World's Fair\", \"It's Hard Being Loved by Jerks\", 'Italian for Beginners', 'JFK', 'Jack', 'Jack & Sarah', 'Jackass: The Movie', 'Jackie Brown', 'Jacob the Liar', \"Jacob's Ladder\", 'Jakob the Liar', 'James Dean', 'Jarhead', 'Jaws: The Revenge', 'Jay and Silent Bob Strike Back', \"Je t'aime, je t'aime\", 'Jean de Florette', 'Jekyll and Hyde ... Together Again', 'Jesus', 'Jesus of Montreal', 'Jezebel', 'Jinxed!', 'Joe Versus the Volcano', 'Johnny 100 Pesos', 'Johnny Angel', 'Johnny Handsome', 'Johnny Mad Dog', 'Joint Security Area', 'Jonny Vang', 'Joshua', 'Journey to Italy', 'Journey to the Beginning of Time', 'Joyride', 'Ju-on: White Ghost', 'Judex', 'Judgment Night', 'Julie', 'Junebug', 'Jungle Fever', 'Junior Bonner', 'Junior Size 36', 'Jurassic Park', 'Jurassic Park III', 'Just Call Me Nobody', 'Just Visiting', 'Just a Question of Love', 'Just the Ticket', 'Jönssonligan får guldfeber', 'Jönssonligans största kupp', 'K-19: The Widowmaker', 'K-PAX', 'Kafka', 'Kaiji 2: The Ultimate Gambler', 'Kal Ho Naa Ho', 'Kebab Connection', 'Keeping the Faith', 'Keine Lieder über Liebe', 'Kelin', 'Ken Park', 'Keoma', 'Kettle of Fish', 'Kevin Hart: Laugh at My Pain', 'Khadak', 'Kikujiro', 'Kill Bill: Vol. 1', 'Kill Bill: Vol. 2', 'Killer', 'Killing Zoe', 'Kindergarten Cop', 'King Cobra', 'King Kong', 'King Kong vs. Godzilla', 'King of California', \"King of Devil's Island\", 'Kingdom of Heaven', 'Kismet', 'Kiss Kiss Bang Bang', 'Kiss Me Again', 'Kiss of the Dragon', \"Kissin' Cousins\", 'Klute', 'Knight Moves', 'Knight of Cups', 'Knocked Up', \"Knockin' on Heaven's Door\", 'Kolya', 'Kosmos', 'Krabat and the Legend of the Satanic Mill', 'Krull', 'Kurukshetra', \"L'Atalante\", \"L'Avventura\", \"L'odore della notte\", \"L'outremangeur\", \"L'Âge d'Or\", 'L.A. Confidential', 'L.A. Story', 'La Chienne', 'La Chinoise', 'La Collectionneuse', 'La Dolce Vita', 'La Jetée', 'La Strada', 'La Vie en Rose', 'La montaña rusa', 'Lady Frankenstein', 'Lady Snowblood', 'Lady in the Lake', 'Ladybug Ladybug', 'Ladyhawke', 'Lammbock', 'Land of Plenty', 'Land of Silence and Darkness', 'Lara Croft Tomb Raider: The Cradle of Life', 'Lara Croft: Tomb Raider', 'Lars and the Real Girl', 'Lassie Come Home', 'Last Days', 'Last Tango in Paris', 'Last Woman on Earth', 'Last Year at Marienbad', 'Last of the Renegades', 'Laura', 'Law of Desire', 'Lawrence of Arabia', 'Laws of Gravity', 'Layer Cake', 'Le Beau Serge', 'Leaving Las Vegas', 'Leben nach Microsoft', 'Legally Blonde', 'Legendary Assassin', 'Legionnaire', 'Leningrad', \"Lenny Bruce in 'Lenny Bruce'\", 'Leon: The Professional', 'Les Amants du Pont-Neuf', 'Les Cousins', 'Les Misérables', 'Les Visiteurs du Soir', \"Let's Get Harry\", 'Lethal Weapon', 'Lethal Weapon 2', 'Lethal Weapon 3', 'Lethal Weapon 4', 'Letter from an Unknown Woman', 'Letters from Iwo Jima', 'Liar Liar', 'Liberty Stands Still', 'Licence to Kill', 'License to Wed', 'Life', 'Life Is Beautiful', 'Life Is a Long Quiet River', 'Lifeguard', 'Light of Day', 'Lightning Strikes Twice', 'Lights in the Dusk', 'Like Mike 2: Streetball', 'Lili Marleen', 'Lion of the Desert', 'Lions for Lambs', 'Lisa and the Devil', 'Lisbon Story', 'Little Buddha', 'Little Caesar', 'Little Children', 'Little Italy', 'Live Flesh', 'Live Free or Die Hard', 'Live Nude Girls', 'Live and Become', 'Live and Let Die', 'Local Color', 'Lock, Stock and Two Smoking Barrels', 'Lola', 'Lolita', 'London Voodoo', 'Lone Rider', 'Lonely Hearts', 'Lonesome Cowboys', 'Long Pigs', 'Longitude', 'Look Back in Anger', 'Looking for Lenny', 'Loose Screws', 'Lord of Illusions', \"Lorenzo's Oil\", \"Lorna's Silence\", 'Los Olvidados', 'Lost Highway', 'Lost Horizon', 'Lost in Translation', 'Lotte from Gadgetville', 'Love & Pop', 'Love Actually', 'Love Is a Ball', 'Love Is the Devil: Study for a Portrait of Francis Bacon', 'Love Jones', 'Love and Other Disasters', 'Love in the Time of Cholera', 'Love on the Run', 'Love, Cheat & Steal', 'Lovers of the Arctic Circle', 'Lowlands', 'Lucky Number Slevin', 'Lucky You', 'Ludwig', 'M', 'M*A*S*H', 'M. Butterfly', 'Mad Dog Coll', 'Mad Max 2: The Road Warrior', 'Madagascar', 'Madame Bovary', 'Made in Hong Kong', 'Magnetic Rose', 'Magnolia', 'Mahogany', 'Maid in Manhattan', 'Making Contact', 'Mala Noche', 'Malcolm X', 'Malice', 'Mambo Italiano', 'Mammy', 'Man of Iron', 'Man of Marble', 'Man with a Movie Camera', 'Man with the Screaming Brain', \"Man's Favorite Sport?\", 'Manderlay', 'Mandroid', 'Manhattan', \"Manitou's Shoe\", 'Manta - Der Film', 'Many Rivers to Cross', 'Many Wars Ago', 'Maradona by Kusturica', 'March of the Penguins', 'Margaret Thatcher: The Long Walk to Finchley', 'Maria Full of Grace', 'Marie Antoinette', 'Marketa Lazarová', 'Marlowe', 'Marnie', 'Married to the Mob', 'Mary Poppins', \"Mary Shelley's Frankenstein\", 'Masculin Féminin', 'Masques', 'Match Point', 'Maurice', 'Max and the Junkmen', 'May Fools', 'Maybe... Maybe Not', \"McCinsey's Island\", 'Me and You and Everyone We Know', 'Me and the Colonel', 'Me, Myself & Irene', 'Mean Streets', 'Meatball Machine', 'Meet Me in St. Louis', 'Meet the Parents', 'Meet the Robinsons', 'Mega Python vs. Gatoroid', 'Megacities', 'Memento', 'Memoirs of a Geisha', 'Memoirs of an Invisible Man', 'Memory Lane', 'Men in Black II', 'Mercury Rising', 'Mercy', 'Mere Brother Ki Dulhan', 'Merlin', 'Mermaids', 'Messenger of Death', 'Metamorphosis', 'Metro', 'Metropolis', 'Miami Vice', 'Michael', 'Michael Clayton', 'Midnight Cowboy', 'Midnight in the Garden of Good and Evil', 'Miffo', 'Mikey and Nicky', 'Mildred Pierce', 'Milk Money', 'Millennium', \"Miller's Crossing\", 'Million Dollar Baby', 'Mimic', 'Minority Report', 'Miracle on Ice', 'Mirror', 'Mirror Mirror', 'Miss Congeniality', 'Mission to Mars', 'Mission: Impossible', 'Mission: Impossible II', 'Mission: Impossible III', 'Mississippi Burning', 'Mister Roberts', 'Modern Life', 'Modern Times', 'Momentum', 'Mon oncle', 'Mongolian Ping Pong', 'Monogamy', \"Monsieur  Hulot's Holiday\", 'Monsieur Batignole', 'Monsieur Ibrahim', 'Monsoon Wedding', 'Monster', 'Monster High', 'Monster Hunter', \"Monster's Ball\", 'Monsters, Inc.', 'Monterey Pop', 'Monty Python and the Holy Grail', 'Moon 44', 'Moonraker', 'Moonshine County Express', 'Moonstruck', 'More About the Children of Noisy Village', 'More of Me', 'Mosquita y Mari', 'Mostly Martha', 'Mother India', 'Mother, Jugs & Speed', 'Mothra vs. Godzilla', 'Moulin Rouge!', 'MouseHunt', 'Mouth to Mouth', 'Mr. & Mrs. Smith', \"Mr. Bean's Holiday\", 'Mr. Brooks', 'Mr. Deeds', 'Mr. Destiny', \"Mr. Holland's Opus\", 'Mr. Jones', \"Mr. Magorium's Wonder Emporium\", 'Mr. Smith Goes to Washington', 'Mrs. Doubtfire', 'Mud', 'Mulholland Drive', 'Munich', 'Murder Most Foul', 'Murder She Said', 'Murder by Death', 'Murder in Three Acts', 'Murder!', 'Murder, My Sweet', \"Muriel's Wedding\", 'Muscle Beach Party', 'Music Box', 'Muxmäuschenstill', 'My Best Fiend', 'My Best Friend', \"My Best Friend's Wedding\", 'My Blueberry Nights', 'My Darling Clementine', 'My Life Without Me', 'My Name Is Bruce', 'My Name Is Joe', 'My Neighbor Totoro', 'My Own Private Idaho', 'My Rainy Days', 'My Step Brother Frankenstein', 'My Super Ex-Girlfriend', 'My Super Psycho Sweet 16: Part 2', 'My Sweet Little Village', 'My Tutor', 'Mystic River', 'Ménage', 'Nashville', \"National Lampoon's Christmas Vacation\", 'National Treasure', 'Natural Born Killers', 'Naughty @ 40', 'Nausicaä of the Valley of the Wind', 'Navajo Joe', 'Nell', 'New York Doll', 'Nichts als Gespenster', 'Nick Carter, Master Detective', 'Nick of Time', 'Night #1', 'Night Watch', 'Night Without Sleep', 'Night and Fog', 'Night at the Museum', 'Night of the Demons', 'Night on Earth', 'Nightwatch', 'Ninja Academy', 'Ninotchka', 'Nirvana', 'No Country for Old Men', 'No End', 'No Good Deed', 'No Reservations', 'Nobody Knows', 'Nobody Knows Anything!', 'Nocturna', 'Noodle', 'North by Northwest', 'Nosferatu', 'Nosferatu the Vampyre', 'Nostalgia', 'Not Here to Be Loved', 'Not Reconciled', 'Notes on a Scandal', 'Nothing Like the Holidays', 'Notorious', 'Notting Hill', 'Now and Forever', 'Nowhere in Africa', 'Nuits rouges', 'Nuvvostanante Nenoddantana', \"O'Horten\", 'Ocean Heaven', \"Ocean's Eleven\", \"Ocean's Twelve\", 'October (Ten Days that Shook the World)', 'Octopussy', 'Odette Toulemonde', 'Off Beat', 'Off the Black', 'Office Space', 'Official Rejection', 'Oh Dem Watermelons', 'Oldboy', \"Olga's House of Shame\", 'Oliver Twist', 'Olympia Part Two: Festival of Beauty', 'Omagh', 'On Guard', \"On Her Majesty's Secret Service\", 'On Top of the Whale', 'On the Edge', 'Once', 'Once Upon a Time in Mexico', 'Once Upon a Time in the West', 'Once Were Warriors', 'Once a Thief', 'Once in a Lifetime: The Extraordinary Story of the New York Cosmos', 'One Fine Day', \"One Flew Over the Cuckoo's Nest\", 'One Million Years B.C.', \"One Night at McCool's\", 'One Night in A City', 'One Tough Cop', 'One in the Chamber', 'One on Top of the Other', 'Onibaba', 'Only Angels Have Wings', 'Only the Lonely', 'Open Hearts', 'Open Range', 'Open Season', 'Open Water', 'Open Your Eyes', 'Or (My Treasure)', 'Orfeu', 'Orgazmo', 'Original Sin', 'Orpheus', 'Oscar', 'Oscenità', \"Our Mother's House\", 'Out of Africa', 'Out of Sight', 'Out of Time', 'Out of the Past', 'Outbreak', 'Pacific Heights', 'Pale Rider', \"Pan's Labyrinth\", \"Pandora's Box\", 'Panic in the Streets', 'Paper Man', 'Paprika', 'Parade', 'Paradise Found', 'Paranoid Park', 'Paranormal Activity: Tokyo Night', 'Parenthood', 'Paris is Burning', \"Paris, je t'aime\", 'Park Row', 'Parking', 'Party Monster', 'Passed Away', 'Pather Panchali', 'Patton Oswalt: My Weakness Is Strong', 'Payback', 'Payment Deferred', 'Peas at 5:30', 'Peek-a-boo', 'People on Sunday', 'Pepi, Luci, Bom', 'Perestroika', 'Performance', 'Perfume: The Story of a Murderer', 'Persepolis', 'Phar Lap', 'Pharaoh', 'Phase 7', 'Pi', 'Pickpocket', 'Pieces of April', 'Pierrot le Fou', 'Pigs and Battleships', 'Pillow Talk', 'Pink Flamingos', 'Pink Floyd: Live at Pompeii', 'Piranha 3DD', \"Pirates of the Caribbean: At World's End\", \"Pirates of the Caribbean: Dead Man's Chest\", 'Pirates of the Caribbean: On Stranger Tides', 'Pirates of the Caribbean: The Curse of the Black Pearl', 'Pitch Black', 'Planes, Trains and Automobiles', 'Planet Terror', 'Planet of the Apes', 'Pleasantville', 'Pocketful of Miracles', 'Point Break', 'Poltergeist', 'Pony Express', 'Poodle Springs', 'Popular Music', 'Population 436', 'Porgy and Bess', 'Pornography', 'Portrait in Black', 'Postal', 'Posti in piedi in paradiso', 'Power', 'Praxis Dr. Hasenbein', 'Predator 2', 'Prelude to a Kiss', 'Premium Rush', 'Prep & Landing', 'Presumed Guilty', 'Pretty Woman', 'Prick Up Your Ears', 'Primal Fear', 'Prime', 'Prince Valiant', 'Princesses', \"Prizzi's Honor\", 'Prom Night', 'Prom Night IV: Deliver Us from Evil', \"Prospero's Books\", 'Psycho', 'Psychopathia Sexualis', 'Pufnstuf', 'Pulgasari', 'Pulp Fiction', 'Pumping Iron', 'Punishment Park', 'Pure', 'Pünktchen und Anton', 'Qualunquemente', 'Queen of Hearts', 'Quinceañera', 'Racing Dreams', 'Rag. Arturo De Fanti, bancario precario', 'Raiders of the Lost Ark', 'Rain Man', 'Raising Arizona', 'Rambo III', 'Rambo: First Blood Part II', 'Rang Birangi', 'Rashomon', 'Ratatouille', 'Raw Deal', 'Razorback', 'Re-Animator', 'Read It and Weep', 'Reality Bites', 'Rear Window', 'Rebecca', 'Reclaim Your Brain', 'Red Beard', 'Red Dawn', 'Red Eagle', 'Red Light', 'Red Planet', 'Red River', 'Reflections in a Golden Eye', 'Reign Over Me', 'Reindeer Games', 'Rendition', 'Rent', 'Repeaters', 'Requiem', 'Reservation Road', 'Reservoir Dogs', 'Retroactive', 'Return of the Ghostbusters', 'Return of the Jedi', 'Return to Me', 'Return to the 36th Chamber', 'Revolutionary Road', 'Riding Giants', 'Rififi', 'Righteous Ties', 'Ring of Fire II: Blood and Steel', 'Ringu', 'Rio Bravo', 'Rio Sex Comedy', 'Rise of the Zombies', 'Rising Sun', 'River of No Return', 'Rize', 'Roar', 'Robin Hood: Prince of Thieves', 'Robinson Crusoe on Mars', 'RoboCop', 'Rocco and His Brothers', \"Rock 'n' Roll Frankenstein\", \"Rock 'n' Roll High School\", 'Rock Around the Clock', 'Rocky', 'Rocky Balboa', 'Rocky II', 'Rocky III', 'Rocky IV', 'Rocky V', 'Roger & Me', 'Roman Holiday', 'Rome, Open City', 'Romeo + Juliet', 'Romeo Is Bleeding', 'Romeo Must Die', 'Romeo and Juliet', 'Ronin', 'Ronja Robbersdaughter', 'Rope', \"Rosemary's Baby\", 'Roustabout', 'Royal Deceit', 'Rumble Fish', 'Rumor Has It...', 'Run Lola Run', 'Run, Fatboy, Run', 'Runaway Bride', 'Running Out of Time', 'Running Wild', 'Rush Hour', 'Russian Dolls', 'S21: The Khmer Rouge Death Machine', 'Sabretooth', 'Sabrina', 'Sade', 'Salvador (Puig Antich)', 'Salvatore Giuliano', 'Samaritan Girl', 'Samaritan Zatôichi', 'Same Old Song', 'Sammy and Rosie Get Laid', 'Samsara', 'Samurai II: Duel at Ichijoji Temple', 'Samurai X : Reflection', 'Sang Pemimpi', 'Santa and the Ice Cream Bunny', 'Sarfarosh', 'Satanás - Profile of a Killer', 'Saving Grace', 'Savior', 'Saw', 'Saw II', 'Saw III', 'Saw IV', 'Sawdust and Tinsel', 'Say Anything...', 'Scandal Sheet', 'Scarface', 'Scary Movie', 'Scary Movie 2', \"Schindler's List\", 'Schizo', 'School of Rock', 'Schtonk!', 'Scooby-Doo! and the Reluctant Werewolf', 'Scoop', 'Scorcher', 'Scorpio', 'Scott Walker: 30 Century Man', 'Scream', 'Scream 2', 'Scream 3', 'Seabiscuit', 'Secret Agent', 'Secret Agent Super Dragon', 'Secret Sunshine', 'Secret Window', 'Secrets of a Soul', 'Seeing Other People', 'Semi-Tough', 'Sense and Sensibility', 'Seven Blood-Stained Orchids', 'Seven Samurai', 'Seven and a Half', 'Severance', 'Sex and the City', 'Shadow Run', 'Shadows in Paradise', 'Shadows of Forgotten Ancestors', 'Shaft', 'Shaft in Africa', \"Shaft's Big Score!\", 'Shakespeare in Love', 'Shall We Dance?', 'Shamus', 'Shane', 'Shanghai Express', 'Shanghai Ghetto', 'Shanghai Noon', 'Shark Kill', 'Shark!', 'Shattered', 'Shaun of the Dead', 'Sherlock, Jr.', 'Shiloh', 'Shine a Light', 'Shock', 'Shock Treatment', 'Shock Waves', \"Shoot 'Em Up\", 'Shooting War', 'Shopgirl', 'Short Circuit', 'Short Cuts', 'Short Sharp Shock', 'Shortbus', 'Shower', 'Shrek', 'Shrek 2', 'Shrek the Third', 'Shriek If You Know What I Did Last Friday the Thirteenth', 'Sicko', 'Silent Hill', 'Silent Light', 'Silent Night, Deadly Night 5: The Toy Maker', 'Silentium', 'Silk', 'Silly Little Game', 'Sin City', 'Sin City: A Dame to Kill For', \"Singin' in the Rain\", 'Sissi', 'Sissi: The Fateful Years of an Empress', 'Sissi: The Young Empress', 'Sister Act', 'Sister Act 2: Back in the Habit', 'Sixtynine', 'Sky Captain and the World of Tomorrow', 'Sky High', 'Sleepless in Seattle', 'Sleepy Hollow', 'Sleuth', 'Sliver', 'Small Change', 'Small Potatoes: Who Killed the USFL?', 'Snakes on a Plane', 'Snatch', 'Sneakers', 'Snow Cake', 'Snow White and the Seven Dwarfs', 'Soccer Dog: The Movie', 'Solar Crisis', 'Solaris', 'Soldier of God', 'Soldier of Orange', 'Some Folks Call It a Sling Blade', 'Some Like It Hot', \"Something's Gotta Give\", 'Sommersby', 'Son of Frankenstein', 'Son of Lassie', 'Sophie Scholl: The Final Days', 'Soul Assassin', 'Souls at Sea', 'Sounds of Sand', 'Southland Tales', 'Space Chimps 2: Zartog Strikes Back', 'Space Jam', 'Spaceballs', 'Spanglish', 'Sparrow', 'Speed 2: Cruise Control', 'Speed Racer', 'Spellbound', 'Spice World', 'Spider-Man 2', 'Spider-Man 3', 'Spirited Away', 'Spring, Summer, Fall, Winter... and Spring', 'Spy Game', 'St. Louis Blues', 'Stage Fright', 'Stalag 17', 'Stalker', 'Stand by Me', 'Star 80', 'Star Command', 'Star Trek II: The Wrath of Khan', 'Star Trek III: The Search for Spock', 'Star Trek IV: The Voyage Home', 'Star Trek V: The Final Frontier', 'Star Trek VI: The Undiscovered Country', 'Star Trek: First Contact', 'Star Trek: Generations', 'Star Trek: Insurrection', 'Star Trek: Nemesis', 'Star Trek: The Motion Picture', 'Star Wars', 'Star Wars: Episode II - Attack of the Clones', 'Star Wars: Episode III - Revenge of the Sith', 'Stargate', 'Starship Troopers', 'Steel', 'Steppenwolf', 'Stevie', 'Stewart Lee: If You Prefer a Milder Comedian, Please Ask for One', 'Stick', 'Still Bill', 'Stitches', 'Stolen Kisses', 'Stolen Seas', 'Stomp the Yard', 'Stop-Loss', 'Straight From the Heart', 'Stranded', 'Strange Days', 'Stranger Than Fiction', 'Stranger Than Paradise', 'Strangers on a Train', 'Straw Dogs', 'Street Kings', 'Striped Trip', 'Stromboli', 'Stuck on You', \"Summer '04\", 'Summer Storm', 'Summer in Berlin', 'Sun Alley', 'Sundome', 'Sunflower', 'Sunless', 'Sunrise: A Song of Two Humans', 'Sunset Boulevard', 'Sunshine', 'Superbad', 'Supergator', 'Superman', 'Superstar: The Karen Carpenter Story', 'Sweet November', 'Sweet Sixteen', 'Sweet Smell of Success', 'Swept from the Sea', 'Swimming Pool', 'Swimming to Cambodia', 'Sympathy for Lady Vengeance', 'Syndromes and a Century', 'Synecdoche, New York', 'Syriana', 'T.N.T.', 'TMNT', 'Taira Clan Saga', 'Take Out', 'Taking Woodstock', \"Takva: A Man's Fear of God\", 'Talk to Her', 'Talk to Me', 'Tanguy', 'Tarzan and the Amazons', 'Tarzan, the Ape Man', 'Taxi', 'Taxi 3', 'Taxi 4', 'Taxi Driver', 'Tchoupitoulas', 'Team America: World Police', 'Tears of the Black Tiger', 'Teenage Mutant Ninja Turtles', 'Teenage Mutant Ninja Turtles II: The Secret of the Ooze', 'Teenage Mutant Ninja Turtles III', \"Teheran '43\", 'Ten Little Indians', 'Tension', 'Teorema', 'Terminator 2: Judgment Day', 'Terminator 3: Rise of the Machines', 'Terminator Salvation', 'That Man from Rio', 'That Most Important Thing: Love', 'That Night', 'Thawing Out', 'The 11th Hour', 'The 13th Warrior', 'The 39 Steps', 'The 40 Year Old Virgin', 'The 400 Blows', 'The 51st State', 'The Accidental Gangster and the Mistaken Courtesean', 'The Addams Family', 'The Adventures of Priscilla, Queen of the Desert', 'The African Queen', 'The Angry Red Planet', 'The Anniversary', 'The Arrival of a Train at La Ciotat', 'The Art of Love', 'The Assassination Bureau', 'The Assassination of Richard Nixon', 'The Assault', 'The Astronaut Farmer', \"The Astronaut's Wife\", 'The Aviator', 'The Baby of Mâcon', 'The Bachelor', 'The Badge', 'The Bank Dick', 'The Bank Job', 'The Bastards', 'The Beach', 'The Beales of Grey Gardens', 'The Bear', 'The Beautiful Country', 'The Bed-Sitting Room', 'The Believer', 'The Bible: In the Beginning...', 'The Big Blue', 'The Big Parade', 'The Big Sleep', 'The Birds', 'The Blob', 'The Blood of Fu Manchu', 'The Blue Angel', 'The Blue Lagoon', 'The Bodyguard', 'The Boom', 'The Bounty', 'The Bourne Identity', 'The Bourne Supremacy', 'The Bow', 'The Boys from County Clare', 'The Brasher Doubloon', 'The Breach', 'The Breakfast Club', 'The Bride Goes Wild', 'The Bride Wore Black', 'The Bridge', 'The Bridges of Madison County', 'The Broken', 'The Brothers Grimm', 'The Buccaneer', 'The Bunker', 'The Butcher', 'The Butter Battle Book', 'The Butterfly Effect', 'The Cabinet of Dr. Caligari', 'The Caine Mutiny Court-Martial', 'The Canterbury Tales', 'The Cardinal', 'The Care Bears Adventure in Wonderland', 'The Carter', 'The Cave of the Yellow Dog', 'The Celebration', 'The Celluloid Closet', 'The Ceremony', 'The Chant of Jimmie Blacksmith', 'The China Syndrome', 'The Chorus', 'The Chosen', 'The Chronicles of Narnia: Prince Caspian', 'The Chronicles of Riddick', 'The Chronicles of Riddick: Dark Fury', 'The Cider House Rules', 'The Cincinnati Kid', 'The City of Lost Children', 'The Climb', 'The Coast Guard', 'The Collector', 'The Color of Pomegranates', 'The Comedians', 'The Comedy', 'The Common Man', 'The Company She Keeps', 'The Constant Gardener', 'The Contender', 'The Contract', 'The Conversation', 'The Cosmonaut', 'The Cotton Club', 'The Count', 'The Count of Monte-Cristo', 'The Country Girl', 'The Crazy Family', 'The Crazy Stranger', 'The Creature Walks Among Us', 'The Crime of Padre Amaro', 'The Crowd', 'The Cuckoo', 'The Curse of Frankenstein', 'The Curse of the Jade Scorpion', 'The Curse of the Were-Rabbit', 'The Darjeeling Limited', 'The Dark', 'The Dark Hour', 'The Dark Knight', 'The Dark Side of The Moon', 'The Dawn Patrol', 'The Day After', 'The Day After Tomorrow', 'The Day of the Locust', 'The Day the Earth Stood Still', 'The Deathmaker', 'The Debt', 'The Defector', 'The Defender', 'The Delivery', 'The Demolitionist', 'The Departed', 'The Desperado Trail', 'The Devil Wears Prada', \"The Devil's Backbone\", \"The Devil's Own\", \"The Devil's Rejects\", 'The Diary of Anne Frank', 'The Dirty Dozen', 'The Discovery of Heaven', 'The Discreet Charm of the Bourgeoisie', 'The Diving Bell and the Butterfly', 'The Docks of New York', 'The Domino Principle', 'The Door in the Floor', 'The Double Life of Veronique', 'The Dream Catcher', 'The Dreamers', 'The Dress', 'The Driver', 'The Edge of Heaven', 'The Education of Little Tree', 'The Edukators', 'The Elementary Particles', 'The Elephant Man', 'The Eleventh Victim', 'The Emigrants', 'The Empire Strikes Back', 'The End', 'The End of Poverty?', 'The Endless Summer', 'The Enforcer', 'The English Patient', 'The Era of Vampires', 'The Even Stevens Movie', 'The Evil Dead', 'The Ewok Adventure', 'The Executioner', 'The Exorcism of Emily Rose', 'The Experiment', 'The Fairy King Of Ar', 'The Falcon and the Snowman', 'The Family Man', 'The Fearless Vampire Killers', 'The Fifth Element', 'The Fifth Musketeer', 'The Final', 'The Final Cut', 'The First Wives Club', 'The Fisher King', 'The Flintstones', 'The Flintstones in Viva Rock Vegas', 'The Flying Saucer', 'The Forbidden Kingdom', 'The Fortune Cookie', 'The Fountain', 'The Fox & the Child', 'The French Connection', 'The French Revolution', 'The Front Line', 'The Front Page', 'The Fugitive', 'The Game', 'The Garden of Eden', 'The Garden of the Finzi-Continis', 'The Gendarme in New York', 'The Gendarme of St. Tropez', 'The General', \"The General's Daughter\", 'The Getaway', 'The Ghost of Frankenstein', 'The Gift', 'The Glass House', 'The Goddess', 'The Godfather', 'The Godfather: Part II', 'The Godfather: Part III', 'The Gold Rush', 'The Golden Compass', 'The Golden Goose', 'The Golem: How He Came Into the World', 'The Good Shepherd', 'The Good Thief', 'The Good, the Bad and the Ugly', 'The Grapes of Wrath', 'The Great Dictator', 'The Great Global Warming Swindle', 'The Great Los Angeles Earthquake', 'The Great Outdoors', 'The Great Spy Chase', 'The Greatest', 'The Greatest Story Ever Told', 'The Green Butchers', 'The Green Mile', 'The Green Room', 'The Grudge', 'The Grudge 2', 'The Grudge 3', 'The Guardian', 'The Gun That Won the West', 'The Halliday Brand', 'The Hands of Orlac', 'The Happening', 'The Harrad Experiment', 'The Haunted', 'The Haunted Castle', 'The Heart of the World', 'The Hessen Affair', 'The Hi-Lo Country', 'The Hidden Fortress', 'The Hiding Place', 'The Hire: Beat the Devil', 'The History Boys', \"The Hitchhiker's Guide to the Galaxy\", 'The Hole', 'The Holiday', 'The Holy Modal Rounders: Bound to Lose', 'The Holy Mountain', 'The Horror of Frankenstein', 'The Horse Whisperer', 'The Horsemen', 'The Host', 'The Hours', 'The House', 'The House of the Spirits', 'The Howling: New Moon Rising', 'The Hucksters', 'The Human Condition II: Road to Eternity', \"The Human Condition III: A Soldier's Prayer\", 'The Hunchback of Notre Dame', 'The Hunt for Red October', 'The Hunter', 'The Hunting Party', 'The Hustler', 'The Ice Harvest', 'The Idiots', 'The Illustrated Man', 'The In-Laws', 'The Incredible Shrinking Man', 'The Inquisitor', 'The Interpreter', 'The Invincible Armour', 'The Island', 'The Jazz Singer', 'The Joyless Street', 'The Karate Kid', 'The Keep', 'The Killing', 'The Kindred', 'The King of Comedy', 'The Kingdom', 'The Kite Runner', 'The Lady Eve', 'The Lady Vanishes', 'The Lady and the Duke', 'The Lady from Shanghai', 'The Ladykillers', 'The Lake House', 'The Last Castle', 'The Last Emperor', 'The Last Hurrah', 'The Last King of Scotland', 'The Last Laugh', 'The Last Mimzy', 'The Last Mistress', 'The Last Samurai', 'The Least of These', 'The Legend of Bagger Vance', 'The Legend of Paul and Paula', 'The Legend of Suriyothai', 'The Legend of the 7 Golden Vampires', 'The Leopard', 'The Life Aquatic with Steve Zissou', 'The Liquidator', 'The Little Thief', 'The Lives of Others', 'The Living Daylights', 'The Lonedale Operator', 'The Lord of the Rings', 'The Lord of the Rings: The Return of the King', 'The Lord of the Rings: The Two Towers', 'The Lost Continent', 'The Lost Missile', 'The Lost Valentine', 'The Lost World', 'The Lost World: Jurassic Park', 'The Lovely Bones', 'The Lovers', 'The Machine', 'The Machinist', 'The Mad Adventures of Rabbi Jacob', 'The Magdalene Sisters', 'The Magic Flute', 'The Magliari', 'The Magnificent Ambersons', 'The Magnificent Seven', 'The Maltese Falcon', 'The Man I Love', 'The Man Who Fell to Earth', 'The Man Who Knew Too Much', 'The Man Without a Past', 'The Man in the Iron Mask', 'The Man with the Golden Arm', 'The Manchurian Candidate', 'The Marksman', 'The Marriage of Maria Braun', 'The Married Couple of the Year Two', 'The Mask', 'The Mask of Fu Manchu', 'The Masseurs and a Woman', 'The Matrix', 'The Matrix Revolutions', 'The Meaning of Life', 'The Mechanik', 'The Men', 'The Message', 'The Mexican', 'The Mikado', 'The Million Dollar Hotel', 'The Miracle Worker', 'The Miracle of Bern', 'The Mist', 'The Model Couple', 'The Monkey Hustle', 'The Monster', 'The Most Dangerous Game', 'The Mostly Unfabulous Social Life of Ethan Green', 'The Mothman Prophecies', 'The Motorcycle Diaries', 'The Mountain Road', 'The Mourning Forest', 'The Mugger', 'The Mummy', 'The Mummy Returns', 'The Mummy: Tomb of the Dragon Emperor', 'The Murderers Are Among Us', 'The Mystery of Chess Boxing', 'The Naked Island', 'The Naked Man', 'The Nasty Girl', 'The Nativity Story', 'The Net', 'The Neverending Story III: Escape from Fantasia', 'The Next Best Thing', 'The Nibelungs, Tale 1: Siegfried', 'The Night Child', 'The Night of the Hunter', 'The Nomi Song', 'The Northerners', 'The Number 23', 'The Old Gun', 'The Omen', 'The One-Man Band', 'The Orphanage', 'The Other Side of Midnight', 'The Other Side of the Bed', 'The Other Side of the Mountain: Part II', 'The Others', 'The Out-of-Towners', 'The Outsiders', 'The Ox-Bow Incident', 'The Oyster Princess', 'The Party', 'The Party 2', \"The Party at Kitty and Stud's\", 'The Passerby', 'The Passion of Joan of Arc', 'The Passion of the Christ', 'The Patriot', 'The Pawnshop', 'The Pearl Color', 'The Pebble and the Penguin', 'The Perfect Storm', 'The Periwig-Maker', 'The Pet', 'The Phantom of Liberty', 'The Phantom of the Opera', 'The Philadelphia Story', 'The Pianist', 'The Piano Player', 'The Piano Teacher', 'The Pillow Book', 'The Pink Panther', 'The Pledge', 'The Polar Express', \"The Pope's Toilet\", 'The Pornographers', 'The Poseidon Adventure', 'The Powerpuff Girls Movie', 'The Prestige', 'The Pretender 2001', 'The Prey', 'The Prime of Miss Jean Brodie', 'The Princess Bride', 'The Prisoner of Zenda', 'The Private Lives of Pippa Lee', 'The Prize', 'The Professional', 'The Projected Man', 'The Promise', 'The Promised Land', 'The Protector', 'The Punk Rock Movie', 'The Queen', 'The Quiet Man', 'The Rapture', 'The Real McCoy', 'The Reaping', 'The Recruit', 'The Red Elvis', 'The Red and the White', 'The Redeemer: Son of Satan!', 'The Remains of the Day', 'The Return of Doctor X', 'The Return of Martin Guerre', 'The Return of the King', 'The Revenge of Frankenstein', \"The Revengers' Comedies\", 'The Right of the Weakest', 'The Ring', 'The Rink', 'The River Wild', 'The Road to Guantanamo', 'The Road to Hong Kong', 'The Rolling Stones: Gimme Shelter', 'The Rookie', 'The Rules of Attraction', 'The Ruling Class', 'The Running Man', 'The Saint In London', 'The Sand Pebbles', 'The Saragossa Manuscript', 'The Scarecrow', 'The Science of Sleep', 'The Sea Inside', 'The Sea That Thinks', 'The Searchers', 'The Secret', 'The Secret Life of Words', 'The Selling', 'The Sensuous Nurse', 'The Sentinel', 'The Seventh Seal', 'The Shadow', 'The Shawshank Redemption', 'The Shining', 'The Shipping News', 'The Sicilian Clan', 'The Silence of the Lambs', 'The Simpsons Movie', 'The Sixth Sense', 'The Skinny', 'The Skulls II', 'The Snows of Kilimanjaro', 'The Soft Skin', \"The Sorcerer's Apprentice\", 'The Spanish Apartment', 'The Specialist', 'The Spirit of the Beehive', 'The Spy Who Loved Me', 'The Squeeze', 'The Station Agent', 'The Stolen Children', 'The Story of O', 'The Story of a Cheat', 'The Strange Case of Dr. Jekyll and Mr. Hyde', 'The Strange Case of the End of Civilization as We Know It', 'The String', 'The Strip', 'The Sugarland Express', 'The Sum of All Fears', 'The System', 'The Tailor of Panama', 'The Talented Mr. Ripley', 'The Teacher', 'The Terminal', 'The Terminator', 'The Terminators', 'The Thin Man', 'The Thing', 'The Things of Life', 'The Third Man', 'The Thirteenth Floor', 'The Thomas Crown Affair', 'The Three Musketeers', 'The Time Machine', 'The Times of Harvey Milk', 'The Tin Drum', 'The Tooth Fairy', 'The Tortured', 'The Touch', 'The Transporter', 'The Traveler', 'The Treasure of the Sierra Madre', 'The Truth About Cats & Dogs', 'The Tulse Luper Suitcases, Part 1: The Moab Story', 'The Tunnel', 'The Turkish Gambit', 'The Two Faces of Dr. Jekyll', 'The Unforgiven', 'The Untouchables', 'The Vampire Lovers', 'The Vanishing', 'The Very Thought of You', 'The Vexxer', 'The Village', 'The Visit', 'The Wages of Fear', 'The Walking Dead', 'The Wanderers', 'The War of the Gargantuas', 'The War of the Roses', 'The War of the Worlds', 'The Warped Ones', 'The Way of the Gun', 'The Wearing of the Grin', 'The Weather Man', 'The Wedding Date', 'The Wedding Planner', 'The Weeping Camel', 'The White Reindeer', 'The White Ship', 'The White Sound', 'The Whole Nine Yards', 'The Whole Ten Yards', 'The Wilby Conspiracy', 'The Wild Angels', 'The Wild Blue Yonder', 'The Wild Child', 'The Wild Geese', 'The Wing or the Thigh', 'The Wizard', 'The Wizard of Oz', 'The Woman in Red', 'The Woman with the 5 Elephants', 'The Women on the 6th Floor', 'The Wonderful Crook', 'The World of Apu', 'The World, the Flesh and the Devil', 'The Wrecking Crew', 'The Wrong Guys', 'The Wrong Trousers', 'The X Files', 'The X Files: I Want to Believe', 'The Yakuza Papers, Vol. 1: Battles Without Honor and Humanity', 'The Year of Getting to Know Us', 'The Yes Men', 'The Young Girls of Rochefort', 'Thelma & Louise', \"There's Only One Jimmy Grimble\", \"There's Something About Mary\", 'They All Laughed', 'They Live', 'Thieves', 'Things We Lost in the Fire', 'Things to Come', 'Thirteen at Dinner', 'This Is 40', 'This Island Earth', 'This Man Must Die', 'Three Colors: Blue', 'Three Colors: Red', 'Three Kings', 'Three Men and a Cradle', 'Three Quarter Moon', 'Three of Hearts', 'Three-Step Dance', 'Throne of Blood', 'Through the Forest', 'Thumbsucker', 'Thunder Bay', 'Tibet: Cry of the Snow Lion', 'Tie Me Up! Tie Me Down!', 'Time to Leave', 'Timecop', 'Times and Winds', 'Titan A.E.', 'Titanic', 'To Be and to Have', 'To Be or Not to Be', 'To Catch a Thief', 'To Die For', 'To End All Wars', 'To Kill a Mockingbird', 'To Kill a Priest', 'To the Sea!', 'Together', 'Tokyo Sonata', 'Tokyo!', 'Tom Horn', 'Tom and Jerry: Shiver Me Whiskers', 'Tomboy', 'Tomorrow Never Dies', 'Tomorrow, When the War Began', 'Toomorrow', 'Top of the Food Chain', 'Topaz', 'Torch Song Trilogy', 'Torn Curtain', 'Torrente 2: Mission in Marbella', 'Torrente 3 The Protector', 'Torrente, the Dumb Arm of the Law', 'Total Recall', 'Totally Blonde', 'Totò Sceicco', 'Touch of Evil', 'Tough Enough', 'Tough and Deadly', 'Traces of Red', 'Trading Places', 'Traffic', 'Train of Life', 'Training Day', 'Trainspotting', 'Trancers', 'Transamerica', 'Transformers', 'Transformers: Revenge of the Fallen', 'Trapped in the Closet: Chapters 1-12', 'Travelling with Pets', 'Treasure Island', 'Trick', 'Triple Cross', 'Triple Tap', 'Tron', 'Trouble Every Day', 'Trouble in Mind', 'Trouble in Paradise', 'True Romance', 'Tuesdays with Morrie', 'Turner & Hooch', 'Turtles Can Fly', \"Tuya's Marriage\", 'Twelve Monkeys', 'Twelve Plus One', 'Twenty Years Later', 'Twice Upon a Time', 'Twilight', 'Twin Peaks: Fire Walk with Me', 'Twister', 'Two Brothers', 'Two Girls and a Guy', 'Two Men Went To War', 'Two Men in Town', 'Two Moon Junction', 'Two Weeks Notice', 'Two-Minute Warning', 'U-571', 'Umberto D.', 'Un chien andalou', 'Uncle Buck', 'Under Capricorn', 'Under Siege 2: Dark Territory', 'Under Suspicion', 'Under the Roofs of Paris', 'Under the Sand', 'Underground', 'Underworld', 'Underworld: Evolution', 'Unforgettable', 'Union Station', 'Up!', 'Urban Explorer', 'Valkyrie', 'Valley of Flowers', 'Valley of the Dolls', \"Vampire's Kiss\", 'Vampyr', 'Van Gogh', 'Van Gogh: Brush with Genius', 'Van Helsing', 'Vanilla Sky', 'Vares - The Girls of April', 'Vatel', 'Vaya con Dios', 'Veer-Zaara', 'Veerana', 'Venom', 'Verlengd Weekend', 'Veronika Voss', 'Vertigo', 'Very Annie Mary', 'Vice Squad', 'Vice Versa', 'Vicky Cristina Barcelona', 'Videodrome', 'Violeta Went to Heaven', 'Virtual Sexuality', 'Visions of Europe', 'Visitor Q', 'Viva Las Vegas', 'Viva Zapata!', 'Vivere', 'Vivre Sa Vie', 'Vollidiot', 'Volver', 'Voyage to the Beginning of the World', 'Voyage to the Bottom of the Sea', 'Wag the Dog', 'Waiter', 'Waiting for Armageddon', 'Walk on Water', 'Walk the Line', 'Wanda Sykes: Sick and Tired', 'Waqt: The Race Against Time', 'War of the Arrows', 'War of the Buttons', 'War of the Worlds', 'Wasabi', 'Wasted on the Young', 'Wattstax', \"Wayne's World\", \"Wayne's World 2\", 'We Own the Night', \"We're No Angels\", 'Wedlock', 'Wee Willie Winkie', \"Weekend at Bernie's\", 'Welcome Home, Roxy Carmichael', 'Welcome to Woop Woop', 'Werewolf Woman', 'Westworld', 'Wet Hot American Summer', 'Whale Rider', 'What Have You Done to Solange?', 'What Lies Beneath', 'What Women Want', \"What's Eating Gilbert Grape\", \"What's New Pussycat?\", 'When Harry Met Sally...', 'When Saturday Comes', 'Where the Spies Are', 'While You Were Sleeping', 'White Lightning', 'White of the Eye', 'Who Killed Bambi?', 'Wilbur Wants to Kill Himself', 'Wild Bill', 'Wild Gals of the Naked West', 'Wild Orchid', 'Wild Strawberries', 'Wild Things', 'Wild Tigers I Have Known', 'Wild West Comedy Show: 30 Days & 30 Nights - Hollywood to the Heartland', 'Wild Wild West', 'Wild at Heart', 'Wild in the Country', 'Will Penny', 'Willy Wonka & the Chocolate Factory', 'Wind with the Gone', 'Windows on Monday', 'Wings of Desire', 'Wintersleepers', 'Wish You Were Here', 'Within the Woods', \"Without You I'm Nothing\", 'Wizards of Waverly Place: The Movie', 'Wizards of the Lost Kingdom', 'Wolf and Calf', 'Wolves of Wall Street', 'Woman in the Moon', 'Woman of the Lake', 'Womanlight', 'Women on the Verge of a Nervous Breakdown', \"Wood & Stock: Sexo, Orégano e Rock'n'Roll\", 'Working Girl', 'World Trade Center', 'Wuthering Heights', 'X-Men Origins: Wolverine', 'X: The Unknown', 'Xuxa in Crystal Moon', 'Y Tu Mamá También', 'Yaji and Kita: The Midnight Pilgrims', 'Yamakasi', 'Yankee Doodle Dandy', 'Yella', 'Yesterday', 'You Are Not I', 'You Instead', 'You Only Live Twice', \"You're a Big Boy Now\", 'You, Me and Dupree', 'Young Adam', 'Young Black Stallion', 'Young Frankenstein', 'Young Mr. Lincoln', 'Young and Innocent', 'Young, Violent, Dangerous', 'Z', 'Zaat', 'Zabriskie Point', 'Zapped Again!', 'Zardoz', 'Zatoichi', \"Zatôichi's Pilgrimage\", 'Zazie dans le métro', 'Zodiac', 'Zombie Flesh Eaters', 'Zombie Holocaust', 'Zozo', 'eXistenZ', 'xXx', '¡Three Amigos!', 'À nos amours', 'Ödipussi', 'Şaban Oğlu Şaban'],\n",
              " 'user': ['#na#', 1, 2, 3, 4, 5, 6, 7, 8, 9, 10, 11, 12, 13, 14, 15, 16, 17, 18, 19, 20, 21, 22, 23, 24, 25, 26, 27, 28, 29, 30, 31, 32, 33, 34, 35, 36, 37, 38, 39, 40, 41, 42, 43, 44, 45, 46, 47, 48, 49, 50, 51, 52, 53, 54, 55, 56, 57, 58, 59, 60, 61, 62, 63, 64, 65, 66, 67, 68, 69, 70, 71, 72, 73, 74, 75, 76, 77, 78, 79, 80, 81, 82, 83, 84, 85, 86, 87, 88, 89, 90, 91, 92, 93, 94, 95, 96, 97, 98, 99, 100, 101, 102, 103, 104, 105, 106, 107, 108, 109, 110, 111, 112, 113, 114, 115, 116, 117, 118, 119, 120, 121, 122, 123, 124, 125, 126, 127, 128, 129, 130, 131, 132, 133, 134, 135, 136, 137, 138, 139, 140, 141, 142, 143, 144, 145, 146, 147, 148, 149, 150, 151, 152, 153, 154, 155, 156, 157, 158, 159, 160, 161, 162, 163, 164, 165, 166, 167, 168, 169, 170, 171, 172, 173, 174, 175, 176, 177, 178, 179, 180, 181, 182, 183, 184, 185, 186, 187, 188, 189, 190, 191, 192, 193, 194, 195, 196, 197, 198, 199, 200, 201, 202, 203, 204, 205, 206, 207, 208, 209, 210, 211, 212, 213, 214, 215, 216, 217, 218, 219, 220, 221, 222, 223, 224, 225, 226, 227, 228, 229, 230, 231, 232, 233, 234, 235, 236, 237, 238, 239, 240, 241, 242, 243, 244, 245, 246, 247, 248, 249, 250, 251, 252, 253, 254, 255, 256, 257, 258, 259, 260, 261, 262, 263, 264, 265, 266, 267, 268, 269, 270, 271, 272, 273, 274, 275, 276, 277, 278, 279, 280, 281, 282, 283, 284, 285, 286, 287, 288, 289, 290, 291, 292, 293, 294, 295, 296, 297, 298, 299, 300, 301, 302, 303, 304, 305, 306, 307, 308, 309, 310, 311, 312, 313, 314, 315, 316, 317, 318, 319, 320, 321, 322, 323, 324, 325, 326, 327, 328, 329, 330, 331, 332, 333, 334, 335, 336, 337, 338, 339, 340, 341, 342, 343, 344, 345, 346, 347, 348, 349, 350, 351, 352, 353, 354, 355, 356, 357, 358, 359, 360, 361, 362, 363, 364, 365, 366, 367, 368, 369, 370, 371, 372, 373, 374, 375, 376, 377, 378, 379, 380, 381, 382, 383, 384, 385, 386, 387, 388, 389, 390, 391, 392, 393, 394, 395, 396, 397, 398, 399, 400, 401, 402, 403, 404, 405, 406, 407, 408, 409, 410, 411, 412, 413, 414, 415, 416, 417, 418, 419, 420, 421, 422, 423, 424, 425, 426, 427, 428, 429, 430, 431, 432, 433, 434, 435, 436, 437, 438, 439, 440, 441, 442, 443, 444, 445, 446, 447, 448, 449, 450, 451, 452, 453, 454, 455, 456, 457, 458, 459, 460, 461, 462, 463, 464, 465, 466, 467, 468, 469, 470, 471, 472, 473, 474, 475, 476, 477, 478, 479, 480, 481, 482, 483, 484, 485, 486, 487, 488, 489, 490, 491, 492, 493, 494, 495, 496, 497, 498, 499, 500, 501, 502, 503, 504, 505, 506, 507, 508, 509, 510, 511, 512, 513, 514, 515, 516, 517, 518, 519, 520, 521, 522, 523, 524, 525, 526, 527, 528, 529, 530, 531, 532, 533, 534, 535, 536, 537, 538, 539, 540, 541, 542, 543, 544, 545, 546, 547, 548, 549, 550, 551, 552, 553, 554, 555, 556, 557, 558, 559, 560, 561, 562, 563, 564, 565, 566, 567, 568, 569, 570, 571, 572, 573, 574, 575, 576, 577, 578, 579, 580, 581, 582, 583, 584, 585, 586, 587, 588, 589, 590, 591, 592, 593, 594, 595, 596, 597, 598, 599, 600, 601, 602, 603, 604, 605, 606, 607, 608, 609, 610, 611, 612, 613, 614, 615, 616, 617, 618, 619, 620, 621, 622, 623, 624, 625, 626, 627, 628, 629, 630, 631, 632, 633, 634, 635, 636, 637, 638, 639, 640, 641, 642, 643, 644, 645, 646, 647, 648, 649, 650, 651, 652, 653, 654, 655, 656, 657, 658, 659, 660, 661, 662, 663, 664, 665, 666, 667, 668, 669, 670, 671]}"
            ]
          },
          "metadata": {},
          "execution_count": 20
        }
      ],
      "source": [
        "dls.classes"
      ]
    },
    {
      "cell_type": "code",
      "execution_count": 21,
      "metadata": {
        "id": "_gUEC5OvlETm"
      },
      "outputs": [],
      "source": [
        "n_users  = len(dls.classes['user'])\n",
        "n_movies = len(dls.classes['title'])\n",
        "n_factors = 5\n",
        "\n",
        "user_factors = torch.randn(n_users, n_factors)\n",
        "movie_factors = torch.randn(n_movies, n_factors)"
      ]
    },
    {
      "cell_type": "markdown",
      "metadata": {
        "id": "iIj_2Qs2lETm"
      },
      "source": [
        "To calculate the result for a particular movie and user combination, we have to look up the index of the movie in our movie latent factor matrix and the index of the user in our user latent factor matrix; then we can do our dot product between the two latent factor vectors. But *look up in an index* is not an operation our deep learning models know how to do. They know how to do matrix products, and activation functions.\n",
        "\n",
        "Fortunately, it turns out that we can represent *look up in an index* as a matrix product. The trick is to replace our indices with one-hot-encoded vectors. Here is an example of what happens if we multiply a vector by a one-hot-encoded vector representing the index 3:"
      ]
    },
    {
      "cell_type": "code",
      "execution_count": 22,
      "metadata": {
        "id": "PMzALYm8lETm"
      },
      "outputs": [],
      "source": [
        "one_hot_3 = one_hot(3, n_users).float()"
      ]
    },
    {
      "cell_type": "code",
      "execution_count": 23,
      "metadata": {
        "colab": {
          "base_uri": "https://localhost:8080/"
        },
        "id": "BSp6e6BclETn",
        "outputId": "12e639af-e702-4b78-faba-9066307730b9"
      },
      "outputs": [
        {
          "output_type": "execute_result",
          "data": {
            "text/plain": [
              "tensor([-0.2223, -2.0746,  0.1744, -0.3339, -0.4569])"
            ]
          },
          "metadata": {},
          "execution_count": 23
        }
      ],
      "source": [
        "user_factors.t() @ one_hot_3"
      ]
    },
    {
      "cell_type": "markdown",
      "metadata": {
        "id": "fwM34XcQlETn"
      },
      "source": [
        "It gives us the same vector as the one at index 3 in the matrix:"
      ]
    },
    {
      "cell_type": "code",
      "execution_count": 24,
      "metadata": {
        "colab": {
          "base_uri": "https://localhost:8080/"
        },
        "id": "8PqbGzGclETn",
        "outputId": "d8653011-893c-4172-d20f-f6b13320079e"
      },
      "outputs": [
        {
          "output_type": "execute_result",
          "data": {
            "text/plain": [
              "tensor([-0.2223, -2.0746,  0.1744, -0.3339, -0.4569])"
            ]
          },
          "metadata": {},
          "execution_count": 24
        }
      ],
      "source": [
        "user_factors[3]"
      ]
    },
    {
      "cell_type": "markdown",
      "metadata": {
        "id": "353kDsfflETn"
      },
      "source": [
        "If we do that for a few indices at once, we will have a matrix of one-hot-encoded vectors, and that operation will be a matrix multiplication! This would be a perfectly acceptable way to build models using this kind of architecture, except that it would use a lot more memory and time than necessary. We know that there is no real underlying reason to store the one-hot-encoded vector, or to search through it to find the occurrence of the number one—we should just be able to index into an array directly with an integer. Therefore, most deep learning libraries, including PyTorch, include a special layer that does just this; it indexes into a vector using an integer, but has its derivative calculated in such a way that it is identical to what it would have been if it had done a matrix multiplication with a one-hot-encoded vector. This is called an *embedding*."
      ]
    },
    {
      "cell_type": "markdown",
      "metadata": {
        "id": "tgRxpRcelETo"
      },
      "source": [
        "> jargon: Embedding: Multiplying by a one-hot-encoded matrix, using the computational shortcut that it can be implemented by simply indexing directly. This is quite a fancy word for a very simple concept. The thing that you multiply the one-hot-encoded matrix by (or, using the computational shortcut, index into directly) is called the _embedding matrix_."
      ]
    },
    {
      "cell_type": "markdown",
      "metadata": {
        "id": "0Y3rEtM1lETo"
      },
      "source": [
        "In computer vision, we have a very easy way to get all the information of a pixel through its RGB values: each pixel in a colored image is represented by three numbers. Those three numbers give us the redness, the greenness and the blueness, which is enough to get our model to work afterward.\n",
        "\n",
        "For the problem at hand, we don't have the same easy way to characterize a user or a movie. There are probably relations with genres: if a given user likes romance, they are likely to give higher scores to romance movies. Other factors might be whether the movie is more action-oriented versus heavy on dialogue, or the presence of a specific actor that a user might particularly like. \n",
        "\n",
        "How do we determine numbers to characterize those? The answer is, we don't. We will let our model *learn* them. By analyzing the existing relations between users and movies, our model can figure out itself the features that seem important or not.\n",
        "\n",
        "This is what embeddings are. We will attribute to each of our users and each of our movies a random vector of a certain length (here, `n_factors=5`), and we will make those learnable parameters. That means that at each step, when we compute the loss by comparing our predictions to our targets, we will compute the gradients of the loss with respect to those embedding vectors and update them with the rules of SGD (or another optimizer).\n",
        "\n",
        "At the beginning, those numbers don't mean anything since we have chosen them randomly, but by the end of training, they will. By learning on existing data about the relations between users and movies, without having any other information, we will see that they still get some important features, and can isolate blockbusters from independent cinema, action movies from romance, and so on.\n",
        "\n",
        "We are now in a position that we can create our whole model from scratch."
      ]
    },
    {
      "cell_type": "markdown",
      "metadata": {
        "id": "6-6f7lG_lETo"
      },
      "source": [
        "## Collaborative Filtering from Scratch"
      ]
    },
    {
      "cell_type": "markdown",
      "metadata": {
        "id": "p25iXv-5lETo"
      },
      "source": [
        "Before we can write a model in PyTorch, we first need to learn the basics of object-oriented programming and Python. If you haven't done any object-oriented programming before, we will give you a quick introduction here, but we would recommend looking up a tutorial and getting some practice before moving on.\n",
        "\n",
        "The key idea in object-oriented programming is the *class*. We have been using classes throughout this book, such as `DataLoader`, `string`, and `Learner`. Python also makes it easy for us to create new classes. Here is an example of a simple class:"
      ]
    },
    {
      "cell_type": "code",
      "execution_count": 25,
      "metadata": {
        "id": "cSAj_Y0xlETo"
      },
      "outputs": [],
      "source": [
        "class Example:\n",
        "    def __init__(self, a): self.a = a\n",
        "    def say(self,x): return f'Hello {self.a}, {x}.'"
      ]
    },
    {
      "cell_type": "markdown",
      "metadata": {
        "id": "RTLrc6PDlETo"
      },
      "source": [
        "The most important piece of this is the special method called `__init__` (pronounced *dunder init*). In Python, any method surrounded in double underscores like this is considered special. It indicates that there is some extra behavior associated with this method name. In the case of `__init__`, this is the method Python will call when your new object is created. So, this is where you can set up any state that needs to be initialized upon object creation. Any parameters included when the user constructs an instance of your class will be passed to the `__init__` method as parameters. Note that the first parameter to any method defined inside a class is `self`, so you can use this to set and get any attributes that you will need:"
      ]
    },
    {
      "cell_type": "code",
      "execution_count": 26,
      "metadata": {
        "colab": {
          "base_uri": "https://localhost:8080/",
          "height": 35
        },
        "id": "_QwB6QitlETp",
        "outputId": "b325ae44-4ff2-4958-c37d-d7d523af4957"
      },
      "outputs": [
        {
          "output_type": "execute_result",
          "data": {
            "text/plain": [
              "'Hello Sylvain, nice to meet you.'"
            ],
            "application/vnd.google.colaboratory.intrinsic+json": {
              "type": "string"
            }
          },
          "metadata": {},
          "execution_count": 26
        }
      ],
      "source": [
        "ex = Example('Sylvain')\n",
        "ex.say('nice to meet you')"
      ]
    },
    {
      "cell_type": "markdown",
      "metadata": {
        "id": "IZzAgj_QlETp"
      },
      "source": [
        "Also note that creating a new PyTorch module requires inheriting from `Module`. *Inheritance* is an important object-oriented concept that we will not discuss in detail here—in short, it means that we can add additional behavior to an existing class. PyTorch already provides a `Module` class, which provides some basic foundations that we want to build on. So, we add the name of this *superclass* after the name of the class that we are defining, as shown in the following example.\n",
        "\n",
        "The final thing that you need to know to create a new PyTorch module is that when your module is called, PyTorch will call a method in your class called `forward`, and will pass along to that any parameters that are included in the call. Here is the class defining our dot product model:"
      ]
    },
    {
      "cell_type": "code",
      "execution_count": 27,
      "metadata": {
        "id": "f7WTWix4lETp"
      },
      "outputs": [],
      "source": [
        "class DotProduct(Module):\n",
        "    def __init__(self, n_users, n_movies, n_factors):\n",
        "        self.user_factors = Embedding(n_users, n_factors)\n",
        "        self.movie_factors = Embedding(n_movies, n_factors)\n",
        "        \n",
        "    def forward(self, x):\n",
        "        users = self.user_factors(x[:,0])\n",
        "        movies = self.movie_factors(x[:,1])\n",
        "        return (users * movies).sum(dim=1)"
      ]
    },
    {
      "cell_type": "markdown",
      "metadata": {
        "id": "yNJDJaBFlETp"
      },
      "source": [
        "If you haven't seen object-oriented programming before, then don't worry, you won't need to use it much in this book. We are just mentioning this approach here, because most online tutorials and documentation will use the object-oriented syntax.\n",
        "\n",
        "Note that the input of the model is a tensor of shape `batch_size x 2`, where the first column (`x[:, 0]`) contains the user IDs and the second column (`x[:, 1]`) contains the movie IDs. As explained before, we use the *embedding* layers to represent our matrices of user and movie latent factors:"
      ]
    },
    {
      "cell_type": "code",
      "execution_count": 28,
      "metadata": {
        "colab": {
          "base_uri": "https://localhost:8080/"
        },
        "id": "DwsJTLxIlETq",
        "outputId": "9f7e1882-14ac-486e-e2e4-4a079ffed649"
      },
      "outputs": [
        {
          "output_type": "execute_result",
          "data": {
            "text/plain": [
              "torch.Size([64, 2])"
            ]
          },
          "metadata": {},
          "execution_count": 28
        }
      ],
      "source": [
        "x,y = dls.one_batch()\n",
        "x.shape"
      ]
    },
    {
      "cell_type": "markdown",
      "metadata": {
        "id": "lW8lP7anlETq"
      },
      "source": [
        "Now that we have defined our architecture, and created our parameter matrices, we need to create a `Learner` to optimize our model. In the past we have used special functions, such as `cnn_learner`, which set up everything for us for a particular application. Since we are doing things from scratch here, we will use the plain `Learner` class:"
      ]
    },
    {
      "cell_type": "code",
      "execution_count": 29,
      "metadata": {
        "id": "hiI2ETD_lETq"
      },
      "outputs": [],
      "source": [
        "model = DotProduct(n_users, n_movies, 50)\n",
        "learn = Learner(dls, model, loss_func=MSELossFlat())"
      ]
    },
    {
      "cell_type": "markdown",
      "metadata": {
        "id": "2YlCNNeKlETq"
      },
      "source": [
        "We are now ready to fit our model:"
      ]
    },
    {
      "cell_type": "code",
      "execution_count": 30,
      "metadata": {
        "colab": {
          "base_uri": "https://localhost:8080/",
          "height": 206
        },
        "id": "YG188T7plETq",
        "outputId": "ce59a8f5-7036-40f4-9db5-a6a365d4f34a"
      },
      "outputs": [
        {
          "output_type": "display_data",
          "data": {
            "text/plain": [
              "<IPython.core.display.HTML object>"
            ],
            "text/html": [
              "\n",
              "<style>\n",
              "    /* Turns off some styling */\n",
              "    progress {\n",
              "        /* gets rid of default border in Firefox and Opera. */\n",
              "        border: none;\n",
              "        /* Needs to be in here for Safari polyfill so background images work as expected. */\n",
              "        background-size: auto;\n",
              "    }\n",
              "    .progress-bar-interrupted, .progress-bar-interrupted::-webkit-progress-bar {\n",
              "        background: #F44336;\n",
              "    }\n",
              "</style>\n"
            ]
          },
          "metadata": {}
        },
        {
          "output_type": "display_data",
          "data": {
            "text/plain": [
              "<IPython.core.display.HTML object>"
            ],
            "text/html": [
              "<table border=\"1\" class=\"dataframe\">\n",
              "  <thead>\n",
              "    <tr style=\"text-align: left;\">\n",
              "      <th>epoch</th>\n",
              "      <th>train_loss</th>\n",
              "      <th>valid_loss</th>\n",
              "      <th>time</th>\n",
              "    </tr>\n",
              "  </thead>\n",
              "  <tbody>\n",
              "    <tr>\n",
              "      <td>0</td>\n",
              "      <td>3.896369</td>\n",
              "      <td>2.819146</td>\n",
              "      <td>00:03</td>\n",
              "    </tr>\n",
              "    <tr>\n",
              "      <td>1</td>\n",
              "      <td>1.298556</td>\n",
              "      <td>1.302016</td>\n",
              "      <td>00:03</td>\n",
              "    </tr>\n",
              "    <tr>\n",
              "      <td>2</td>\n",
              "      <td>0.973288</td>\n",
              "      <td>1.142430</td>\n",
              "      <td>00:04</td>\n",
              "    </tr>\n",
              "    <tr>\n",
              "      <td>3</td>\n",
              "      <td>0.801950</td>\n",
              "      <td>1.068959</td>\n",
              "      <td>00:05</td>\n",
              "    </tr>\n",
              "    <tr>\n",
              "      <td>4</td>\n",
              "      <td>0.703325</td>\n",
              "      <td>1.059893</td>\n",
              "      <td>00:03</td>\n",
              "    </tr>\n",
              "  </tbody>\n",
              "</table>"
            ]
          },
          "metadata": {}
        }
      ],
      "source": [
        "learn.fit_one_cycle(5, 5e-3)"
      ]
    },
    {
      "cell_type": "markdown",
      "metadata": {
        "id": "qPEs7arSlETq"
      },
      "source": [
        "The first thing we can do to make this model a little bit better is to force those predictions to be between 0 and 5. For this, we just need to use `sigmoid_range`, like in <<chapter_multicat>>. One thing we discovered empirically is that it's better to have the range go a little bit over 5, so we use `(0, 5.5)`:"
      ]
    },
    {
      "cell_type": "code",
      "execution_count": 31,
      "metadata": {
        "id": "9PWJDLGzlETr"
      },
      "outputs": [],
      "source": [
        "class DotProduct(Module):\n",
        "    def __init__(self, n_users, n_movies, n_factors, y_range=(0,5.5)):\n",
        "        self.user_factors = Embedding(n_users, n_factors)\n",
        "        self.movie_factors = Embedding(n_movies, n_factors)\n",
        "        self.y_range = y_range\n",
        "        \n",
        "    def forward(self, x):\n",
        "        users = self.user_factors(x[:,0])\n",
        "        movies = self.movie_factors(x[:,1])\n",
        "        return sigmoid_range((users * movies).sum(dim=1), *self.y_range)"
      ]
    },
    {
      "cell_type": "code",
      "execution_count": 32,
      "metadata": {
        "colab": {
          "base_uri": "https://localhost:8080/",
          "height": 206
        },
        "id": "8fS6jT2olETr",
        "outputId": "46ee02b8-9dfd-4f06-b26d-ef64dad5b249"
      },
      "outputs": [
        {
          "output_type": "display_data",
          "data": {
            "text/plain": [
              "<IPython.core.display.HTML object>"
            ],
            "text/html": [
              "\n",
              "<style>\n",
              "    /* Turns off some styling */\n",
              "    progress {\n",
              "        /* gets rid of default border in Firefox and Opera. */\n",
              "        border: none;\n",
              "        /* Needs to be in here for Safari polyfill so background images work as expected. */\n",
              "        background-size: auto;\n",
              "    }\n",
              "    .progress-bar-interrupted, .progress-bar-interrupted::-webkit-progress-bar {\n",
              "        background: #F44336;\n",
              "    }\n",
              "</style>\n"
            ]
          },
          "metadata": {}
        },
        {
          "output_type": "display_data",
          "data": {
            "text/plain": [
              "<IPython.core.display.HTML object>"
            ],
            "text/html": [
              "<table border=\"1\" class=\"dataframe\">\n",
              "  <thead>\n",
              "    <tr style=\"text-align: left;\">\n",
              "      <th>epoch</th>\n",
              "      <th>train_loss</th>\n",
              "      <th>valid_loss</th>\n",
              "      <th>time</th>\n",
              "    </tr>\n",
              "  </thead>\n",
              "  <tbody>\n",
              "    <tr>\n",
              "      <td>0</td>\n",
              "      <td>1.034324</td>\n",
              "      <td>0.968231</td>\n",
              "      <td>00:03</td>\n",
              "    </tr>\n",
              "    <tr>\n",
              "      <td>1</td>\n",
              "      <td>0.799701</td>\n",
              "      <td>0.847701</td>\n",
              "      <td>00:03</td>\n",
              "    </tr>\n",
              "    <tr>\n",
              "      <td>2</td>\n",
              "      <td>0.558154</td>\n",
              "      <td>0.826547</td>\n",
              "      <td>00:03</td>\n",
              "    </tr>\n",
              "    <tr>\n",
              "      <td>3</td>\n",
              "      <td>0.362494</td>\n",
              "      <td>0.827405</td>\n",
              "      <td>00:03</td>\n",
              "    </tr>\n",
              "    <tr>\n",
              "      <td>4</td>\n",
              "      <td>0.276935</td>\n",
              "      <td>0.829875</td>\n",
              "      <td>00:03</td>\n",
              "    </tr>\n",
              "  </tbody>\n",
              "</table>"
            ]
          },
          "metadata": {}
        }
      ],
      "source": [
        "model = DotProduct(n_users, n_movies, 50)\n",
        "learn = Learner(dls, model, loss_func=MSELossFlat())\n",
        "learn.fit_one_cycle(5, 5e-3)"
      ]
    },
    {
      "cell_type": "markdown",
      "metadata": {
        "id": "ueqmIDEplETr"
      },
      "source": [
        "This is a reasonable start, but we can do better. One obvious missing piece is that some users are just more positive or negative in their recommendations than others, and some movies are just plain better or worse than others. But in our dot product representation we do not have any way to encode either of these things. If all you can say about a movie is, for instance, that it is very sci-fi, very action-oriented, and very not old, then you don't really have any way to say whether most people like it. \n",
        "\n",
        "That's because at this point we only have weights; we do not have biases. If we have a single number for each user that we can add to our scores, and ditto for each movie, that will handle this missing piece very nicely. So first of all, let's adjust our model architecture:"
      ]
    },
    {
      "cell_type": "code",
      "execution_count": 33,
      "metadata": {
        "id": "3k7dU4jDlETr"
      },
      "outputs": [],
      "source": [
        "class DotProductBias(Module):\n",
        "    def __init__(self, n_users, n_movies, n_factors, y_range=(0,5.5)):\n",
        "        self.user_factors = Embedding(n_users, n_factors)\n",
        "        self.user_bias = Embedding(n_users, 1)\n",
        "        self.movie_factors = Embedding(n_movies, n_factors)\n",
        "        self.movie_bias = Embedding(n_movies, 1)\n",
        "        self.y_range = y_range\n",
        "        \n",
        "    def forward(self, x):\n",
        "        users = self.user_factors(x[:,0])\n",
        "        movies = self.movie_factors(x[:,1])\n",
        "        res = (users * movies).sum(dim=1, keepdim=True)\n",
        "        res += self.user_bias(x[:,0]) + self.movie_bias(x[:,1])\n",
        "        return sigmoid_range(res, *self.y_range)"
      ]
    },
    {
      "cell_type": "markdown",
      "metadata": {
        "id": "wBnA_hDklETr"
      },
      "source": [
        "Let's try training this and see how it goes:"
      ]
    },
    {
      "cell_type": "code",
      "execution_count": 34,
      "metadata": {
        "colab": {
          "base_uri": "https://localhost:8080/",
          "height": 206
        },
        "id": "Cybd3c9JlETr",
        "outputId": "c8ffea38-7249-464b-e621-253d940c958d"
      },
      "outputs": [
        {
          "output_type": "display_data",
          "data": {
            "text/plain": [
              "<IPython.core.display.HTML object>"
            ],
            "text/html": [
              "\n",
              "<style>\n",
              "    /* Turns off some styling */\n",
              "    progress {\n",
              "        /* gets rid of default border in Firefox and Opera. */\n",
              "        border: none;\n",
              "        /* Needs to be in here for Safari polyfill so background images work as expected. */\n",
              "        background-size: auto;\n",
              "    }\n",
              "    .progress-bar-interrupted, .progress-bar-interrupted::-webkit-progress-bar {\n",
              "        background: #F44336;\n",
              "    }\n",
              "</style>\n"
            ]
          },
          "metadata": {}
        },
        {
          "output_type": "display_data",
          "data": {
            "text/plain": [
              "<IPython.core.display.HTML object>"
            ],
            "text/html": [
              "<table border=\"1\" class=\"dataframe\">\n",
              "  <thead>\n",
              "    <tr style=\"text-align: left;\">\n",
              "      <th>epoch</th>\n",
              "      <th>train_loss</th>\n",
              "      <th>valid_loss</th>\n",
              "      <th>time</th>\n",
              "    </tr>\n",
              "  </thead>\n",
              "  <tbody>\n",
              "    <tr>\n",
              "      <td>0</td>\n",
              "      <td>0.955458</td>\n",
              "      <td>0.897278</td>\n",
              "      <td>00:03</td>\n",
              "    </tr>\n",
              "    <tr>\n",
              "      <td>1</td>\n",
              "      <td>0.760046</td>\n",
              "      <td>0.800237</td>\n",
              "      <td>00:03</td>\n",
              "    </tr>\n",
              "    <tr>\n",
              "      <td>2</td>\n",
              "      <td>0.515751</td>\n",
              "      <td>0.799266</td>\n",
              "      <td>00:03</td>\n",
              "    </tr>\n",
              "    <tr>\n",
              "      <td>3</td>\n",
              "      <td>0.325715</td>\n",
              "      <td>0.809722</td>\n",
              "      <td>00:03</td>\n",
              "    </tr>\n",
              "    <tr>\n",
              "      <td>4</td>\n",
              "      <td>0.232557</td>\n",
              "      <td>0.813962</td>\n",
              "      <td>00:03</td>\n",
              "    </tr>\n",
              "  </tbody>\n",
              "</table>"
            ]
          },
          "metadata": {}
        }
      ],
      "source": [
        "model = DotProductBias(n_users, n_movies, 50)\n",
        "learn = Learner(dls, model, loss_func=MSELossFlat())\n",
        "learn.fit_one_cycle(5, 5e-3)"
      ]
    },
    {
      "cell_type": "markdown",
      "metadata": {
        "id": "p9xW8pFjlETs"
      },
      "source": [
        "Instead of being better, it ends up being worse (at least at the end of training). Why is that? If we look at both trainings carefully, we can see the validation loss stopped improving in the middle and started to get worse. As we've seen, this is a clear indication of overfitting. In this case, there is no way to use data augmentation, so we will have to use another regularization technique. One approach that can be helpful is *weight decay*."
      ]
    },
    {
      "cell_type": "markdown",
      "metadata": {
        "id": "KO_A8rT7lETs"
      },
      "source": [
        "### Weight Decay"
      ]
    },
    {
      "cell_type": "markdown",
      "metadata": {
        "id": "kMRLwi9_lETs"
      },
      "source": [
        "Weight decay, or *L2 regularization*, consists in adding to your loss function the sum of all the weights squared. Why do that? Because when we compute the gradients, it will add a contribution to them that will encourage the weights to be as small as possible.\n",
        "\n",
        "Why would it prevent overfitting? The idea is that the larger the coefficients are, the sharper canyons we will have in the loss function. If we take the basic example of a parabola, `y = a * (x**2)`, the larger `a` is, the more *narrow* the parabola is (<<parabolas>>)."
      ]
    },
    {
      "cell_type": "code",
      "execution_count": 35,
      "metadata": {
        "colab": {
          "base_uri": "https://localhost:8080/",
          "height": 378
        },
        "id": "LzloGspVlETs",
        "outputId": "eb08b660-08dd-471f-e4f1-8148e2e414d5"
      },
      "outputs": [
        {
          "output_type": "display_data",
          "data": {
            "text/plain": [
              "<Figure size 576x432 with 1 Axes>"
            ],
            "image/png": "[encoded data removed]"
          },
          "metadata": {
            "needs_background": "light"
          }
        }
      ],
      "source": [
        "#hide_input\n",
        "#id parabolas\n",
        "x = np.linspace(-2,2,100)\n",
        "a_s = [1,2,5,10,50] \n",
        "ys = [a * x**2 for a in a_s]\n",
        "_,ax = plt.subplots(figsize=(8,6))\n",
        "for a,y in zip(a_s,ys): ax.plot(x,y, label=f'a={a}')\n",
        "ax.set_ylim([0,5])\n",
        "ax.legend();"
      ]
    },
    {
      "cell_type": "markdown",
      "metadata": {
        "id": "TDRjE91ElETs"
      },
      "source": [
        "So, letting our model learn high parameters might cause it to fit all the data points in the training set with an overcomplex function that has very sharp changes, which will lead to overfitting.\n",
        "\n",
        "Limiting our weights from growing too much is going to hinder the training of the model, but it will yield a state where it generalizes better. Going back to the theory briefly, weight decay (or just `wd`) is a parameter that controls that sum of squares we add to our loss (assuming `parameters` is a tensor of all parameters):\n",
        "\n",
        "``` python\n",
        "loss_with_wd = loss + wd * (parameters**2).sum()\n",
        "```\n",
        "\n",
        "In practice, though, it would be very inefficient (and maybe numerically unstable) to compute that big sum and add it to the loss. If you remember a little bit of high school math, you might recall that the derivative of `p**2` with respect to `p` is `2*p`, so adding that big sum to our loss is exactly the same as doing:\n",
        "\n",
        "``` python\n",
        "parameters.grad += wd * 2 * parameters\n",
        "```\n",
        "\n",
        "In practice, since `wd` is a parameter that we choose, we can just make it twice as big, so we don't even need the `*2` in this equation. To use weight decay in fastai, just pass `wd` in your call to `fit` or `fit_one_cycle`:"
      ]
    },
    {
      "cell_type": "code",
      "execution_count": 36,
      "metadata": {
        "colab": {
          "base_uri": "https://localhost:8080/",
          "height": 206
        },
        "id": "eqLoqbKUlETs",
        "outputId": "eea4dd43-591b-401a-97a8-77292857d688"
      },
      "outputs": [
        {
          "output_type": "display_data",
          "data": {
            "text/plain": [
              "<IPython.core.display.HTML object>"
            ],
            "text/html": [
              "\n",
              "<style>\n",
              "    /* Turns off some styling */\n",
              "    progress {\n",
              "        /* gets rid of default border in Firefox and Opera. */\n",
              "        border: none;\n",
              "        /* Needs to be in here for Safari polyfill so background images work as expected. */\n",
              "        background-size: auto;\n",
              "    }\n",
              "    .progress-bar-interrupted, .progress-bar-interrupted::-webkit-progress-bar {\n",
              "        background: #F44336;\n",
              "    }\n",
              "</style>\n"
            ]
          },
          "metadata": {}
        },
        {
          "output_type": "display_data",
          "data": {
            "text/plain": [
              "<IPython.core.display.HTML object>"
            ],
            "text/html": [
              "<table border=\"1\" class=\"dataframe\">\n",
              "  <thead>\n",
              "    <tr style=\"text-align: left;\">\n",
              "      <th>epoch</th>\n",
              "      <th>train_loss</th>\n",
              "      <th>valid_loss</th>\n",
              "      <th>time</th>\n",
              "    </tr>\n",
              "  </thead>\n",
              "  <tbody>\n",
              "    <tr>\n",
              "      <td>0</td>\n",
              "      <td>0.940358</td>\n",
              "      <td>0.904625</td>\n",
              "      <td>00:04</td>\n",
              "    </tr>\n",
              "    <tr>\n",
              "      <td>1</td>\n",
              "      <td>0.767560</td>\n",
              "      <td>0.807763</td>\n",
              "      <td>00:03</td>\n",
              "    </tr>\n",
              "    <tr>\n",
              "      <td>2</td>\n",
              "      <td>0.566234</td>\n",
              "      <td>0.786940</td>\n",
              "      <td>00:03</td>\n",
              "    </tr>\n",
              "    <tr>\n",
              "      <td>3</td>\n",
              "      <td>0.438253</td>\n",
              "      <td>0.786451</td>\n",
              "      <td>00:03</td>\n",
              "    </tr>\n",
              "    <tr>\n",
              "      <td>4</td>\n",
              "      <td>0.345219</td>\n",
              "      <td>0.788240</td>\n",
              "      <td>00:03</td>\n",
              "    </tr>\n",
              "  </tbody>\n",
              "</table>"
            ]
          },
          "metadata": {}
        }
      ],
      "source": [
        "model = DotProductBias(n_users, n_movies, 50)\n",
        "learn = Learner(dls, model, loss_func=MSELossFlat())\n",
        "learn.fit_one_cycle(5, 5e-3, wd=0.1)"
      ]
    },
    {
      "cell_type": "markdown",
      "metadata": {
        "id": "tYhWhjU1lETt"
      },
      "source": [
        "Much better!"
      ]
    },
    {
      "cell_type": "markdown",
      "metadata": {
        "id": "FiDCYHthlETt"
      },
      "source": [
        "### Creating Our Own Embedding Module"
      ]
    },
    {
      "cell_type": "markdown",
      "metadata": {
        "id": "X-dbDVbTlETt"
      },
      "source": [
        "So far, we've used `Embedding` without thinking about how it really works. Let's re-create `DotProductBias` *without* using this class. We'll need a randomly initialized weight matrix for each of the embeddings. We have to be careful, however. Recall from <<chapter_mnist_basics>> that optimizers require that they can get all the parameters of a module from the module's `parameters` method. However, this does not happen fully automatically. If we just add a tensor as an attribute to a `Module`, it will not be included in `parameters`:"
      ]
    },
    {
      "cell_type": "code",
      "execution_count": 37,
      "metadata": {
        "colab": {
          "base_uri": "https://localhost:8080/"
        },
        "id": "0wn1njD5lETt",
        "outputId": "6b4434cc-896e-4c08-8786-22e4a5322cd2"
      },
      "outputs": [
        {
          "output_type": "execute_result",
          "data": {
            "text/plain": [
              "(#0) []"
            ]
          },
          "metadata": {},
          "execution_count": 37
        }
      ],
      "source": [
        "class T(Module):\n",
        "    def __init__(self): self.a = torch.ones(3)\n",
        "\n",
        "L(T().parameters())"
      ]
    },
    {
      "cell_type": "markdown",
      "metadata": {
        "id": "BXXiXY8DlETt"
      },
      "source": [
        "To tell `Module` that we want to treat a tensor as a parameter, we have to wrap it in the `nn.Parameter` class. This class doesn't actually add any functionality (other than automatically calling `requires_grad_` for us). It's only used as a \"marker\" to show what to include in `parameters`:"
      ]
    },
    {
      "cell_type": "code",
      "execution_count": 38,
      "metadata": {
        "colab": {
          "base_uri": "https://localhost:8080/"
        },
        "id": "zIyNHpmxlETt",
        "outputId": "c7c38a37-3caa-44ea-f29d-b23590a6a849"
      },
      "outputs": [
        {
          "output_type": "execute_result",
          "data": {
            "text/plain": [
              "(#1) [Parameter containing:\n",
              "tensor([1., 1., 1.], requires_grad=True)]"
            ]
          },
          "metadata": {},
          "execution_count": 38
        }
      ],
      "source": [
        "class T(Module):\n",
        "    def __init__(self): self.a = nn.Parameter(torch.ones(3))\n",
        "\n",
        "L(T().parameters())"
      ]
    },
    {
      "cell_type": "markdown",
      "metadata": {
        "id": "EPLsYWt-lETu"
      },
      "source": [
        "All PyTorch modules use `nn.Parameter` for any trainable parameters, which is why we haven't needed to explicitly use this wrapper up until now:"
      ]
    },
    {
      "cell_type": "code",
      "execution_count": 39,
      "metadata": {
        "colab": {
          "base_uri": "https://localhost:8080/"
        },
        "id": "jV1q3GWklETu",
        "outputId": "c125d464-1bf4-4b9f-fbb0-664c16f39b6f"
      },
      "outputs": [
        {
          "output_type": "execute_result",
          "data": {
            "text/plain": [
              "(#1) [Parameter containing:\n",
              "tensor([[-0.6819],\n",
              "        [ 0.2503],\n",
              "        [-0.5694]], requires_grad=True)]"
            ]
          },
          "metadata": {},
          "execution_count": 39
        }
      ],
      "source": [
        "class T(Module):\n",
        "    def __init__(self): self.a = nn.Linear(1, 3, bias=False)\n",
        "\n",
        "t = T()\n",
        "L(t.parameters())"
      ]
    },
    {
      "cell_type": "code",
      "execution_count": 40,
      "metadata": {
        "colab": {
          "base_uri": "https://localhost:8080/"
        },
        "id": "w9E7hmuQlETu",
        "outputId": "1a0d05d0-d1ad-44f4-e3db-aa6d8aa76944"
      },
      "outputs": [
        {
          "output_type": "execute_result",
          "data": {
            "text/plain": [
              "torch.nn.parameter.Parameter"
            ]
          },
          "metadata": {},
          "execution_count": 40
        }
      ],
      "source": [
        "type(t.a.weight)"
      ]
    },
    {
      "cell_type": "markdown",
      "metadata": {
        "id": "o7yqCEaslETu"
      },
      "source": [
        "We can create a tensor as a parameter, with random initialization, like so:"
      ]
    },
    {
      "cell_type": "code",
      "execution_count": 41,
      "metadata": {
        "id": "8scXJoDTlETu"
      },
      "outputs": [],
      "source": [
        "def create_params(size):\n",
        "    return nn.Parameter(torch.zeros(*size).normal_(0, 0.01))"
      ]
    },
    {
      "cell_type": "markdown",
      "metadata": {
        "id": "mLiOc1sblETu"
      },
      "source": [
        "Let's use this to create `DotProductBias` again, but without `Embedding`:"
      ]
    },
    {
      "cell_type": "code",
      "execution_count": 42,
      "metadata": {
        "id": "60WH6JiBlETu"
      },
      "outputs": [],
      "source": [
        "class DotProductBias(Module):\n",
        "    def __init__(self, n_users, n_movies, n_factors, y_range=(0,5.5)):\n",
        "        self.user_factors = create_params([n_users, n_factors])\n",
        "        self.user_bias = create_params([n_users])\n",
        "        self.movie_factors = create_params([n_movies, n_factors])\n",
        "        self.movie_bias = create_params([n_movies])\n",
        "        self.y_range = y_range\n",
        "        \n",
        "    def forward(self, x):\n",
        "        users = self.user_factors[x[:,0]]\n",
        "        movies = self.movie_factors[x[:,1]]\n",
        "        res = (users*movies).sum(dim=1)\n",
        "        res += self.user_bias[x[:,0]] + self.movie_bias[x[:,1]]\n",
        "        return sigmoid_range(res, *self.y_range)"
      ]
    },
    {
      "cell_type": "markdown",
      "metadata": {
        "id": "Qq1egtbGlETv"
      },
      "source": [
        "Then let's train it again to check we get around the same results we saw in the previous section:"
      ]
    },
    {
      "cell_type": "code",
      "execution_count": 43,
      "metadata": {
        "colab": {
          "base_uri": "https://localhost:8080/",
          "height": 206
        },
        "id": "80Fum4ErlETv",
        "outputId": "6f1aefc1-f4a4-4803-974a-a4d342f8fad5"
      },
      "outputs": [
        {
          "output_type": "display_data",
          "data": {
            "text/plain": [
              "<IPython.core.display.HTML object>"
            ],
            "text/html": [
              "\n",
              "<style>\n",
              "    /* Turns off some styling */\n",
              "    progress {\n",
              "        /* gets rid of default border in Firefox and Opera. */\n",
              "        border: none;\n",
              "        /* Needs to be in here for Safari polyfill so background images work as expected. */\n",
              "        background-size: auto;\n",
              "    }\n",
              "    .progress-bar-interrupted, .progress-bar-interrupted::-webkit-progress-bar {\n",
              "        background: #F44336;\n",
              "    }\n",
              "</style>\n"
            ]
          },
          "metadata": {}
        },
        {
          "output_type": "display_data",
          "data": {
            "text/plain": [
              "<IPython.core.display.HTML object>"
            ],
            "text/html": [
              "<table border=\"1\" class=\"dataframe\">\n",
              "  <thead>\n",
              "    <tr style=\"text-align: left;\">\n",
              "      <th>epoch</th>\n",
              "      <th>train_loss</th>\n",
              "      <th>valid_loss</th>\n",
              "      <th>time</th>\n",
              "    </tr>\n",
              "  </thead>\n",
              "  <tbody>\n",
              "    <tr>\n",
              "      <td>0</td>\n",
              "      <td>0.938666</td>\n",
              "      <td>0.913466</td>\n",
              "      <td>00:03</td>\n",
              "    </tr>\n",
              "    <tr>\n",
              "      <td>1</td>\n",
              "      <td>0.786084</td>\n",
              "      <td>0.817585</td>\n",
              "      <td>00:03</td>\n",
              "    </tr>\n",
              "    <tr>\n",
              "      <td>2</td>\n",
              "      <td>0.592795</td>\n",
              "      <td>0.792088</td>\n",
              "      <td>00:03</td>\n",
              "    </tr>\n",
              "    <tr>\n",
              "      <td>3</td>\n",
              "      <td>0.421695</td>\n",
              "      <td>0.789840</td>\n",
              "      <td>00:03</td>\n",
              "    </tr>\n",
              "    <tr>\n",
              "      <td>4</td>\n",
              "      <td>0.335566</td>\n",
              "      <td>0.791822</td>\n",
              "      <td>00:03</td>\n",
              "    </tr>\n",
              "  </tbody>\n",
              "</table>"
            ]
          },
          "metadata": {}
        }
      ],
      "source": [
        "model = DotProductBias(n_users, n_movies, 50)\n",
        "learn = Learner(dls, model, loss_func=MSELossFlat())\n",
        "learn.fit_one_cycle(5, 5e-3, wd=0.1)"
      ]
    },
    {
      "cell_type": "markdown",
      "metadata": {
        "id": "0lXMvv57lETv"
      },
      "source": [
        "Now, let's take a look at what our model has learned."
      ]
    },
    {
      "cell_type": "markdown",
      "metadata": {
        "id": "hdOC6qnxlETv"
      },
      "source": [
        "## Interpreting Embeddings and Biases"
      ]
    },
    {
      "cell_type": "markdown",
      "metadata": {
        "id": "1-LvcQrjlETv"
      },
      "source": [
        "Our model is already useful, in that it can provide us with movie recommendations for our users—but it is also interesting to see what parameters it has discovered. The easiest to interpret are the biases. Here are the movies with the lowest values in the bias vector:"
      ]
    },
    {
      "cell_type": "code",
      "execution_count": 44,
      "metadata": {
        "id": "RU2SBsVylETv",
        "colab": {
          "base_uri": "https://localhost:8080/"
        },
        "outputId": "b97320a1-567f-4818-be48-d8d43b9f1b98"
      },
      "outputs": [
        {
          "output_type": "execute_result",
          "data": {
            "text/plain": [
              "['Transamerica',\n",
              " 'Dr. Cyclops',\n",
              " '8 Mile',\n",
              " 'Chinatown',\n",
              " 'Funeral Parade of Roses']"
            ]
          },
          "metadata": {},
          "execution_count": 44
        }
      ],
      "source": [
        "movie_bias = learn.model.movie_bias.squeeze()\n",
        "idxs = movie_bias.argsort()[:5]\n",
        "[dls.classes['title'][i] for i in idxs]"
      ]
    },
    {
      "cell_type": "markdown",
      "metadata": {
        "id": "a9IKkYN4lETv"
      },
      "source": [
        "Think about what this means. What it's saying is that for each of these movies, even when a user is very well matched to its latent factors (which, as we will see in a moment, tend to represent things like level of action, age of movie, and so forth), they still generally don't like it. We could have simply sorted the movies directly by their average rating, but looking at the learned bias tells us something much more interesting. It tells us not just whether a movie is of a kind that people tend not to enjoy watching, but that people tend not to like watching it even if it is of a kind that they would otherwise enjoy! By the same token, here are the movies with the highest bias:"
      ]
    },
    {
      "cell_type": "code",
      "execution_count": 45,
      "metadata": {
        "id": "EPIEYBALlETw",
        "colab": {
          "base_uri": "https://localhost:8080/"
        },
        "outputId": "06118674-d2df-4adf-a3fd-c2d80a6cfe75"
      },
      "outputs": [
        {
          "output_type": "execute_result",
          "data": {
            "text/plain": [
              "['The Million Dollar Hotel',\n",
              " 'Sleepless in Seattle',\n",
              " 'Terminator 3: Rise of the Machines',\n",
              " 'Solaris',\n",
              " 'Local Color']"
            ]
          },
          "metadata": {},
          "execution_count": 45
        }
      ],
      "source": [
        "idxs = movie_bias.argsort(descending=True)[:5]\n",
        "[dls.classes['title'][i] for i in idxs]"
      ]
    },
    {
      "cell_type": "markdown",
      "metadata": {
        "id": "U5wWm4l1lETw"
      },
      "source": [
        "So, for instance, even if you don't normally enjoy detective movies, you might enjoy *LA Confidential*!\n",
        "\n",
        "It is not quite so easy to directly interpret the embedding matrices. There are just too many factors for a human to look at. But there is a technique that can pull out the most important underlying *directions* in such a matrix, called *principal component analysis* (PCA). We will not be going into this in detail in this book, because it is not particularly important for you to understand to be a deep learning practitioner, but if you are interested then we suggest you check out the fast.ai course [Computational Linear Algebra for Coders](https://github.com/fastai/numerical-linear-algebra). <<img_pca_movie>> shows what our movies look like based on two of the strongest PCA components."
      ]
    },
    {
      "cell_type": "code",
      "execution_count": 46,
      "metadata": {
        "id": "SDDd_iALlETw",
        "colab": {
          "base_uri": "https://localhost:8080/",
          "height": 701
        },
        "outputId": "8908216c-9aa9-47f9-bab6-04cca8049841"
      },
      "outputs": [
        {
          "output_type": "display_data",
          "data": {
            "text/plain": [
              "<Figure size 864x864 with 1 Axes>"
            ],
            "image/png": "[encoded data removed]"
          },
          "metadata": {
            "needs_background": "light"
          }
        }
      ],
      "source": [
        "#hide_input\n",
        "#id img_pca_movie\n",
        "#caption Representation of movies based on two strongest PCA components\n",
        "#alt Representation of movies based on two strongest PCA components\n",
        "g = ratings.groupby('title')['rating'].count()\n",
        "top_movies = g.sort_values(ascending=False).index.values[:1000]\n",
        "top_idxs = tensor([learn.dls.classes['title'].o2i[m] for m in top_movies])\n",
        "movie_w = learn.model.movie_factors[top_idxs].cpu().detach()\n",
        "movie_pca = movie_w.pca(3)\n",
        "fac0,fac1,fac2 = movie_pca.t()\n",
        "idxs = list(range(50))\n",
        "X = fac0[idxs]\n",
        "Y = fac2[idxs]\n",
        "plt.figure(figsize=(12,12))\n",
        "plt.scatter(X, Y)\n",
        "for i, x, y in zip(top_movies[idxs], X, Y):\n",
        "    plt.text(x,y,i, color=np.random.rand(3)*0.7, fontsize=11)\n",
        "plt.show()"
      ]
    },
    {
      "cell_type": "markdown",
      "metadata": {
        "id": "2Kw0H2y0lETw"
      },
      "source": [
        "We can see here that the model seems to have discovered a concept of *classic* versus *pop culture* movies, or perhaps it is *critically acclaimed* that is represented here."
      ]
    },
    {
      "cell_type": "markdown",
      "metadata": {
        "id": "R-s411j3lETw"
      },
      "source": [
        "> j: No matter how many models I train, I never stop getting moved and surprised by how these randomly initialized bunches of numbers, trained with such simple mechanics, manage to discover things about my data all by themselves. It almost seems like cheating, that I can create code that does useful things without ever actually telling it how to do those things!"
      ]
    },
    {
      "cell_type": "markdown",
      "metadata": {
        "id": "wyXzseWflETw"
      },
      "source": [
        "We defined our model from scratch to teach you what is inside, but you can directly use the fastai library to build it. We'll look at how to do that next."
      ]
    },
    {
      "cell_type": "markdown",
      "metadata": {
        "id": "Daoj58KZlETw"
      },
      "source": [
        "### Using fastai.collab"
      ]
    },
    {
      "cell_type": "markdown",
      "metadata": {
        "id": "jfs9w-WrlETx"
      },
      "source": [
        "We can create and train a collaborative filtering model using the exact structure shown earlier by using fastai's `collab_learner`:"
      ]
    },
    {
      "cell_type": "code",
      "execution_count": 47,
      "metadata": {
        "id": "YfXXUjR1lETx"
      },
      "outputs": [],
      "source": [
        "learn = collab_learner(dls, n_factors=50, y_range=(0, 5.5))"
      ]
    },
    {
      "cell_type": "code",
      "execution_count": 48,
      "metadata": {
        "id": "-tzbGeZvlETx",
        "colab": {
          "base_uri": "https://localhost:8080/",
          "height": 206
        },
        "outputId": "a41abfb4-3126-4c90-a123-1fd09d8c4b23"
      },
      "outputs": [
        {
          "output_type": "display_data",
          "data": {
            "text/plain": [
              "<IPython.core.display.HTML object>"
            ],
            "text/html": [
              "\n",
              "<style>\n",
              "    /* Turns off some styling */\n",
              "    progress {\n",
              "        /* gets rid of default border in Firefox and Opera. */\n",
              "        border: none;\n",
              "        /* Needs to be in here for Safari polyfill so background images work as expected. */\n",
              "        background-size: auto;\n",
              "    }\n",
              "    .progress-bar-interrupted, .progress-bar-interrupted::-webkit-progress-bar {\n",
              "        background: #F44336;\n",
              "    }\n",
              "</style>\n"
            ]
          },
          "metadata": {}
        },
        {
          "output_type": "display_data",
          "data": {
            "text/plain": [
              "<IPython.core.display.HTML object>"
            ],
            "text/html": [
              "<table border=\"1\" class=\"dataframe\">\n",
              "  <thead>\n",
              "    <tr style=\"text-align: left;\">\n",
              "      <th>epoch</th>\n",
              "      <th>train_loss</th>\n",
              "      <th>valid_loss</th>\n",
              "      <th>time</th>\n",
              "    </tr>\n",
              "  </thead>\n",
              "  <tbody>\n",
              "    <tr>\n",
              "      <td>0</td>\n",
              "      <td>0.925120</td>\n",
              "      <td>0.907550</td>\n",
              "      <td>00:03</td>\n",
              "    </tr>\n",
              "    <tr>\n",
              "      <td>1</td>\n",
              "      <td>0.747182</td>\n",
              "      <td>0.814353</td>\n",
              "      <td>00:03</td>\n",
              "    </tr>\n",
              "    <tr>\n",
              "      <td>2</td>\n",
              "      <td>0.587149</td>\n",
              "      <td>0.783300</td>\n",
              "      <td>00:03</td>\n",
              "    </tr>\n",
              "    <tr>\n",
              "      <td>3</td>\n",
              "      <td>0.418426</td>\n",
              "      <td>0.782772</td>\n",
              "      <td>00:03</td>\n",
              "    </tr>\n",
              "    <tr>\n",
              "      <td>4</td>\n",
              "      <td>0.328957</td>\n",
              "      <td>0.784153</td>\n",
              "      <td>00:03</td>\n",
              "    </tr>\n",
              "  </tbody>\n",
              "</table>"
            ]
          },
          "metadata": {}
        }
      ],
      "source": [
        "learn.fit_one_cycle(5, 5e-3, wd=0.1)"
      ]
    },
    {
      "cell_type": "markdown",
      "metadata": {
        "id": "Xfib5bBGlETx"
      },
      "source": [
        "The names of the layers can be seen by printing the model:"
      ]
    },
    {
      "cell_type": "code",
      "execution_count": 49,
      "metadata": {
        "id": "P3jpV6SilETx",
        "colab": {
          "base_uri": "https://localhost:8080/"
        },
        "outputId": "9b00b3d6-8d2f-470b-b06d-dc97788fdb3a"
      },
      "outputs": [
        {
          "output_type": "execute_result",
          "data": {
            "text/plain": [
              "EmbeddingDotBias(\n",
              "  (u_weight): Embedding(672, 50)\n",
              "  (i_weight): Embedding(2795, 50)\n",
              "  (u_bias): Embedding(672, 1)\n",
              "  (i_bias): Embedding(2795, 1)\n",
              ")"
            ]
          },
          "metadata": {},
          "execution_count": 49
        }
      ],
      "source": [
        "learn.model"
      ]
    },
    {
      "cell_type": "markdown",
      "metadata": {
        "id": "yGzPdK9vlETx"
      },
      "source": [
        "We can use these to replicate any of the analyses we did in the previous section—for instance:"
      ]
    },
    {
      "cell_type": "code",
      "execution_count": 50,
      "metadata": {
        "id": "xdSXIjqBlETx",
        "colab": {
          "base_uri": "https://localhost:8080/"
        },
        "outputId": "f64baabc-178d-4fda-9e24-3e47d89071a1"
      },
      "outputs": [
        {
          "output_type": "execute_result",
          "data": {
            "text/plain": [
              "['The Million Dollar Hotel',\n",
              " 'Sleepless in Seattle',\n",
              " 'Solaris',\n",
              " 'Terminator 3: Rise of the Machines',\n",
              " 'The 39 Steps']"
            ]
          },
          "metadata": {},
          "execution_count": 50
        }
      ],
      "source": [
        "movie_bias = learn.model.i_bias.weight.squeeze()\n",
        "idxs = movie_bias.argsort(descending=True)[:5]\n",
        "[dls.classes['title'][i] for i in idxs]"
      ]
    },
    {
      "cell_type": "markdown",
      "metadata": {
        "id": "zWJnCPTJlETy"
      },
      "source": [
        "Another interesting thing we can do with these learned embeddings is to look at _distance_."
      ]
    },
    {
      "cell_type": "markdown",
      "metadata": {
        "id": "Cs0y6HXTlETy"
      },
      "source": [
        "### Embedding Distance"
      ]
    },
    {
      "cell_type": "markdown",
      "metadata": {
        "id": "w2RPPVhklETy"
      },
      "source": [
        "On a two-dimensional map we can calculate the distance between two coordinates using the formula of Pythagoras: $\\sqrt{x^{2}+y^{2}}$ (assuming that *x* and *y* are the distances between the coordinates on each axis). For a 50-dimensional embedding we can do exactly the same thing, except that we add up the squares of all 50 of the coordinate distances.\n",
        "\n",
        "If there were two movies that were nearly identical, then their embedding vectors would also have to be nearly identical, because the users that would like them would be nearly exactly the same. There is a more general idea here: movie similarity can be defined by the similarity of users that like those movies. And that directly means that the distance between two movies' embedding vectors can define that similarity. We can use this to find the most similar movie to *Silence of the Lambs*:"
      ]
    },
    {
      "cell_type": "code",
      "execution_count": 51,
      "metadata": {
        "id": "nhSPi7xJlETy",
        "colab": {
          "base_uri": "https://localhost:8080/",
          "height": 35
        },
        "outputId": "0cbeabcd-f893-4780-bf2e-ec9e655643f2"
      },
      "outputs": [
        {
          "output_type": "execute_result",
          "data": {
            "text/plain": [
              "'!Women Art Revolution'"
            ],
            "application/vnd.google.colaboratory.intrinsic+json": {
              "type": "string"
            }
          },
          "metadata": {},
          "execution_count": 51
        }
      ],
      "source": [
        "movie_factors = learn.model.i_weight.weight\n",
        "idx = dls.classes['title'].o2i['Silence of the Lambs, The (1991)']\n",
        "distances = nn.CosineSimilarity(dim=1)(movie_factors, movie_factors[idx][None])\n",
        "idx = distances.argsort(descending=True)[1]\n",
        "dls.classes['title'][idx]"
      ]
    },
    {
      "cell_type": "markdown",
      "metadata": {
        "id": "NvTjbLYilETy"
      },
      "source": [
        "Now that we have succesfully trained a model, let's see how to deal with the situation where we have no data for a user. How can we make recommendations to new users?"
      ]
    },
    {
      "cell_type": "markdown",
      "metadata": {
        "id": "iVAqsO-NlETy"
      },
      "source": [
        "## Bootstrapping a Collaborative Filtering Model"
      ]
    },
    {
      "cell_type": "markdown",
      "metadata": {
        "id": "Ni1z_RIElETz"
      },
      "source": [
        "The biggest challenge with using collaborative filtering models in practice is the *bootstrapping problem*. The most extreme version of this problem is when you have no users, and therefore no history to learn from. What products do you recommend to your very first user?\n",
        "\n",
        "But even if you are a well-established company with a long history of user transactions, you still have the question: what do you do when a new user signs up? And indeed, what do you do when you add a new product to your portfolio? There is no magic solution to this problem, and really the solutions that we suggest are just variations of *use your common sense*. You could assign new users the mean of all of the embedding vectors of your other users, but this has the problem that that particular combination of latent factors may be not at all common (for instance, the average for the science-fiction factor may be high, and the average for the action factor may be low, but it is not that common to find people who like science-fiction without action). Better would probably be to pick some particular user to represent *average taste*.\n",
        "\n",
        "Better still is to use a tabular model based on user meta data to construct your initial embedding vector. When a user signs up, think about what questions you could ask them that could help you to understand their tastes. Then you can create a model where the dependent variable is a user's embedding vector, and the independent variables are the results of the questions that you ask them, along with their signup metadata. We will see in the next section how to create these kinds of tabular models. (You may have noticed that when you sign up for services such as Pandora and Netflix, they tend to ask you a few questions about what genres of movie or music you like; this is how they come up with your initial collaborative filtering recommendations.)"
      ]
    },
    {
      "cell_type": "markdown",
      "metadata": {
        "id": "gc0vxTw2lETz"
      },
      "source": [
        "One thing to be careful of is that a small number of extremely enthusiastic users may end up effectively setting the recommendations for your whole user base. This is a very common problem, for instance, in movie recommendation systems. People that watch anime tend to watch a whole lot of it, and don't watch very much else, and spend a lot of time putting their ratings on websites. As a result, anime tends to be heavily overrepresented in a lot of *best ever movies* lists. In this particular case, it can be fairly obvious that you have a problem of representation bias, but if the bias is occurring in the latent factors then it may not be obvious at all.\n",
        "\n",
        "Such a problem can change the entire makeup of your user base, and the behavior of your system. This is particularly true because of positive feedback loops. If a small number of your users tend to set the direction of your recommendation system, then they are naturally going to end up attracting more people like them to your system. And that will, of course, amplify the original representation bias. This type of bias has a natural tendency to be amplified exponentially. You may have seen examples of company executives expressing surprise at how their online platforms rapidly deteriorated in such a way that they expressed values at odds with the values of the founders. In the presence of these kinds of feedback loops, it is easy to see how such a divergence can happen both quickly and in a way that is hidden until it is too late.\n",
        "\n",
        "In a self-reinforcing system like this, we should probably expect these kinds of feedback loops to be the norm, not the exception. Therefore, you should assume that you will see them, plan for that, and identify up front how you will deal with these issues. Try to think about all of the ways in which feedback loops may be represented in your system, and how you might be able to identify them in your data. In the end, this is coming back to our original advice about how to avoid disaster when rolling out any kind of machine learning system. It's all about ensuring that there are humans in the loop; that there is careful monitoring, and a gradual and thoughtful rollout."
      ]
    },
    {
      "cell_type": "markdown",
      "metadata": {
        "id": "cGR9rA14lETz"
      },
      "source": [
        "Our dot product model works quite well, and it is the basis of many successful real-world recommendation systems. This approach to collaborative filtering is known as *probabilistic matrix factorization* (PMF). Another approach, which generally works similarly well given the same data, is deep learning."
      ]
    },
    {
      "cell_type": "markdown",
      "metadata": {
        "id": "actPCvuClETz"
      },
      "source": [
        "## Deep Learning for Collaborative Filtering"
      ]
    },
    {
      "cell_type": "markdown",
      "metadata": {
        "id": "AhXNo0wQlETz"
      },
      "source": [
        "To turn our architecture into a deep learning model, the first step is to take the results of the embedding lookup and concatenate those activations together. This gives us a matrix which we can then pass through linear layers and nonlinearities in the usual way.\n",
        "\n",
        "Since we'll be concatenating the embeddings, rather than taking their dot product, the two embedding matrices can have different sizes (i.e., different numbers of latent factors). fastai has a function `get_emb_sz` that returns recommended sizes for embedding matrices for your data, based on a heuristic that fast.ai has found tends to work well in practice:"
      ]
    },
    {
      "cell_type": "code",
      "execution_count": 52,
      "metadata": {
        "id": "PBUFPAqPlETz",
        "colab": {
          "base_uri": "https://localhost:8080/"
        },
        "outputId": "33792441-de35-4c4a-cf7b-f22fc7163f76"
      },
      "outputs": [
        {
          "output_type": "execute_result",
          "data": {
            "text/plain": [
              "[(672, 61), (2795, 136)]"
            ]
          },
          "metadata": {},
          "execution_count": 52
        }
      ],
      "source": [
        "embs = get_emb_sz(dls)\n",
        "embs"
      ]
    },
    {
      "cell_type": "markdown",
      "metadata": {
        "id": "3TzGR4BSlETz"
      },
      "source": [
        "Let's implement this class:"
      ]
    },
    {
      "cell_type": "code",
      "execution_count": 53,
      "metadata": {
        "id": "ruHvNCQZlET0"
      },
      "outputs": [],
      "source": [
        "class CollabNN(Module):\n",
        "    def __init__(self, user_sz, item_sz, y_range=(0,5.5), n_act=100):\n",
        "        self.user_factors = Embedding(*user_sz)\n",
        "        self.item_factors = Embedding(*item_sz)\n",
        "        self.layers = nn.Sequential(\n",
        "            nn.Linear(user_sz[1]+item_sz[1], n_act),\n",
        "            nn.ReLU(),\n",
        "            nn.Linear(n_act, 1))\n",
        "        self.y_range = y_range\n",
        "        \n",
        "    def forward(self, x):\n",
        "        embs = self.user_factors(x[:,0]),self.item_factors(x[:,1])\n",
        "        x = self.layers(torch.cat(embs, dim=1))\n",
        "        return sigmoid_range(x, *self.y_range)"
      ]
    },
    {
      "cell_type": "markdown",
      "metadata": {
        "id": "GiI3l0aklET0"
      },
      "source": [
        "And use it to create a model:"
      ]
    },
    {
      "cell_type": "code",
      "execution_count": 54,
      "metadata": {
        "id": "BXFZPSCVlET0"
      },
      "outputs": [],
      "source": [
        "model = CollabNN(*embs)"
      ]
    },
    {
      "cell_type": "markdown",
      "metadata": {
        "id": "zWKjJMAtlET0"
      },
      "source": [
        "`CollabNN` creates our `Embedding` layers in the same way as previous classes in this chapter, except that we now use the `embs` sizes. `self.layers` is identical to the mini-neural net we created in <<chapter_mnist_basics>> for MNIST. Then, in `forward`, we apply the embeddings, concatenate the results, and pass this through the mini-neural net. Finally, we apply `sigmoid_range` as we have in previous models.\n",
        "\n",
        "Let's see if it trains:"
      ]
    },
    {
      "cell_type": "code",
      "execution_count": 55,
      "metadata": {
        "id": "e2DAh0-7lET0",
        "colab": {
          "base_uri": "https://localhost:8080/",
          "height": 206
        },
        "outputId": "182fb864-6bc5-43e1-87a7-845438be85f7"
      },
      "outputs": [
        {
          "output_type": "display_data",
          "data": {
            "text/plain": [
              "<IPython.core.display.HTML object>"
            ],
            "text/html": [
              "\n",
              "<style>\n",
              "    /* Turns off some styling */\n",
              "    progress {\n",
              "        /* gets rid of default border in Firefox and Opera. */\n",
              "        border: none;\n",
              "        /* Needs to be in here for Safari polyfill so background images work as expected. */\n",
              "        background-size: auto;\n",
              "    }\n",
              "    .progress-bar-interrupted, .progress-bar-interrupted::-webkit-progress-bar {\n",
              "        background: #F44336;\n",
              "    }\n",
              "</style>\n"
            ]
          },
          "metadata": {}
        },
        {
          "output_type": "display_data",
          "data": {
            "text/plain": [
              "<IPython.core.display.HTML object>"
            ],
            "text/html": [
              "<table border=\"1\" class=\"dataframe\">\n",
              "  <thead>\n",
              "    <tr style=\"text-align: left;\">\n",
              "      <th>epoch</th>\n",
              "      <th>train_loss</th>\n",
              "      <th>valid_loss</th>\n",
              "      <th>time</th>\n",
              "    </tr>\n",
              "  </thead>\n",
              "  <tbody>\n",
              "    <tr>\n",
              "      <td>0</td>\n",
              "      <td>0.852016</td>\n",
              "      <td>0.860660</td>\n",
              "      <td>00:04</td>\n",
              "    </tr>\n",
              "    <tr>\n",
              "      <td>1</td>\n",
              "      <td>0.790222</td>\n",
              "      <td>0.812103</td>\n",
              "      <td>00:04</td>\n",
              "    </tr>\n",
              "    <tr>\n",
              "      <td>2</td>\n",
              "      <td>0.759498</td>\n",
              "      <td>0.800926</td>\n",
              "      <td>00:04</td>\n",
              "    </tr>\n",
              "    <tr>\n",
              "      <td>3</td>\n",
              "      <td>0.680409</td>\n",
              "      <td>0.796115</td>\n",
              "      <td>00:04</td>\n",
              "    </tr>\n",
              "    <tr>\n",
              "      <td>4</td>\n",
              "      <td>0.623767</td>\n",
              "      <td>0.802664</td>\n",
              "      <td>00:04</td>\n",
              "    </tr>\n",
              "  </tbody>\n",
              "</table>"
            ]
          },
          "metadata": {}
        }
      ],
      "source": [
        "learn = Learner(dls, model, loss_func=MSELossFlat())\n",
        "learn.fit_one_cycle(5, 5e-3, wd=0.01)"
      ]
    },
    {
      "cell_type": "markdown",
      "metadata": {
        "id": "oTeN-Hd0lET1"
      },
      "source": [
        "fastai provides this model in `fastai.collab` if you pass `use_nn=True` in your call to `collab_learner` (including calling `get_emb_sz` for you), and it lets you easily create more layers. For instance, here we're creating two hidden layers, of size 100 and 50, respectively:"
      ]
    },
    {
      "cell_type": "code",
      "execution_count": 56,
      "metadata": {
        "id": "OZjUWkj-lET1",
        "colab": {
          "base_uri": "https://localhost:8080/",
          "height": 206
        },
        "outputId": "310625ee-25f3-45d6-be9a-aa840673bd5b"
      },
      "outputs": [
        {
          "output_type": "display_data",
          "data": {
            "text/plain": [
              "<IPython.core.display.HTML object>"
            ],
            "text/html": [
              "\n",
              "<style>\n",
              "    /* Turns off some styling */\n",
              "    progress {\n",
              "        /* gets rid of default border in Firefox and Opera. */\n",
              "        border: none;\n",
              "        /* Needs to be in here for Safari polyfill so background images work as expected. */\n",
              "        background-size: auto;\n",
              "    }\n",
              "    .progress-bar-interrupted, .progress-bar-interrupted::-webkit-progress-bar {\n",
              "        background: #F44336;\n",
              "    }\n",
              "</style>\n"
            ]
          },
          "metadata": {}
        },
        {
          "output_type": "display_data",
          "data": {
            "text/plain": [
              "<IPython.core.display.HTML object>"
            ],
            "text/html": [
              "<table border=\"1\" class=\"dataframe\">\n",
              "  <thead>\n",
              "    <tr style=\"text-align: left;\">\n",
              "      <th>epoch</th>\n",
              "      <th>train_loss</th>\n",
              "      <th>valid_loss</th>\n",
              "      <th>time</th>\n",
              "    </tr>\n",
              "  </thead>\n",
              "  <tbody>\n",
              "    <tr>\n",
              "      <td>0</td>\n",
              "      <td>0.941921</td>\n",
              "      <td>0.920933</td>\n",
              "      <td>00:04</td>\n",
              "    </tr>\n",
              "    <tr>\n",
              "      <td>1</td>\n",
              "      <td>0.870799</td>\n",
              "      <td>0.861957</td>\n",
              "      <td>00:04</td>\n",
              "    </tr>\n",
              "    <tr>\n",
              "      <td>2</td>\n",
              "      <td>0.763934</td>\n",
              "      <td>0.799470</td>\n",
              "      <td>00:04</td>\n",
              "    </tr>\n",
              "    <tr>\n",
              "      <td>3</td>\n",
              "      <td>0.693443</td>\n",
              "      <td>0.787184</td>\n",
              "      <td>00:04</td>\n",
              "    </tr>\n",
              "    <tr>\n",
              "      <td>4</td>\n",
              "      <td>0.620951</td>\n",
              "      <td>0.802109</td>\n",
              "      <td>00:04</td>\n",
              "    </tr>\n",
              "  </tbody>\n",
              "</table>"
            ]
          },
          "metadata": {}
        }
      ],
      "source": [
        "learn = collab_learner(dls, use_nn=True, y_range=(0, 5.5), layers=[100,50])\n",
        "learn.fit_one_cycle(5, 5e-3, wd=0.1)"
      ]
    },
    {
      "cell_type": "markdown",
      "metadata": {
        "id": "sR7uQMzplET1"
      },
      "source": [
        "`learn.model` is an object of type `EmbeddingNN`. Let's take a look at fastai's code for this class:"
      ]
    },
    {
      "cell_type": "code",
      "execution_count": 57,
      "metadata": {
        "id": "W5cdntS_lET1"
      },
      "outputs": [],
      "source": [
        "@delegates(TabularModel)\n",
        "class EmbeddingNN(TabularModel):\n",
        "    def __init__(self, emb_szs, layers, **kwargs):\n",
        "        super().__init__(emb_szs, layers=layers, n_cont=0, out_sz=1, **kwargs)"
      ]
    },
    {
      "cell_type": "markdown",
      "metadata": {
        "id": "2sdtxbculET2"
      },
      "source": [
        "Wow, that's not a lot of code! This class *inherits* from `TabularModel`, which is where it gets all its functionality from. In `__init__` it calls the same method in `TabularModel`, passing `n_cont=0` and `out_sz=1`; other than that, it only passes along whatever arguments it received."
      ]
    },
    {
      "cell_type": "markdown",
      "metadata": {
        "id": "YaBbvSVnlET2"
      },
      "source": [
        "### Sidebar: kwargs and Delegates"
      ]
    },
    {
      "cell_type": "markdown",
      "metadata": {
        "id": "M1UH7oPnlET2"
      },
      "source": [
        "`EmbeddingNN` includes `**kwargs` as a parameter to `__init__`. In Python `**kwargs` in a parameter list means \"put any additional keyword arguments into a dict called `kwargs`. And `**kwargs` in an argument list means \"insert all key/value pairs in the `kwargs` dict as named arguments here\". This approach is used in many popular libraries, such as `matplotlib`, in which the main `plot` function simply has the signature `plot(*args, **kwargs)`. The [`plot` documentation](https://matplotlib.org/api/pyplot_api.html#matplotlib.pyplot.plot) says \"The `kwargs` are `Line2D` properties\" and then lists those properties.\n",
        "\n",
        "We're using `**kwargs` in `EmbeddingNN` to avoid having to write all the arguments to `TabularModel` a second time, and keep them in sync. However, this makes our API quite difficult to work with, because now Jupyter Notebook doesn't know what parameters are available. Consequently things like tab completion of parameter names and pop-up lists of signatures won't work.\n",
        "\n",
        "fastai resolves this by providing a special `@delegates` decorator, which automatically changes the signature of the class or function (`EmbeddingNN` in this case) to insert all of its keyword arguments into the signature."
      ]
    },
    {
      "cell_type": "markdown",
      "metadata": {
        "id": "rExSYO6YlET2"
      },
      "source": [
        "### End sidebar"
      ]
    },
    {
      "cell_type": "markdown",
      "metadata": {
        "id": "IbZ-0uCXlET2"
      },
      "source": [
        "Although the results of `EmbeddingNN` are a bit worse than the dot product approach (which shows the power of carefully constructing an architecture for a domain), it does allow us to do something very important: we can now directly incorporate other user and movie information, date and time information, or any other information that may be relevant to the recommendation. That's exactly what `TabularModel` does. In fact, we've now seen that `EmbeddingNN` is just a `TabularModel`, with `n_cont=0` and `out_sz=1`. So, we'd better spend some time learning about `TabularModel`, and how to use it to get great results! We'll do that in the next chapter."
      ]
    },
    {
      "cell_type": "markdown",
      "metadata": {
        "id": "jaTYlWm_lET2"
      },
      "source": [
        "## Conclusion"
      ]
    },
    {
      "cell_type": "markdown",
      "metadata": {
        "id": "afdUseh2lET3"
      },
      "source": [
        "For our first non-computer vision application, we looked at recommendation systems and saw how gradient descent can learn intrinsic factors or biases about items from a history of ratings. Those can then give us information about the data. \n",
        "\n",
        "We also built our first model in PyTorch. We will do a lot more of this in the next section of the book, but first, let's finish our dive into the other general applications of deep learning, continuing with tabular data."
      ]
    },
    {
      "cell_type": "markdown",
      "metadata": {
        "id": "mpjrkpEllET3"
      },
      "source": [
        "## Questionnaire"
      ]
    },
    {
      "cell_type": "markdown",
      "metadata": {
        "id": "6Jp1v7VtlET3"
      },
      "source": [
        "1. What problem does collaborative filtering solve?\n",
        "1. How does it solve it?\n",
        "1. Why might a collaborative filtering predictive model fail to be a very useful recommendation system?\n",
        "1. What does a crosstab representation of collaborative filtering data look like?\n",
        "1. Write the code to create a crosstab representation of the MovieLens data (you might need to do some web searching!).\n",
        "1. What is a latent factor? Why is it \"latent\"?\n",
        "1. What is a dot product? Calculate a dot product manually using pure Python with lists.\n",
        "1. What does `pandas.DataFrame.merge` do?\n",
        "1. What is an embedding matrix?\n",
        "1. What is the relationship between an embedding and a matrix of one-hot-encoded vectors?\n",
        "1. Why do we need `Embedding` if we could use one-hot-encoded vectors for the same thing?\n",
        "1. What does an embedding contain before we start training (assuming we're not using a pretained model)?\n",
        "1. Create a class (without peeking, if possible!) and use it.\n",
        "1. What does `x[:,0]` return?\n",
        "1. Rewrite the `DotProduct` class (without peeking, if possible!) and train a model with it.\n",
        "1. What is a good loss function to use for MovieLens? Why? \n",
        "1. What would happen if we used cross-entropy loss with MovieLens? How would we need to change the model?\n",
        "1. What is the use of bias in a dot product model?\n",
        "1. What is another name for weight decay?\n",
        "1. Write the equation for weight decay (without peeking!).\n",
        "1. Write the equation for the gradient of weight decay. Why does it help reduce weights?\n",
        "1. Why does reducing weights lead to better generalization?\n",
        "1. What does `argsort` do in PyTorch?\n",
        "1. Does sorting the movie biases give the same result as averaging overall movie ratings by movie? Why/why not?\n",
        "1. How do you print the names and details of the layers in a model?\n",
        "1. What is the \"bootstrapping problem\" in collaborative filtering?\n",
        "1. How could you deal with the bootstrapping problem for new users? For new movies?\n",
        "1. How can feedback loops impact collaborative filtering systems?\n",
        "1. When using a neural network in collaborative filtering, why can we have different numbers of factors for movies and users?\n",
        "1. Why is there an `nn.Sequential` in the `CollabNN` model?\n",
        "1. What kind of model should we use if we want to add metadata about users and items, or information such as date and time, to a collaborative filtering model?"
      ]
    },
    {
      "cell_type": "markdown",
      "metadata": {
        "id": "_C-dJ8UGlET3"
      },
      "source": [
        "### Further Research\n",
        "\n",
        "1. Take a look at all the differences between the `Embedding` version of `DotProductBias` and the `create_params` version, and try to understand why each of those changes is required. If you're not sure, try reverting each change to see what happens. (NB: even the type of brackets used in `forward` has changed!)\n",
        "1. Find three other areas where collaborative filtering is being used, and find out what the pros and cons of this approach are in those areas.\n",
        "1. Complete this notebook using the full MovieLens dataset, and compare your results to online benchmarks. See if you can improve your accuracy. Look on the book's website and the fast.ai forum for ideas. Note that there are more columns in the full dataset—see if you can use those too (the next chapter might give you ideas).\n",
        "1. Create a model for MovieLens that works with cross-entropy loss, and compare it to the model in this chapter."
      ]
    },
    {
      "cell_type": "code",
      "execution_count": 57,
      "metadata": {
        "id": "rlZwfyXNlET3"
      },
      "outputs": [],
      "source": [
        ""
      ]
    }
  ],
  "metadata": {
    "accelerator": "GPU",
    "colab": {
      "collapsed_sections": [
        "_C-dJ8UGlET3"
      ],
      "machine_shape": "hm",
      "name": "2022apr22.fast.ai.08_collab.ipynb",
      "provenance": [],
      "background_execution": "on",
      "include_colab_link": true
    },
    "jupytext": {
      "split_at_heading": true
    },
    "kernelspec": {
      "display_name": "Python 3",
      "language": "python",
      "name": "python3"
    }
  },
  "nbformat": 4,
  "nbformat_minor": 0
}